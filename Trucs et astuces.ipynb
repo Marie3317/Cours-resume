{
 "cells": [
  {
   "cell_type": "markdown",
   "id": "2cd39438-da75-4b40-ab3e-688786042c49",
   "metadata": {},
   "source": [
    "# Trucs et astuces"
   ]
  },
  {
   "cell_type": "markdown",
   "id": "073e9ccf-25a1-45da-aeb7-df5b2f6a592b",
   "metadata": {
    "tags": []
   },
   "source": [
    "## Divers"
   ]
  },
  {
   "cell_type": "raw",
   "id": "60804382-624c-45df-bac4-03e0e473c7b9",
   "metadata": {},
   "source": [
    "pandas : pd.read_(+ touche tab) = différents types de fichier"
   ]
  },
  {
   "cell_type": "raw",
   "id": "e4bad9d3-6ab7-43b2-bb2a-814e0aa7fe09",
   "metadata": {},
   "source": [
    "to_csv (+shift +tab) = sort la documentation"
   ]
  },
  {
   "cell_type": "raw",
   "id": "6891e4c5-c1d6-47b0-987b-775818f67918",
   "metadata": {},
   "source": [
    "df1 = df.copy()  = créer une copie indépendante"
   ]
  },
  {
   "cell_type": "raw",
   "id": "93227806-806b-4eb8-9bbb-6ccb965ea570",
   "metadata": {},
   "source": [
    "df.actors_list équivaut à df[\"actors_list\"]\n",
    "!!!! df.actors list n'équivaut pas à df[\"actors_list\"]"
   ]
  },
  {
   "cell_type": "raw",
   "id": "b895ac99-949d-4695-9e0a-bf8e56285325",
   "metadata": {},
   "source": [
    "affichage : \"l'acteur est Deniro !!!\"\n",
    "    print(f\"l'acteur est {top_acteur} !!!\n",
    "    print(\"l'acteur est\", top_acteur, \"!!!\") \n",
    "    print(\"l'acteur est {} !!!\".format(top_acteur))"
   ]
  },
  {
   "cell_type": "raw",
   "id": "4fe90a4f-7ea6-4965-8547-e92c3dfdc15f",
   "metadata": {},
   "source": [
    "# supprimer les 6 derniers caractères\n",
    "df['Horodate'] = df['Horodate'].str.slice(stop=-6)"
   ]
  },
  {
   "cell_type": "markdown",
   "id": "cb94aea2-7c15-412d-9616-ac659a9241cf",
   "metadata": {
    "tags": []
   },
   "source": [
    "## Ajouter deux listes :"
   ]
  },
  {
   "cell_type": "raw",
   "id": "633db099-ef73-4755-aacf-96c957cd58ce",
   "metadata": {},
   "source": [
    "+ : mais ! à être sûre de travailler avec nb ou liste\n",
    "extend : liste1.extend(liste2)"
   ]
  },
  {
   "cell_type": "markdown",
   "id": "ba9c7293-b859-4a3a-8d7a-f60a85994b0d",
   "metadata": {
    "tags": []
   },
   "source": [
    "## Savoir quel model de régression utiliser"
   ]
  },
  {
   "cell_type": "raw",
   "id": "8ad2ef7a-1fe5-40ff-b753-68ee1fbf3bfb",
   "metadata": {},
   "source": [
    "!pip install pycaret\n",
    "df = df.dropna()\n",
    "from pycaret.regression import *\n",
    "s = setup(df, target = \"nomcolonne\", session_id = 123)\n",
    "best = compare_models()\n",
    "lightgbm = create_model(\"lightgbm\")\n",
    "print(lightgbm)\n",
    "rf = create_model(\"rf\")\n",
    "print(rf)"
   ]
  },
  {
   "cell_type": "markdown",
   "id": "41df124d-8f88-4eb7-844b-1533746c6922",
   "metadata": {
    "tags": []
   },
   "source": [
    "## Skimpy (version du describe() en plus joli)"
   ]
  },
  {
   "cell_type": "code",
   "execution_count": null,
   "id": "a9d0198e-6af9-4cb3-93d7-e7176a26b9f2",
   "metadata": {},
   "outputs": [],
   "source": [
    "!pip install skimpy\n",
    "from skimpy import skim\n",
    "skim(df)"
   ]
  },
  {
   "cell_type": "markdown",
   "id": "26d0b376-df54-418a-9619-f4d3f34cfd43",
   "metadata": {
    "tags": []
   },
   "source": [
    "## ydata-profiling"
   ]
  },
  {
   "cell_type": "raw",
   "id": "ee5c1538-ba60-43aa-91d2-9fd842b18761",
   "metadata": {},
   "source": [
    "!pip install -U ydata-profiling\n",
    "import ydata_profiling\n",
    "from ydata_profiling import ProfileReport\n",
    "from ydata_profiling.utils.cache import cache_file\n",
    "\n",
    "\n",
    "profile = ProfileReport(df)\n",
    "profile.to_notebook_iframe();"
   ]
  },
  {
   "cell_type": "markdown",
   "id": "38d8399c-db94-4fd0-915c-51132e9e9169",
   "metadata": {},
   "source": [
    "# Ouvrir et enregistrer un fihier sur google colab"
   ]
  },
  {
   "cell_type": "raw",
   "id": "3899294c-693a-4500-bdfd-8f25f1c950e7",
   "metadata": {},
   "source": [
    "from google.colab import files\n",
    "files.upload()\n",
    "\n",
    "df.to_csv('df.csv')\n",
    "from google.colab import files\n",
    "files.download(\"df.csv\")"
   ]
  },
  {
   "cell_type": "markdown",
   "id": "27c63d56-e367-4c4a-9e7e-f508bc31e320",
   "metadata": {},
   "source": [
    "# Excel"
   ]
  },
  {
   "cell_type": "raw",
   "id": "c58f13f9-b022-4800-86f1-81624ce760a1",
   "metadata": {},
   "source": [
    "Clt + A => select all"
   ]
  }
 ],
 "metadata": {
  "kernelspec": {
   "display_name": "Python 3 (ipykernel)",
   "language": "python",
   "name": "python3"
  },
  "language_info": {
   "codemirror_mode": {
    "name": "ipython",
    "version": 3
   },
   "file_extension": ".py",
   "mimetype": "text/x-python",
   "name": "python",
   "nbconvert_exporter": "python",
   "pygments_lexer": "ipython3",
   "version": "3.10.9"
  },
  "toc-autonumbering": true
 },
 "nbformat": 4,
 "nbformat_minor": 5
}
