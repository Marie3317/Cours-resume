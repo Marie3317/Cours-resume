{
 "cells": [
  {
   "cell_type": "markdown",
   "id": "584dfd87-a17f-428e-855d-f54b40b93ec4",
   "metadata": {},
   "source": [
    "# BASES"
   ]
  },
  {
   "cell_type": "code",
   "execution_count": 1,
   "id": "059d41f0-fb2e-4849-aa83-cfce1f207305",
   "metadata": {},
   "outputs": [
    {
     "name": "stdout",
     "output_type": "stream",
     "text": [
      "txt1 : We are the so-called \"Vikings\" from the north.\n"
     ]
    }
   ],
   "source": [
    "# Mettre des guillemets dans une chaîne\n",
    "txt1 = \"We are the so-called \\\"Vikings\\\" from the north.\"\n",
    "print(\"txt1 :\", txt1)"
   ]
  },
  {
   "cell_type": "code",
   "execution_count": 2,
   "id": "170e0eb1-222d-4fae-923d-9d0ff5252171",
   "metadata": {},
   "outputs": [
    {
     "name": "stdout",
     "output_type": "stream",
     "text": [
      "txt2 : It's alright.\n"
     ]
    }
   ],
   "source": [
    "# Mettre une apostrophe dans une chaîne\n",
    "txt2 = 'It\\'s alright.'\n",
    "print(\"txt2 :\", txt2)"
   ]
  },
  {
   "cell_type": "code",
   "execution_count": 3,
   "id": "dab1c34c-552d-498e-a28f-3eaa7eeb8b85",
   "metadata": {},
   "outputs": [
    {
     "name": "stdout",
     "output_type": "stream",
     "text": [
      "txt3 : This will insert one \\ (backslash).\n"
     ]
    }
   ],
   "source": [
    "# Mettre un backslash dans une chaîne\n",
    "txt3 = \"This will insert one \\\\ (backslash).\"\n",
    "print(\"txt3 :\", txt3)"
   ]
  },
  {
   "cell_type": "code",
   "execution_count": 4,
   "id": "8779bfe2-5140-4b08-9ed0-d261f48796e8",
   "metadata": {},
   "outputs": [
    {
     "name": "stdout",
     "output_type": "stream",
     "text": [
      "txt4 : Hello\n",
      "World!\n"
     ]
    }
   ],
   "source": [
    "# Aller à la ligne dans une chaîne\n",
    "txt4 = \"Hello\\nWorld!\"\n",
    "print(\"txt4 :\", txt4)"
   ]
  },
  {
   "cell_type": "code",
   "execution_count": 5,
   "id": "53287c9e-c8d5-452b-9f06-bdb244ede878",
   "metadata": {},
   "outputs": [
    {
     "name": "stdout",
     "output_type": "stream",
     "text": [
      "txt5 : Hello\tWorld!\n"
     ]
    }
   ],
   "source": [
    "# Mettre une tabulation dans une chaîne\n",
    "txt5 = \"Hello\\tWorld!\"\n",
    "print(\"txt5 :\", txt5)"
   ]
  },
  {
   "cell_type": "code",
   "execution_count": 6,
   "id": "7c9fd63e-b40c-4890-b198-d88311ff9cda",
   "metadata": {},
   "outputs": [
    {
     "name": "stdout",
     "output_type": "stream",
     "text": [
      "txt6 : HelloWorld!\n"
     ]
    }
   ],
   "source": [
    "# Supprimer un caractère dans une chaîne\n",
    "txt6 = \"Hello \\bWorld!\"\n",
    "print(\"txt6 :\", txt6)"
   ]
  },
  {
   "cell_type": "code",
   "execution_count": 7,
   "id": "7331e353-92be-43b4-9109-c8b95161a891",
   "metadata": {},
   "outputs": [
    {
     "name": "stdout",
     "output_type": "stream",
     "text": [
      "txt7 : Hello\n"
     ]
    }
   ],
   "source": [
    "# Mettre une valeur octale dans une chaîne\n",
    "txt7 = \"\\110\\145\\154\\154\\157\"\n",
    "print(\"txt7 :\", txt7)"
   ]
  },
  {
   "cell_type": "code",
   "execution_count": 8,
   "id": "5b711ed1-83e5-44e2-8b60-75416b776237",
   "metadata": {},
   "outputs": [
    {
     "name": "stdout",
     "output_type": "stream",
     "text": [
      "txt8 : Hello\n"
     ]
    }
   ],
   "source": [
    "# Mettre une valeur hexadécimale dans une chaîne\n",
    "txt8 = \"\\x48\\x65\\x6c\\x6c\\x6f\"\n",
    "print(\"txt8 :\", txt8)"
   ]
  },
  {
   "cell_type": "code",
   "execution_count": 9,
   "id": "218462cb-eddc-4c2f-a3ae-91dd52b665e9",
   "metadata": {},
   "outputs": [
    {
     "name": "stdout",
     "output_type": "stream",
     "text": [
      "txt9 :\n",
      "b\n",
      "a\n",
      "n\n",
      "a\n",
      "n\n",
      "a\n",
      "\n"
     ]
    }
   ],
   "source": [
    "# Écrire à la verticale\n",
    "txt9 = \"\"\n",
    "for x in \"banana\":\n",
    "    txt9 += x + \"\\n\"\n",
    "print(\"txt9 :\\n\" + txt9)"
   ]
  },
  {
   "cell_type": "code",
   "execution_count": 10,
   "id": "90f55885-d60b-4e96-bf0e-ba09209d5562",
   "metadata": {},
   "outputs": [
    {
     "name": "stdout",
     "output_type": "stream",
     "text": [
      "bonjour\n",
      "bonjour\n",
      "bonjour\n",
      "bonjour\n",
      "bonjour\n",
      "\n"
     ]
    }
   ],
   "source": [
    "# fonction pour imprimer un texte x fois\n",
    "def print_x_times(text, x):\n",
    "    for i in range(x):\n",
    "        print(text)\n",
    "        \n",
    "# exemple d'utilisation de la fonction\n",
    "print_x_times(\"bonjour\", 5)\n",
    "print()"
   ]
  },
  {
   "cell_type": "code",
   "execution_count": 11,
   "id": "1afbd85f-4b67-4ccf-b8da-1ad9d1c3c366",
   "metadata": {},
   "outputs": [
    {
     "name": "stdout",
     "output_type": "stream",
     "text": [
      "0\n",
      "1\n",
      "2\n",
      "3\n",
      "4\n",
      "5\n",
      "6\n",
      "7\n",
      "8\n",
      "9\n",
      "\n"
     ]
    }
   ],
   "source": [
    "# fonction pour donner les nombres de x à y exclu\n",
    "def print_numbers_range(x, y):\n",
    "    for i in range(x, y):\n",
    "        print(i)\n",
    "        \n",
    "# exemple d'utilisation de la fonction\n",
    "print_numbers_range(0, 10)\n",
    "print()"
   ]
  },
  {
   "cell_type": "code",
   "execution_count": 12,
   "id": "a92a7e1a-74d5-4bc7-9628-9153422022db",
   "metadata": {},
   "outputs": [
    {
     "name": "stdout",
     "output_type": "stream",
     "text": [
      "0\n",
      "2\n",
      "4\n",
      "6\n",
      "8\n",
      "10\n",
      "12\n",
      "14\n",
      "16\n",
      "18\n",
      "20\n",
      "10\n",
      "9\n",
      "8\n",
      "7\n",
      "6\n",
      "5\n",
      "4\n",
      "3\n",
      "2\n",
      "1\n",
      "\n"
     ]
    }
   ],
   "source": [
    "# fonction pour donner les nombres de x à y exclu par pas de z\n",
    "def print_numbers_range_step(x, y, z):\n",
    "    for i in range(x, y, z):\n",
    "        print(i)\n",
    "        \n",
    "# exemple d'utilisation de la fonction\n",
    "print_numbers_range_step(0, 21, 2)\n",
    "print_numbers_range_step(10, 0, -1)\n",
    "print()"
   ]
  },
  {
   "cell_type": "code",
   "execution_count": 13,
   "id": "ef7e3efc-53d8-46b2-aef9-2788af0dfa9e",
   "metadata": {},
   "outputs": [
    {
     "name": "stdout",
     "output_type": "stream",
     "text": [
      "B\n",
      "l\n",
      "a\n",
      "n\n",
      "q\n",
      "u\n",
      "e\n",
      "t\n",
      "t\n",
      "e\n",
      "\n"
     ]
    }
   ],
   "source": [
    "# fonction pour écrire chaque élément d'un data type\n",
    "def print_data_type_elements(data_type):\n",
    "    for i in data_type:\n",
    "        print(i)\n",
    "        \n",
    "# exemple d'utilisation de la fonction\n",
    "print_data_type_elements(\"Blanquette\")\n",
    "print()"
   ]
  },
  {
   "cell_type": "code",
   "execution_count": 14,
   "id": "d1ae6804-e995-41bf-8998-9fbeb76a4fc0",
   "metadata": {},
   "outputs": [
    {
     "name": "stdout",
     "output_type": "stream",
     "text": [
      "250000\n",
      "\n"
     ]
    }
   ],
   "source": [
    "# fonction pour additionner les nombres de x à y selon certaines conditions\n",
    "def add_numbers_with_conditions(x, y):\n",
    "    n = 0\n",
    "    for i in range(x, y):\n",
    "        if (i % 2 == 0 or i % 5 == 0) and i % 10 != 0:\n",
    "            n += i\n",
    "    return n\n",
    "\n",
    "# exemple d'utilisation de la fonction\n",
    "print(add_numbers_with_conditions(0, 1001))\n",
    "print()"
   ]
  },
  {
   "cell_type": "code",
   "execution_count": 15,
   "id": "e3491631-8824-47a6-8335-a9719e1845da",
   "metadata": {},
   "outputs": [
    {
     "name": "stdout",
     "output_type": "stream",
     "text": [
      "5\n",
      "\n"
     ]
    }
   ],
   "source": [
    "# fonction pour compter les caractères d'un nombre entier\n",
    "def count_digits_in_number(number):\n",
    "    count = 0\n",
    "    for i in str(number):\n",
    "        count += 1\n",
    "    return count\n",
    "\n",
    "# exemple d'utilisation de la fonction\n",
    "print(count_digits_in_number(12345))\n",
    "print()"
   ]
  },
  {
   "cell_type": "code",
   "execution_count": 16,
   "id": "17e56bd0-7a6b-4c62-ae22-ff93956b51ce",
   "metadata": {},
   "outputs": [
    {
     "name": "stdout",
     "output_type": "stream",
     "text": [
      "85\n",
      "\n"
     ]
    }
   ],
   "source": [
    "# fonction pour compter les caractères d'un string sans les espaces\n",
    "def count_characters_in_string(string):\n",
    "    count = 0\n",
    "    for char in string:\n",
    "        if char != \" \":\n",
    "            count += 1\n",
    "    return count\n",
    "\n",
    "# exemple d'utilisation de la fonction\n",
    "print(count_characters_in_string(\"Taumata whakatangihanga koauau o tamatea turi pukaka piki maungah oronuku pokai whenuaki tanatahu\"))\n",
    "print()"
   ]
  },
  {
   "cell_type": "code",
   "execution_count": 17,
   "id": "4dd3c073-9da3-4908-a778-10b6bb4d2207",
   "metadata": {},
   "outputs": [
    {
     "name": "stdout",
     "output_type": "stream",
     "text": [
      "[1, 4, 6, 10, 12, 14, 19, 22, 26, 28, 34, 36, 39, 49, 51, 59, 63, 77, 85, 90, 92, 94]\n"
     ]
    }
   ],
   "source": [
    "# fonction pour donner la ou les positions (!=index) d'1 caractère dans une string\n",
    "def find_character_positions_in_string(string, char):\n",
    "    positions = []\n",
    "    for i, c in enumerate(string):\n",
    "        if c == char:\n",
    "            positions.append(i)\n",
    "    return positions\n",
    "\n",
    "# exemple d'utilisation de la fonction\n",
    "print(find_character_positions_in_string(\"Taumata whakatangihanga koauau o tamatea turi pukaka piki maungah oronuku pokai whenuaki tanatahu\", \"a\"))"
   ]
  },
  {
   "cell_type": "markdown",
   "id": "59b5cbe1-b71e-4816-b3b2-44e2fe4368ae",
   "metadata": {},
   "source": [
    "# FORMAT"
   ]
  },
  {
   "cell_type": "code",
   "execution_count": 18,
   "id": "3a341f4a-f372-41be-be58-498dd064615c",
   "metadata": {},
   "outputs": [
    {
     "name": "stdout",
     "output_type": "stream",
     "text": [
      "J'ai 25 ans.\n"
     ]
    }
   ],
   "source": [
    "# Exemples d'utilisation de f-string\n",
    "\n",
    "# Exemple 1 - simple variable\n",
    "age = 25\n",
    "print(f\"J'ai {age} ans.\")"
   ]
  },
  {
   "cell_type": "code",
   "execution_count": 19,
   "id": "4a49a468-76d0-4ed2-8142-4b09abceaec6",
   "metadata": {},
   "outputs": [
    {
     "name": "stdout",
     "output_type": "stream",
     "text": [
      "La somme de 10 et 20 est égale à 30.\n"
     ]
    }
   ],
   "source": [
    "# Exemple 2 - expression\n",
    "a = 10\n",
    "b = 20\n",
    "print(f\"La somme de {a} et {b} est égale à {a + b}.\")"
   ]
  },
  {
   "cell_type": "code",
   "execution_count": 20,
   "id": "d7f05f57-432a-4fb5-bd86-9bc96cd120c1",
   "metadata": {},
   "outputs": [
    {
     "name": "stdout",
     "output_type": "stream",
     "text": [
      "La valeur de pi est environ égale à 3.14.\n"
     ]
    }
   ],
   "source": [
    "# Exemple 3 - formatage de nombres décimaux\n",
    "pi = 3.141592653589793\n",
    "print(f\"La valeur de pi est environ égale à {pi:.2f}.\")"
   ]
  },
  {
   "cell_type": "code",
   "execution_count": 21,
   "id": "d5b1d357-0bab-4d65-94bf-aa8a7c953d99",
   "metadata": {},
   "outputs": [
    {
     "name": "stdout",
     "output_type": "stream",
     "text": [
      "Le nom complet est JEAN Dupont.\n"
     ]
    }
   ],
   "source": [
    "# Exemple 4 - formatage de chaînes de caractères\n",
    "prenom = \"Jean\"\n",
    "nom = \"Dupont\"\n",
    "print(f\"Le nom complet est {prenom.upper()} {nom.capitalize()}.\")"
   ]
  },
  {
   "cell_type": "code",
   "execution_count": 22,
   "id": "e3a942f6-1b3f-40cf-b6d1-ac856f5acb1d",
   "metadata": {},
   "outputs": [
    {
     "name": "stdout",
     "output_type": "stream",
     "text": [
      "Le carré de 1 est égal à 1.\n",
      "Le carré de 2 est égal à 4.\n",
      "Le carré de 3 est égal à 9.\n",
      "Le carré de 4 est égal à 16.\n",
      "Le carré de 5 est égal à 25.\n"
     ]
    }
   ],
   "source": [
    "# Exemple 5 - utilisation de variables dans une boucle for\n",
    "for i in range(1, 6):\n",
    "    print(f\"Le carré de {i} est égal à {i ** 2}.\")"
   ]
  },
  {
   "cell_type": "code",
   "execution_count": 23,
   "id": "97c8f478-84b1-4d97-b5be-556e4dd6c105",
   "metadata": {},
   "outputs": [
    {
     "name": "stdout",
     "output_type": "stream",
     "text": [
      "Il sont 10 éléments dans la liste.\n"
     ]
    }
   ],
   "source": [
    "# Exemple 6 - utilisation d'une expression conditionnelle\n",
    "n = 10\n",
    "print(f\"Il {'est' if n == 1 else 'sont'} {n} éléments dans la liste.\")"
   ]
  },
  {
   "cell_type": "code",
   "execution_count": 24,
   "id": "7312d085-ed8b-4c91-b482-cef734d254aa",
   "metadata": {},
   "outputs": [
    {
     "name": "stdout",
     "output_type": "stream",
     "text": [
      "Il y a 3 bananes dans le panier.\n"
     ]
    }
   ],
   "source": [
    "# Exemple 7 - utilisation de variables et d'expression conditionnelle\n",
    "fruit = \"banane\"\n",
    "quantite = 3\n",
    "print(f\"Il y a {'une' if quantite == 1 else quantite} {fruit}{'s' if quantite > 1 else ''} dans le panier.\")"
   ]
  },
  {
   "cell_type": "code",
   "execution_count": 25,
   "id": "d83854fd-a9ab-44b6-aa20-43741e2e6aa4",
   "metadata": {},
   "outputs": [
    {
     "name": "stdout",
     "output_type": "stream",
     "text": [
      "Les fruits disponibles sont : banane, pomme, orange.\n"
     ]
    }
   ],
   "source": [
    "# Exemple 8 - utilisation d'une liste et de la méthode join()\n",
    "fruits = [\"banane\", \"pomme\", \"orange\"]\n",
    "liste_fruits = \", \".join(fruits)\n",
    "print(f\"Les fruits disponibles sont : {liste_fruits}.\")"
   ]
  },
  {
   "cell_type": "code",
   "execution_count": 26,
   "id": "fa770503-f016-445a-acd9-b2d66e87b17b",
   "metadata": {},
   "outputs": [
    {
     "name": "stdout",
     "output_type": "stream",
     "text": [
      "Jean Dupont a ans.\n"
     ]
    }
   ],
   "source": [
    "# Exemple 9 - utilisation d'un dictionnaire et d'une expression conditionnelle\n",
    "personne = {\"prenom\": \"Jean\", \"nom\": \"Dupont\", \"age\": 25}\n",
    "print(f\"{personne['prenom']} {personne['nom']} a {'ans' if personne['age'] > 1 else 'an'}.\")"
   ]
  },
  {
   "cell_type": "code",
   "execution_count": 27,
   "id": "47390a01-9e37-4998-a18d-0a9f1a641b33",
   "metadata": {},
   "outputs": [
    {
     "name": "stdout",
     "output_type": "stream",
     "text": [
      "Les lettres disponibles sont : a, b, d, c.\n"
     ]
    }
   ],
   "source": [
    "# Exemple 10 - utilisation d'un set et d'une boucle for\n",
    "lettres = {\"a\", \"b\", \"c\", \"d\"}\n",
    "liste_lettres = \", \".join(lettres)\n",
    "print(f\"Les lettres disponibles sont : {liste_lettres}.\")"
   ]
  },
  {
   "cell_type": "code",
   "execution_count": null,
   "id": "e13bc690-710c-4534-b6df-be7a82196cea",
   "metadata": {},
   "outputs": [],
   "source": []
  }
 ],
 "metadata": {
  "kernelspec": {
   "display_name": "Python 3 (ipykernel)",
   "language": "python",
   "name": "python3"
  },
  "language_info": {
   "codemirror_mode": {
    "name": "ipython",
    "version": 3
   },
   "file_extension": ".py",
   "mimetype": "text/x-python",
   "name": "python",
   "nbconvert_exporter": "python",
   "pygments_lexer": "ipython3",
   "version": "3.10.9"
  }
 },
 "nbformat": 4,
 "nbformat_minor": 5
}
