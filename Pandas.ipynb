{
 "cells": [
  {
   "cell_type": "markdown",
   "id": "78d9521a-86f6-40f8-bc97-90668f474492",
   "metadata": {
    "tags": []
   },
   "source": [
    "# Pandas"
   ]
  },
  {
   "cell_type": "raw",
   "id": "0dd6c4de-4677-42f5-9f1c-885bb2ed9ead",
   "metadata": {},
   "source": [
    "Pandas sert à manipuler des tableaux qu'on appelle DataFrame.\n",
    "Limite les dimensions à 2."
   ]
  },
  {
   "cell_type": "code",
   "execution_count": 20,
   "id": "13d4eafa-4fad-4ed9-aecc-167951d5975e",
   "metadata": {},
   "outputs": [],
   "source": [
    "import pandas as pd"
   ]
  },
  {
   "cell_type": "markdown",
   "id": "1d9543fa-c83d-4a9d-aecd-ce91fb168320",
   "metadata": {
    "jp-MarkdownHeadingCollapsed": true,
    "tags": []
   },
   "source": [
    "## Création DF"
   ]
  },
  {
   "cell_type": "code",
   "execution_count": 11,
   "id": "1d73b39b-2bc7-4108-ba10-f56aeb7cc028",
   "metadata": {},
   "outputs": [
    {
     "data": {
      "text/html": [
       "<div>\n",
       "<style scoped>\n",
       "    .dataframe tbody tr th:only-of-type {\n",
       "        vertical-align: middle;\n",
       "    }\n",
       "\n",
       "    .dataframe tbody tr th {\n",
       "        vertical-align: top;\n",
       "    }\n",
       "\n",
       "    .dataframe thead th {\n",
       "        text-align: right;\n",
       "    }\n",
       "</style>\n",
       "<table border=\"1\" class=\"dataframe\">\n",
       "  <thead>\n",
       "    <tr style=\"text-align: right;\">\n",
       "      <th></th>\n",
       "      <th>0</th>\n",
       "    </tr>\n",
       "  </thead>\n",
       "  <tbody>\n",
       "    <tr>\n",
       "      <th>0</th>\n",
       "      <td>1</td>\n",
       "    </tr>\n",
       "    <tr>\n",
       "      <th>1</th>\n",
       "      <td>2</td>\n",
       "    </tr>\n",
       "    <tr>\n",
       "      <th>2</th>\n",
       "      <td>42</td>\n",
       "    </tr>\n",
       "  </tbody>\n",
       "</table>\n",
       "</div>"
      ],
      "text/plain": [
       "    0\n",
       "0   1\n",
       "1   2\n",
       "2  42"
      ]
     },
     "execution_count": 11,
     "metadata": {},
     "output_type": "execute_result"
    }
   ],
   "source": [
    "pd.DataFrame([1, 2, 42])"
   ]
  },
  {
   "cell_type": "code",
   "execution_count": 12,
   "id": "c9a4d88b-0e9a-407d-b180-37dd04518694",
   "metadata": {},
   "outputs": [
    {
     "data": {
      "text/html": [
       "<div>\n",
       "<style scoped>\n",
       "    .dataframe tbody tr th:only-of-type {\n",
       "        vertical-align: middle;\n",
       "    }\n",
       "\n",
       "    .dataframe tbody tr th {\n",
       "        vertical-align: top;\n",
       "    }\n",
       "\n",
       "    .dataframe thead th {\n",
       "        text-align: right;\n",
       "    }\n",
       "</style>\n",
       "<table border=\"1\" class=\"dataframe\">\n",
       "  <thead>\n",
       "    <tr style=\"text-align: right;\">\n",
       "      <th></th>\n",
       "      <th>number</th>\n",
       "    </tr>\n",
       "  </thead>\n",
       "  <tbody>\n",
       "    <tr>\n",
       "      <th>0</th>\n",
       "      <td>1</td>\n",
       "    </tr>\n",
       "    <tr>\n",
       "      <th>1</th>\n",
       "      <td>2</td>\n",
       "    </tr>\n",
       "    <tr>\n",
       "      <th>2</th>\n",
       "      <td>42</td>\n",
       "    </tr>\n",
       "  </tbody>\n",
       "</table>\n",
       "</div>"
      ],
      "text/plain": [
       "   number\n",
       "0       1\n",
       "1       2\n",
       "2      42"
      ]
     },
     "execution_count": 12,
     "metadata": {},
     "output_type": "execute_result"
    }
   ],
   "source": [
    "pd.DataFrame([1, 2, 42], columns = [\"number\"])"
   ]
  },
  {
   "cell_type": "code",
   "execution_count": 13,
   "id": "b358c6ec-cbce-40d0-9066-5676a1b3856b",
   "metadata": {},
   "outputs": [
    {
     "data": {
      "text/html": [
       "<div>\n",
       "<style scoped>\n",
       "    .dataframe tbody tr th:only-of-type {\n",
       "        vertical-align: middle;\n",
       "    }\n",
       "\n",
       "    .dataframe tbody tr th {\n",
       "        vertical-align: top;\n",
       "    }\n",
       "\n",
       "    .dataframe thead th {\n",
       "        text-align: right;\n",
       "    }\n",
       "</style>\n",
       "<table border=\"1\" class=\"dataframe\">\n",
       "  <thead>\n",
       "    <tr style=\"text-align: right;\">\n",
       "      <th></th>\n",
       "      <th>apple</th>\n",
       "      <th>bananas</th>\n",
       "    </tr>\n",
       "  </thead>\n",
       "  <tbody>\n",
       "    <tr>\n",
       "      <th>0</th>\n",
       "      <td>30</td>\n",
       "      <td>21</td>\n",
       "    </tr>\n",
       "  </tbody>\n",
       "</table>\n",
       "</div>"
      ],
      "text/plain": [
       "   apple  bananas\n",
       "0     30       21"
      ]
     },
     "execution_count": 13,
     "metadata": {},
     "output_type": "execute_result"
    }
   ],
   "source": [
    "# Créer un DF \"fruit\"\n",
    "fruit = [[30, 21]]\n",
    "df = pd.DataFrame(fruit, columns = [\"apple\", \"bananas\"])\n",
    "df"
   ]
  },
  {
   "cell_type": "markdown",
   "id": "df152635-fcc4-4999-86be-975b18346bc6",
   "metadata": {
    "jp-MarkdownHeadingCollapsed": true,
    "tags": []
   },
   "source": [
    "## Index"
   ]
  },
  {
   "cell_type": "code",
   "execution_count": 14,
   "id": "ddf67acd-62f9-4d47-a04e-cc47e7c36c9b",
   "metadata": {},
   "outputs": [
    {
     "data": {
      "text/html": [
       "<div>\n",
       "<style scoped>\n",
       "    .dataframe tbody tr th:only-of-type {\n",
       "        vertical-align: middle;\n",
       "    }\n",
       "\n",
       "    .dataframe tbody tr th {\n",
       "        vertical-align: top;\n",
       "    }\n",
       "\n",
       "    .dataframe thead th {\n",
       "        text-align: right;\n",
       "    }\n",
       "</style>\n",
       "<table border=\"1\" class=\"dataframe\">\n",
       "  <thead>\n",
       "    <tr style=\"text-align: right;\">\n",
       "      <th></th>\n",
       "      <th>apples</th>\n",
       "      <th>bananas</th>\n",
       "    </tr>\n",
       "  </thead>\n",
       "  <tbody>\n",
       "    <tr>\n",
       "      <th>2017 sales</th>\n",
       "      <td>35</td>\n",
       "      <td>21</td>\n",
       "    </tr>\n",
       "    <tr>\n",
       "      <th>2018 sales</th>\n",
       "      <td>41</td>\n",
       "      <td>34</td>\n",
       "    </tr>\n",
       "  </tbody>\n",
       "</table>\n",
       "</div>"
      ],
      "text/plain": [
       "            apples  bananas\n",
       "2017 sales      35       21\n",
       "2018 sales      41       34"
      ]
     },
     "execution_count": 14,
     "metadata": {},
     "output_type": "execute_result"
    }
   ],
   "source": [
    "data = {\"2017 sales\" : [35, 21], \"2018 sales\" : [41, 34]}\n",
    "x = pd.DataFrame.from_dict(data, orient = \"index\", columns = [\"apples\", \"bananas\"])\n",
    "x"
   ]
  },
  {
   "cell_type": "raw",
   "id": "c067aa94-9a26-456c-bd37-ef083e0f4672",
   "metadata": {},
   "source": [
    ".reset_index() : réinitialise les index d'un df"
   ]
  },
  {
   "cell_type": "markdown",
   "id": "116c75dc-35e2-4aab-ba34-b5491674d9c2",
   "metadata": {
    "tags": []
   },
   "source": [
    "## Manipulation"
   ]
  },
  {
   "cell_type": "markdown",
   "id": "07b18a60-97f8-4cf1-b9e8-85431626a2dd",
   "metadata": {
    "jp-MarkdownHeadingCollapsed": true,
    "tags": []
   },
   "source": [
    "### Delete / drop"
   ]
  },
  {
   "cell_type": "raw",
   "id": "ac285134-5e34-4850-ab54-da34e28e84e5",
   "metadata": {},
   "source": [
    " the first row : df.drop(\"colonne\")\n",
    " the first column : df.drop(x.columns[0], axis = 1)\n",
    " une colonne : df = df.drop([\"colonne\"], axis = 1)"
   ]
  },
  {
   "cell_type": "markdown",
   "id": "314509db-db18-4aec-b96c-47c1613afd26",
   "metadata": {
    "jp-MarkdownHeadingCollapsed": true,
    "tags": []
   },
   "source": [
    "### Importer un fichier + paramètres"
   ]
  },
  {
   "cell_type": "raw",
   "id": "2a5f14cf-fe32-44fd-afaf-fd64b6b7f431",
   "metadata": {},
   "source": [
    "pd.read_(par ex : csv)(\"lien.(par ex : csv)\", sep = \",\")"
   ]
  },
  {
   "cell_type": "raw",
   "id": "779333c8-2677-49a1-848b-3679b956894e",
   "metadata": {},
   "source": [
    "header et names ----- pour les en-têtes et noms des colonnes\n",
    "index_col pour ------ pour le nom des en-têtes de lignes"
   ]
  },
  {
   "cell_type": "raw",
   "id": "564ea669-ac16-40f5-a1b4-ab76e9306b5d",
   "metadata": {},
   "source": [
    "Renommer colonne dès importation : pd.read_csv(\"lien.csv\", sep = \",\", names = [\"nom_colonne1\", \"nom_colonne2\"...])\n",
    "Renommer colonne après importation : df.rename(columns = {\"nom_origine\" : \"nv_nom\"})"
   ]
  },
  {
   "cell_type": "raw",
   "id": "eea6d7cc-2191-4f02-9cfe-aba7e5554d25",
   "metadata": {},
   "source": [
    "créer un df avec un lien\n",
    "link = \"------\"\n",
    "df = pd.read_csv(link)"
   ]
  },
  {
   "cell_type": "raw",
   "id": "8a34c0b1-3baf-42b8-a039-591596ff1a7f",
   "metadata": {},
   "source": [
    "Créer un DF avec + liens de téléchargement\n",
    "\n",
    "dftotal = pd.DataFrame()\n",
    "for year in range(2019, 2023):\n",
    "    year = str(year)\n",
    "    lin_main = \"lien\"+year+\".csv\"\n",
    "    df_main = pd.read_csv(link_main)\n",
    "    dftotal = pd.concat([df_total, df_main])"
   ]
  },
  {
   "cell_type": "markdown",
   "id": "31d3acb6-1a73-426c-b425-0b721f67b670",
   "metadata": {
    "tags": []
   },
   "source": [
    "## Afficher"
   ]
  },
  {
   "cell_type": "markdown",
   "id": "84a1c9d4-8f48-4a37-8e3f-0abc0771f1fa",
   "metadata": {
    "tags": []
   },
   "source": [
    "#### Des lignes"
   ]
  },
  {
   "cell_type": "raw",
   "id": "a0a3a466-02c4-433b-8b78-d9291d00c198",
   "metadata": {},
   "source": [
    "5 dernières ------ df.tail() --- on peut mettre entre () le nb de lignes souhaitées\n",
    "5 premières ------ df.head() --- idem\n",
    "3 premières ------ df.iloc[:3]\n",
    "x aléatoire : df.sample(x)  : x nb de lignes aléatoires souhaitées\n",
    "Distribution visuelle de la valeur des colonnes : df.sample(x).style.bar(subset = [\"colonne1\", \"colonne2\"])"
   ]
  },
  {
   "cell_type": "markdown",
   "id": "cf08aaa6-e873-4b61-9f80-183835477909",
   "metadata": {
    "tags": []
   },
   "source": [
    "#### Types et valeurs de chq colonnes"
   ]
  },
  {
   "cell_type": "raw",
   "id": "edde39c9-8cc6-469e-ad3b-87be0c0fce67",
   "metadata": {},
   "source": [
    "df.info()\n",
    "df.values : affiche ttes les valeurs du df sous forme d'un array\n",
    "df.[\"nom_colonne\"] : affiche ttes les valeurs d'une colonne\n",
    "df[\"colonne\"].unique() : affiche valeurs uniques ds colonne\n",
    "df[\"colonne\"].nunique() : idem\n",
    "df.astype({\"colonne\" : \"int\"}) : modifie type d'une colonne"
   ]
  },
  {
   "cell_type": "markdown",
   "id": "32fe3aaf-1659-4954-aa3b-ec55b7e500c7",
   "metadata": {
    "tags": []
   },
   "source": [
    "#### Séléctionner 1ligne ou une colonne : SLICING"
   ]
  },
  {
   "cell_type": "raw",
   "id": "1b06077a-67bb-4201-a12f-9ce7894ae399",
   "metadata": {},
   "source": [
    "Soit : df.iloc[0, -2:] ----- on sélectionne la 1ère ligne et les 2 dernières colonnes\n",
    "Soit : df.loc[:, \"Nom_colonne\"] ----- on affiche ttes les lignes de la colonne \"nom_colonne\"\n",
    "dernière ligne :  df[-1:]\n",
    "dernière colonne de la dernière ligne : df.iloc[-1, -1]\n",
    "Récupérer noms des colonnes d'un df : df.columns[:] ------ KKN variables explicatives X = df.loc[:columns]\n",
    "Crée un slice du dataset avec uniquement les colonnes numériques : X = df.select_dtypes(include='number')"
   ]
  },
  {
   "cell_type": "markdown",
   "id": "7b4b3c10-3e92-480f-bdc5-ebf67c477068",
   "metadata": {
    "tags": []
   },
   "source": [
    "### Index"
   ]
  },
  {
   "cell_type": "raw",
   "id": "5ae638e3-2fb8-4dea-972c-880450c0b4f6",
   "metadata": {},
   "source": [
    "df = df.set_index(\"nom_colonne\") ---- met en index la première colonne\n",
    "df.insert(5, 'nom_nvlle_colonne', df[\"nom_colonne\"] / df[\"nom_colonne2\"]) --- le 5 correspond à l'indice à lequel insérer la colonne"
   ]
  },
  {
   "cell_type": "markdown",
   "id": "1410fd68-c86f-4424-86ca-10e4e05a452b",
   "metadata": {
    "jp-MarkdownHeadingCollapsed": true,
    "tags": []
   },
   "source": [
    "## Maths"
   ]
  },
  {
   "cell_type": "raw",
   "id": "8b54382b-9ff2-4d48-b33e-a99d2472eca5",
   "metadata": {},
   "source": [
    "Médiane : df[\"colonne\"].median()\n",
    "Moyenne : df[\"star_rating\"].mean()\n",
    "Matrice corrélation : df.corr()\n",
    "Ts les calculs statistiques : df.describe()\n",
    "Distribution des données en % : df[\"col\"].values_counts(True) * 100"
   ]
  },
  {
   "cell_type": "markdown",
   "id": "daad6fa5-121a-4ebc-bf1e-99937e20c77e",
   "metadata": {
    "jp-MarkdownHeadingCollapsed": true,
    "tags": []
   },
   "source": [
    "## Valeurs nulles/manquantes"
   ]
  },
  {
   "cell_type": "raw",
   "id": "ded58d24-c569-444c-bc53-8091db7fbd05",
   "metadata": {},
   "source": [
    "Supp valeurs nulles d'une colonne : df = df.dropna(subset = [\"colonne\"])\n",
    "Combien de valeurs manquantes d'une colonne : df[\"colonne\"].isna().sum()\n",
    "Remplir valeurs manquantes d'une colonne : df[\"colonne\"].fillna(\"text\", inplace = True)\n",
    "Ne faire apparaître que les lignes d'une colonne où il y a des valeurs nulles : df[df[\"colonne\"].isna()]\n",
    "Trouver valeurs manquantes parmis ttes les colonnes : df[df.isna().any(axis = 1)]\n",
    "Supp valeurs en doubles : df = df.drop_duplicates()"
   ]
  },
  {
   "cell_type": "markdown",
   "id": "d7434e61-8d99-4604-8b2d-57d430703da6",
   "metadata": {
    "jp-MarkdownHeadingCollapsed": true,
    "tags": []
   },
   "source": [
    "## EXEMPLES"
   ]
  },
  {
   "cell_type": "raw",
   "id": "b62d98ab-362c-48ca-9a0d-c9fe70981152",
   "metadata": {},
   "source": [
    "Quel pays a un beerserving > 200 ?\n",
    "df[df[\"nom_colonne\"] > 200]\n",
    "\n",
    "Trier de manière asc selon \"star_rating\" ?\n",
    "df.sort_values(by = [\"star_rating\"])\n",
    "\n",
    "Genre de film le mieux noté ?\n",
    "df.loc[df[\"star_rating\"] > df[\"star_rating\"].max()].iloc[-1, -3]\n",
    "\n",
    "Pourcentage de film ds chq genre ?\n",
    "p = df.groupby([\"genre\"]).count().loc[:, \"title\"]\n",
    "a = p/p.sum()* 100\n",
    "ou\n",
    "df.groupby([\"genre\"][\"title\"].count().sort_values(ascending = False) / df[\"title\"].count().sum() * 100\n",
    "\n",
    "\n",
    "Afficher ttes les lignes avec des films appartenant au genre le moins bien noté (basé sur la moy des films de ce genre)\n",
    "m = df.groupby(\"genre)[\"star_rating\"].mean().idx min()\n",
    "m2 = df.loc[df[\"genre\"] == m]\n",
    "\n",
    "Films qui durent +200min et dt le genre C la lettre h ou H\n",
    "m = df.query(\"genre.str.contains(\"h | H\"] & (duration > 200).loc[:, \"title\"])\n",
    "ou \n",
    "m = df.loc[(df[\"duration\"] > 200) & (df[\"genre\"].astype(str).str.contains(\"h | H\"))]\n",
    "\n",
    "Quel trio d'acteurs est le + mentionné\n",
    "df[\"actors_list\"].mode()\n",
    "\n",
    "Trier df sur colonne de manière croissante\n",
    "df = df.sort_values(by = \"colonne\", ascending = False (ou True))"
   ]
  },
  {
   "cell_type": "markdown",
   "id": "5f11ff6f-62fc-44c1-b0f9-e68fd6ddbd04",
   "metadata": {
    "jp-MarkdownHeadingCollapsed": true,
    "tags": []
   },
   "source": [
    "## NB"
   ]
  },
  {
   "cell_type": "raw",
   "id": "f16286b3-b134-4028-89f6-9a8b151a6298",
   "metadata": {},
   "source": [
    "inplace = True ---- stock les modifs ds df\n",
    "axis = 0 --- ligne\n",
    "axis = 1 --- colonne\n",
    "aggfunc et groupby : identiques"
   ]
  },
  {
   "cell_type": "markdown",
   "id": "154efd1c-ec9f-458b-b83b-a278d6bb3ce8",
   "metadata": {
    "jp-MarkdownHeadingCollapsed": true,
    "tags": []
   },
   "source": [
    "# Numpy"
   ]
  },
  {
   "cell_type": "raw",
   "id": "10f4a9ec-48cb-4d64-91d6-eaa50f9fdca9",
   "metadata": {},
   "source": [
    "NUmpy est une bibliothèque destinée à manipuler des matrices ou tableaux multidimensionnels ainsi que des fct mathématiques sur ces tableaux."
   ]
  },
  {
   "cell_type": "code",
   "execution_count": 1,
   "id": "aab22e27-9c99-4842-8c73-34d8f6f701ea",
   "metadata": {},
   "outputs": [],
   "source": [
    "import numpy as np"
   ]
  },
  {
   "cell_type": "markdown",
   "id": "3d495d7c-5e43-4d05-b8ec-4e7e053aad70",
   "metadata": {
    "jp-MarkdownHeadingCollapsed": true,
    "tags": []
   },
   "source": [
    "## Convertir en array (matrice)"
   ]
  },
  {
   "cell_type": "code",
   "execution_count": null,
   "id": "6841b7b6-c52b-4ec1-a930-8e67ba8f8747",
   "metadata": {},
   "outputs": [],
   "source": [
    "# création\n",
    "data = [[0,1,2], [10,11,12], [20,21,22], [30,31,32]]\n",
    "data_np = np.array(data)\n",
    "data_np\n",
    "\n",
    "# modification\n",
    "# ex : 1 ligne et 32 colonnes\n",
    "array_2 = np.reshape(data_np, (1,32))"
   ]
  },
  {
   "cell_type": "markdown",
   "id": "bff38f42-0f94-42d0-bfd5-a7aaa239638e",
   "metadata": {
    "jp-MarkdownHeadingCollapsed": true,
    "tags": []
   },
   "source": [
    "## Sélectionner éléments ds tableaux"
   ]
  },
  {
   "cell_type": "code",
   "execution_count": 17,
   "id": "63d82d1c-28f2-4560-8f93-ec5d522e34b5",
   "metadata": {},
   "outputs": [
    {
     "name": "stdout",
     "output_type": "stream",
     "text": [
      "[10 11]\n",
      "[ 2 12 22 32]\n",
      "[]\n",
      "[]\n",
      "[ 2 12 22 32]\n",
      "[[20 22]]\n"
     ]
    },
    {
     "ename": "IndexError",
     "evalue": "too many indices for array: array is 2-dimensional, but 3 were indexed",
     "output_type": "error",
     "traceback": [
      "\u001b[1;31m---------------------------------------------------------------------------\u001b[0m",
      "\u001b[1;31mIndexError\u001b[0m                                Traceback (most recent call last)",
      "Cell \u001b[1;32mIn[17], line 21\u001b[0m\n\u001b[0;32m     17\u001b[0m \u001b[38;5;28mprint\u001b[39m(data_np[\u001b[38;5;241m2\u001b[39m::\u001b[38;5;241m2\u001b[39m, ::\u001b[38;5;241m2\u001b[39m])\n\u001b[0;32m     19\u001b[0m \u001b[38;5;66;03m# si deux matrices\u001b[39;00m\n\u001b[0;32m     20\u001b[0m \u001b[38;5;66;03m# trouver valeur aux index 1 et colonnes 3 et4\u001b[39;00m\n\u001b[1;32m---> 21\u001b[0m \u001b[43mdata_np\u001b[49m\u001b[43m[\u001b[49m\u001b[43m:\u001b[49m\u001b[43m,\u001b[49m\u001b[38;5;241;43m1\u001b[39;49m\u001b[43m \u001b[49m\u001b[43m,\u001b[49m\u001b[43m \u001b[49m\u001b[38;5;241;43m2\u001b[39;49m\u001b[43m:\u001b[49m\u001b[38;5;241;43m5\u001b[39;49m\u001b[43m]\u001b[49m\n",
      "\u001b[1;31mIndexError\u001b[0m: too many indices for array: array is 2-dimensional, but 3 were indexed"
     ]
    }
   ],
   "source": [
    "# élement d'une rangée\n",
    "print(data_np[1,0 : 2])\n",
    "\n",
    "# élément d'une colonne\n",
    "print(data_np[: , 2])\n",
    "\n",
    "# on sélectionne la ligne à l'indice 0 puis on sélectionne les données des colonnes allant de l'indice  à inclus\n",
    "print(data_np[0, 3:5])\n",
    "\n",
    "# lignes aux indices allant de 4 jusqu'à la fin. Puis les colonnes allant de 4 jusqu'à la fin\n",
    "print(data_np[4: , 4:])\n",
    "\n",
    "# ttes les lignes puis les colonnes à l'indice 2\n",
    "print(data_np[:, 2])\n",
    "\n",
    "# les lignes à partir de l'indice 2, puis une ligne sur 2. Puis on sélectionne les colonnes à partir du début puis 1 colonne sur 2\n",
    "print(data_np[2::2, ::2])\n",
    "\n",
    "# si deux matrices\n",
    "# trouver valeur aux index 1 et colonnes 3 et4\n",
    "data_np[:,1 , 2:5]  # se lit matrice, ligne, colonne"
   ]
  },
  {
   "cell_type": "markdown",
   "id": "384b148a-eeee-4459-9677-113bd473b7d5",
   "metadata": {
    "jp-MarkdownHeadingCollapsed": true,
    "tags": []
   },
   "source": [
    "### Maths sur array"
   ]
  },
  {
   "cell_type": "code",
   "execution_count": 22,
   "id": "204c5b58-5041-4ad2-935b-8753bef949c3",
   "metadata": {},
   "outputs": [
    {
     "name": "stdout",
     "output_type": "stream",
     "text": [
      "[[12  5]\n",
      " [ 8 32]\n",
      " [25  6]\n",
      " [ 7 14]]\n",
      "109\n",
      "[52 57]\n",
      "[17 40 31 21]\n"
     ]
    }
   ],
   "source": [
    "# somme totale\n",
    "liste = [[12,5], [8,32], [25,6], [7,14]]\n",
    "data = np.array(liste)\n",
    "print(data)\n",
    "print(np.sum(data))\n",
    "\n",
    "# somme d'une colonne\n",
    "print(np.sum(data, axis = 0))\n",
    "\n",
    "# somme d'une rangée\n",
    "print(np.sum(data, axis =1))"
   ]
  },
  {
   "cell_type": "markdown",
   "id": "4d1e2f54-2699-43b5-959a-123f9ee4bd86",
   "metadata": {
    "jp-MarkdownHeadingCollapsed": true,
    "tags": []
   },
   "source": [
    "## taille"
   ]
  },
  {
   "cell_type": "code",
   "execution_count": 15,
   "id": "bc76b8f3-5450-4c1e-ac8c-4f0b3f79423a",
   "metadata": {},
   "outputs": [
    {
     "name": "stdout",
     "output_type": "stream",
     "text": [
      "(4, 3)\n",
      "2\n"
     ]
    }
   ],
   "source": [
    "# taille matrice\n",
    "print(data_np.shape)\n",
    "\n",
    "# nb axes\n",
    "print(data_np.ndim)"
   ]
  },
  {
   "cell_type": "markdown",
   "id": "951117fe-efce-41cf-8ff2-070c544ee29d",
   "metadata": {
    "jp-MarkdownHeadingCollapsed": true,
    "tags": []
   },
   "source": [
    "# Fonction Apply / Lambda"
   ]
  },
  {
   "cell_type": "markdown",
   "id": "313445ec-ba42-4484-adee-262ecab6d093",
   "metadata": {
    "jp-MarkdownHeadingCollapsed": true,
    "tags": []
   },
   "source": [
    "## Def"
   ]
  },
  {
   "cell_type": "raw",
   "id": "ac5c35b3-a84e-498d-80bc-68ab3c8e52ad",
   "metadata": {},
   "source": [
    "La méthode est l’une des méthodes les plus courantes de prétraitement des données. Il simplifie l’application d’une fonction sur chaque élément d’une série pandas et sur chaque ligne ou colonne d’un DataFrame pandas."
   ]
  },
  {
   "cell_type": "markdown",
   "id": "aadf9fcf-90e2-4550-af7d-14412cf3b833",
   "metadata": {
    "jp-MarkdownHeadingCollapsed": true,
    "tags": []
   },
   "source": [
    "## EXEMPLES"
   ]
  },
  {
   "cell_type": "raw",
   "id": "5c45a1d2-6be7-44a4-ac15-5a9ec72f5bf6",
   "metadata": {},
   "source": [
    "def auteur(authors):\n",
    "    return len(authors.split(\"/\"))\n",
    "df[\"nvlle_colonne\"] = df[\"authors\"].apply(auteur)\n",
    "\n",
    "avec lambda : df[\"nvlle_colonne\"] = df[\"authors\"]apply(lambda x : len.split(\"/\")))\n",
    "\n",
    "def x(books):\n",
    "    text = books[\"a\"]\n",
    "    reviews = books[\"c\"]\n",
    "    percentage = (text/reviews) * 100\n",
    "    return percentage\n",
    "books[\"nvlle_colonne\"] = books.apply(x, axis = 1)\n",
    "\n",
    "avec lambda : df[\"nvlle_colonne\"] = df.apply(lambda x : (x[\"colonne\"] / x[\"colonne\"]) * 100, axis = 1)\n",
    "\n",
    "def square(nb):\n",
    "    return nb**2\n",
    "avec lambda en version stockée : a = lambda x : x**2     a(3)\n",
    "avec lambda en version non stockée : (lambda x : x**2)(3)"
   ]
  },
  {
   "cell_type": "raw",
   "id": "0e99c0bf-db17-43b1-bc18-30f73c639ba9",
   "metadata": {},
   "source": [
    "Somme des nb pairs d'une liste \n",
    "b = sum([i for i in liste if (i%2 == 0)])\n",
    "\n",
    "Valeur absolue des nb d'une liste\n",
    "c = [abs(ele) for ele in test_list]"
   ]
  },
  {
   "cell_type": "markdown",
   "id": "413b970e-4297-440a-a90e-3f7a4e762634",
   "metadata": {
    "jp-MarkdownHeadingCollapsed": true,
    "tags": []
   },
   "source": [
    "# Fonction datetime"
   ]
  },
  {
   "cell_type": "code",
   "execution_count": 21,
   "id": "b8703e26-fd8d-4883-aec2-f79b89a46b33",
   "metadata": {},
   "outputs": [],
   "source": [
    "from datetime import datetime"
   ]
  },
  {
   "cell_type": "raw",
   "id": "fb1f4a9a-3007-4b80-8b44-03b6665fbabc",
   "metadata": {},
   "source": [
    "strptime : convertit chaîne de caractère en format date \n",
    "strftime : convertit le format date en chaîne de caratère\n",
    "%Y avec 4Y donne 2017 avec 2Y donne 17\n",
    "%y avec 2y donne 20"
   ]
  },
  {
   "cell_type": "code",
   "execution_count": 28,
   "id": "e130928f-bba0-4df1-ad79-eae284cc890a",
   "metadata": {},
   "outputs": [
    {
     "name": "stdout",
     "output_type": "stream",
     "text": [
      "2018-01-04 00:00:00\n",
      "<class 'datetime.datetime'>\n"
     ]
    }
   ],
   "source": [
    "# ex\n",
    "#création d'une variable x dans laquelle je vais convertir un str en date\n",
    "x = datetime.strptime(\"2018-01-04\", \"%Y-%m-%d\")\n",
    "print(x)\n",
    "#je print le type de ma variable pour confirmer le passage en format date\n",
    "print(type(x))"
   ]
  },
  {
   "cell_type": "raw",
   "id": "509bfc42-3701-48ba-916d-dd56d1d1b0ad",
   "metadata": {},
   "source": [
    "Passer en format date avec pandas :\n",
    "soit df[\"colonne\"] = pd.to_datetime(df[\"colonne\"])\n",
    "soit df[\"colonne\"].apply(lambda x : datetime.strptime(x, \"%Y-%m-%d)"
   ]
  },
  {
   "cell_type": "raw",
   "id": "08e87d04-e289-4e20-bdc8-a2fd73c80825",
   "metadata": {},
   "source": [
    "Ajouter jours, semaines, heures\n",
    "datetime.now() +(ou-) timedelta(weeks = 3) (ou days ou hours)\n",
    "print(datetime.now() + timedelta(weeks=7))"
   ]
  },
  {
   "cell_type": "raw",
   "id": "d66f1bd3-c807-4a89-bdeb-36afa219d750",
   "metadata": {},
   "source": [
    "Mettre une colonne en mois/jour/année et l'ajouter au DF\n",
    "df[\"month\"] = df[\"date\"].dt.month"
   ]
  },
  {
   "cell_type": "markdown",
   "id": "ba85bf37-8e22-483e-bdb1-e4df646525eb",
   "metadata": {
    "tags": []
   },
   "source": [
    "# Merge"
   ]
  },
  {
   "cell_type": "raw",
   "id": "26e83c00-5d08-441d-affd-43e77d89fd90",
   "metadata": {},
   "source": [
    "Fusionner deux df par colonne\n",
    "\n",
    "Si noms colonne !=\n",
    "pd.merge(df_left, df_right,\n",
    "         how = \"left\",\n",
    "         left_on = \"nom_colonne_left\",\n",
    "         right_on = \"nom_colonne_right\")\n",
    "\n",
    "si noms colonnes identiques\n",
    "pd.merge(left, right, how = \"left\",\n",
    "         on = [\"key1\", \"key2\"]"
   ]
  },
  {
   "cell_type": "markdown",
   "id": "bd97726f-d868-4deb-b3aa-54881c89646b",
   "metadata": {
    "jp-MarkdownHeadingCollapsed": true,
    "tags": []
   },
   "source": [
    "# Concat"
   ]
  },
  {
   "cell_type": "raw",
   "id": "037e1918-595d-4735-8654-294673a162e5",
   "metadata": {},
   "source": [
    "Fusionner deux df par lignes\n",
    "\n",
    "pd.concat([df1, df2, df3])"
   ]
  },
  {
   "cell_type": "markdown",
   "id": "b9481872-1c7a-464c-9eab-970c87bc5534",
   "metadata": {
    "jp-MarkdownHeadingCollapsed": true,
    "tags": []
   },
   "source": [
    "# Pivot table / Cross table"
   ]
  },
  {
   "cell_type": "raw",
   "id": "da5c07bd-840b-45ad-acfc-0f0e8d5daae7",
   "metadata": {},
   "source": [
    "crosstab() ---- données non basées sur df ----- ex : liste, dictionnaires... --- as a method\n",
    "pivot_table() ---- df --- as a function"
   ]
  },
  {
   "cell_type": "markdown",
   "id": "a3d67477-34bc-4ad0-bcdd-b1cb4db0b7ea",
   "metadata": {
    "tags": []
   },
   "source": [
    "## Synthaxes"
   ]
  },
  {
   "cell_type": "raw",
   "id": "238f265f-4f82-428a-b3bf-e117f3a4bd1e",
   "metadata": {},
   "source": [
    "df.pivot_table(values = \"col1\", index = \"col2\", aggfunc = \"mean\")\n",
    "pd.cross_tab(df.col1, df.col2)\n",
    "pd.cross_tab(columns = df.col1, index = df.col2, values = df.col3, aggfunc = \"max\")"
   ]
  },
  {
   "cell_type": "markdown",
   "id": "a575ffb0-792c-4481-a57f-4c5e3370883d",
   "metadata": {
    "tags": []
   },
   "source": [
    "## EXEMPLES"
   ]
  },
  {
   "cell_type": "raw",
   "id": "4428a8fa-30ab-4287-b2b9-ce471bb2c754",
   "metadata": {},
   "source": [
    "Créer mois en rangées, avg Temp et avg Sunhour en colonne\n",
    "df.pivot_table(values = [\"col1\", \"col2\"], index = \"col3\", aggfunc = \"mean\")\n",
    "\n",
    "Chart\n",
    "a = df.pivot_table(...)\n",
    "a.plot(kind = \"bar\")\n",
    "\n",
    "Utiliser Matplotlib, seaborn...\n",
    "a = df.pivot_table(...).reset_index()\n",
    "Puis Matplotlib ou seaborn ..."
   ]
  },
  {
   "cell_type": "markdown",
   "id": "4f42046b-0060-4e34-b2f0-7d4a5747e203",
   "metadata": {
    "jp-MarkdownHeadingCollapsed": true,
    "tags": []
   },
   "source": [
    "# Explode"
   ]
  },
  {
   "cell_type": "raw",
   "id": "4a97753e-bb90-41d3-b7cc-59f410d948f9",
   "metadata": {},
   "source": [
    "Lorsqu'on a une liste : [u'---', u'----'...]\n",
    "df[\"colonne\"] = df[\"colonne\"].apply(eval)\n",
    "                donne : ['---', '-----'...]\n",
    "a = df.explode(\"colonne\")\n",
    "                donne liste ---"
   ]
  },
  {
   "cell_type": "markdown",
   "id": "e3264cbf-0bc1-49da-b392-f6ce9db835cf",
   "metadata": {
    "jp-MarkdownHeadingCollapsed": true,
    "tags": []
   },
   "source": [
    "# Factoriser / get_dummies()"
   ]
  },
  {
   "cell_type": "raw",
   "id": "1f2124af-d73a-4765-8398-b9cf750d6c9a",
   "metadata": {},
   "source": [
    "factoriser :\n",
    "    df[\"nvlle_colonne\"] = df[\"colonne\"].factorize()[0]\n",
    "ne créé qu'une colonne avaec autant de chiffre que de données\n",
    "\n",
    "get_dummies()\n",
    "    pd.concat([df, df[\"col\"].str.get_dummies()], axis = 1)\n",
    "créé autant de colonnes que de données"
   ]
  },
  {
   "cell_type": "markdown",
   "id": "db56dd64-983b-4e1c-b799-b48c90bf10ed",
   "metadata": {
    "jp-MarkdownHeadingCollapsed": true,
    "tags": []
   },
   "source": [
    "# EXEMPLES"
   ]
  },
  {
   "cell_type": "raw",
   "id": "ee12fc11-1d48-4cde-bd23-6b20575bc2bb",
   "metadata": {},
   "source": [
    "Créer une fct qui traduit chq valeur possible ds OPINION\n",
    "def translate(str):\n",
    "    translation = {\"bad\" : \"mauvais\", \"good\" : \"bien\"}\n",
    "    if str in translatio.keys():\n",
    "        return translation[str]\n",
    "    else:\n",
    "        return str\n",
    "df[\"OPINION\"] = df[\"OPINION\"].apply(translate)\n",
    "\n",
    "Créer une fct qui regroupe + fct\n",
    "def a(d,e):\n",
    "    def x(i, j):\n",
    "        ---\n",
    "        return\n",
    "    df[\"col\"] = df[\"col\"].apply(a)\n",
    "    df[\"col\"] = df[\"col\"].dt.month"
   ]
  },
  {
   "cell_type": "raw",
   "id": "6e9b70af-1316-4aa9-b5a2-9360a0b1fdfe",
   "metadata": {},
   "source": [
    "Quelle est la ville avec le + rapport de forme \"fireball\" ?\n",
    "df2 = df.groupby(by = [\"shape\", \"city\"]).count().sort_values(\"time\", ascending = False)\n",
    "df2.loc[\"fireball\"]\n",
    "\n",
    "Quelle est la décennie où l'on a représentés le + de cas d'ovnis ?\n",
    "year_count = df[\"time\"].dt.year.value_count()\n",
    "\n",
    "Afficher top 10 des villes où l'on voit le plus d'ovnis en excluant NY ?\n",
    "a = df.groupby(by = [\"city\"]).count().sort_values(\"time\", ascending = False)\n",
    "a = a.reset_index()\n",
    "a = a[a[\"city\"] != \"NY\"].head(10)\n",
    "\n",
    "Regrouper années par décennie (YYYY-MM-DD time) ?\n",
    "df[\"decennie\"] = (df[\"time].dt.year // 10) *10\n",
    "\n",
    "Afficher un df de ces 10 villes avec les décennies où les valeurs seront le nb d'ovnis par combinaison\n",
    "df_top10 = df[df[\"city\"] == \"Seatle\"].groupby([\"decennie\", \"colors_reported\", \"shape_reported\"]).count()[\"time\"]\n",
    "df_top10 = df_top10.reset_index()\n",
    "df_top10[\"city\"] = \"Seatle\"\n",
    "liste_villes = [\"Phoenix\", \"Houston\", \"LA\", ...]\n",
    "for ville in liste_villes:\n",
    "    df_ville = df[df[\"city\"] == ville].groupby([\"decennie\", \"colors_reported\", \"shape_reported\"].count()[\"time\"]\n",
    "    df_ville = df_ville.reset_index()\n",
    "    df_ville[\"city\"] = ville\n",
    "    df_top10 = pd.concat([df_top10, df_ville], ignore_index = True)\n",
    "    \n",
    "df_top10"
   ]
  }
 ],
 "metadata": {
  "kernelspec": {
   "display_name": "Python 3 (ipykernel)",
   "language": "python",
   "name": "python3"
  },
  "language_info": {
   "codemirror_mode": {
    "name": "ipython",
    "version": 3
   },
   "file_extension": ".py",
   "mimetype": "text/x-python",
   "name": "python",
   "nbconvert_exporter": "python",
   "pygments_lexer": "ipython3",
   "version": "3.10.9"
  },
  "toc-autonumbering": true,
  "toc-showtags": false
 },
 "nbformat": 4,
 "nbformat_minor": 5
}
