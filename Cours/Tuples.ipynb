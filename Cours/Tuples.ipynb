{
 "cells": [
  {
   "cell_type": "markdown",
   "id": "d5967f12-836f-4248-8a79-59fa52cc1e18",
   "metadata": {},
   "source": [
    "Le tuple est :\n",
    "\n",
    "Ordonné\n",
    "non modifiable (immuable)\n",
    "autorise les doublons\n",
    "Le tuple peut contenir :\n",
    "\n",
    "int (entier)\n",
    "float (nombre à virgule)\n",
    "bool (booléen)\n",
    "liste (liste)\n",
    "dict (dictionnaire)\n",
    "tuple (tuple)\n",
    "ensemble (ensemble)\n",
    "complexe (nombre complexe)\n",
    "!!!Cependant, il est important de noter que la conversion de ces types de données en tuples peut entraîner une perte d'information ou de précision, en particulier pour les nombres à virgule flottante et les nombres complexes. De plus, la conversion inverse de tuples en types de données peut également entraîner des erreurs si le tuple n'est pas correctement formaté ou s'il contient des données incorrectes."
   ]
  },
  {
   "cell_type": "markdown",
   "id": "9cfe148b-3fba-4536-8bc6-eaa7eae9d6e6",
   "metadata": {},
   "source": [
    "# Bases"
   ]
  },
  {
   "cell_type": "code",
   "execution_count": 1,
   "id": "b5f0fe73-1077-48f4-82bf-3ac5cb7a4cad",
   "metadata": {},
   "outputs": [
    {
     "name": "stdout",
     "output_type": "stream",
     "text": [
      "('apple', 'banana', 'cherry')\n"
     ]
    }
   ],
   "source": [
    "# Création d'un tuple avec un constructeur de tuple\n",
    "thistuple = tuple((\"apple\", \"banana\", \"cherry\")) # notez les doubles parenthèses\n",
    "print(thistuple) # affiche : ('apple', 'banana', 'cherry')"
   ]
  },
  {
   "cell_type": "code",
   "execution_count": 2,
   "id": "85bb76ab-51e4-4e02-8944-cb2756d0453f",
   "metadata": {},
   "outputs": [
    {
     "name": "stdout",
     "output_type": "stream",
     "text": [
      "<class 'tuple'>\n"
     ]
    }
   ],
   "source": [
    "# Afficher le type d'un tuple\n",
    "mytuple = (\"apple\", \"banana\", \"cherry\")\n",
    "print(type(mytuple)) # affiche : <class 'tuple'>"
   ]
  },
  {
   "cell_type": "code",
   "execution_count": 3,
   "id": "dd5c10ad-68b8-451a-8300-6020a76d425f",
   "metadata": {},
   "outputs": [
    {
     "name": "stdout",
     "output_type": "stream",
     "text": [
      "('apple', 'banana', 'cherry')\n"
     ]
    }
   ],
   "source": [
    "# Afficher tout le tuple\n",
    "mytuple = (\"apple\", \"banana\", \"cherry\")\n",
    "print(mytuple) # affiche : ('apple', 'banana', 'cherry')"
   ]
  },
  {
   "cell_type": "code",
   "execution_count": 4,
   "id": "58cd3201-8329-49b9-adac-6e1220fd4d50",
   "metadata": {},
   "outputs": [
    {
     "name": "stdout",
     "output_type": "stream",
     "text": [
      "apple\n",
      "banana\n",
      "cherry\n"
     ]
    }
   ],
   "source": [
    "# Boucle pour parcourir tous les éléments du tuple\n",
    "thistuple = (\"apple\", \"banana\", \"cherry\")\n",
    "for elt in thistuple: # Boucle for qui parcourt tous les éléments du tuple\n",
    "    print(elt) # imprime tous les éléments du tuple"
   ]
  },
  {
   "cell_type": "code",
   "execution_count": 5,
   "id": "8dd36ba1-e029-42dc-ad68-b039de4a2a4d",
   "metadata": {},
   "outputs": [
    {
     "name": "stdout",
     "output_type": "stream",
     "text": [
      "apple\n",
      "banana\n",
      "cherry\n"
     ]
    }
   ],
   "source": [
    "# Imprimer tous les éléments, en utilisant une boucle while pour parcourir tous les numéros d'index i\n",
    "thistuple = (\"apple\", \"banana\", \"cherry\")\n",
    "ind = 0 # initialisation d'un compteur pour éviter une boucle infinie avec while\n",
    "while ind < len(thistuple): # boucle while qui parcourt les éléments des index en dessous du nombre total d'éléments\n",
    "    print(thistuple[ind]) # imprime l'élément de l'index\n",
    "    ind = ind + 1 # le compteur avance d'un index après chaque boucle"
   ]
  },
  {
   "cell_type": "code",
   "execution_count": 6,
   "id": "d46796ae-036a-486b-a1c7-3375f715a1ff",
   "metadata": {},
   "outputs": [
    {
     "name": "stdout",
     "output_type": "stream",
     "text": [
      "mintcream\n"
     ]
    }
   ],
   "source": [
    "# Imprimer l'élément d'un index donné\n",
    "x = (\"mintcream\", \"burlywood\", \"salmon\")\n",
    "print(x[0]) # imprime l'élément à l'index 0"
   ]
  },
  {
   "cell_type": "code",
   "execution_count": 7,
   "id": "14ecadd4-8459-45cc-a394-aa16868aadf6",
   "metadata": {},
   "outputs": [
    {
     "name": "stdout",
     "output_type": "stream",
     "text": [
      "apple\n",
      "banana\n"
     ]
    }
   ],
   "source": [
    "# Imprimer les éléments des index aux conditions fixées\n",
    "# Boucle while qui parcourt tous les index pour imprimer tous les éléments\n",
    "thistuple = (\"apple\", \"banana\", \"cherry\")\n",
    "ind = 0 # initialisation d'un compteur pour éviter une boucle infinie avec while\n",
    "while ind < 2: # boucle while qui parcourt les éléments des index en dessous du nombre total d'éléments\n",
    "    print(thistuple[ind]) # imprime l'élément de l'index\n",
    "    ind = ind + 1 # le compteur avance d'un index après chaque boucle"
   ]
  },
  {
   "cell_type": "code",
   "execution_count": 8,
   "id": "c7df005f-7116-457d-baf6-1a64eadf1d6f",
   "metadata": {},
   "outputs": [
    {
     "name": "stdout",
     "output_type": "stream",
     "text": [
      "apple\n",
      "banana\n",
      "cherry\n"
     ]
    }
   ],
   "source": [
    "# Imprimer tous les éléments de la liste avec une boucle for qui parcourt tous les éléments du tuple\n",
    "thistuple = (\"apple\", \"banana\", \"cherry\")\n",
    "for ind in range(len(thistuple)): # Boucle qui parcourt la totalité des éléments de tous les index notés dans range\n",
    "    print(thistuple[ind]) # imprime tous les éléments de la liste parcourue grâce à la boucle"
   ]
  },
  {
   "cell_type": "code",
   "execution_count": 9,
   "id": "f2894c56-b683-415b-a676-6f775521dd31",
   "metadata": {},
   "outputs": [
    {
     "name": "stdout",
     "output_type": "stream",
     "text": [
      "apple\n",
      "banana\n",
      "cherry\n"
     ]
    }
   ],
   "source": [
    "# Imprimer tous les éléments de la liste avec une boucle for qui parcourt tous les éléments du tuple\n",
    "thistuple = (\"apple\", \"banana\", \"cherry\")\n",
    "for elt in thistuple: # Boucle for qui parcourt tous les éléments du tuple\n",
    "    print(elt) # imprime tous les éléments du tuple"
   ]
  },
  {
   "cell_type": "code",
   "execution_count": 10,
   "id": "65bce985-bdf9-4d72-b4f0-84c590dc088f",
   "metadata": {},
   "outputs": [
    {
     "name": "stdout",
     "output_type": "stream",
     "text": [
      "banana\n"
     ]
    }
   ],
   "source": [
    "# Imprimer un élément à un index donné\n",
    "# !!! PREMIER INDEX = 0 PAS 1 !!!\n",
    "mytuple = (\"apple\", \"banana\", \"cherry\")\n",
    "print(mytuple[1]) # imprime l'élément d'index"
   ]
  },
  {
   "cell_type": "markdown",
   "id": "dffd89cb-b089-49e4-9c23-a14ca93003a8",
   "metadata": {},
   "source": [
    "# BASES SUR LES TUPLES CONTENANTS PLUSIEURS TYPES"
   ]
  },
  {
   "cell_type": "code",
   "execution_count": 12,
   "id": "05a9cbac-9517-4d3c-ad5e-e3e2a8fc803e",
   "metadata": {},
   "outputs": [
    {
     "name": "stdout",
     "output_type": "stream",
     "text": [
      "1\n",
      "three\n",
      "6\n",
      "10\n",
      "16\n",
      "21\n"
     ]
    }
   ],
   "source": [
    "# Création d'un tuple contenant différents types d'éléments\n",
    "my_tuple = (1, 2, \"three\", \"four\", [5, 6], [7, 8, 9], (10, 11), (12, 13, 14), {15, 16}, {17, 18, 19}, {\"key1\": 20, \"key2\": 21}, {\"key3\": 22, \"key4\": 23, \"key5\": 24})\n",
    "\n",
    "# Accès à un élément d'un chiffre\n",
    "print(my_tuple[0])  # 1\n",
    "\n",
    "# Accès à un élément d'une chaîne de caractères\n",
    "print(my_tuple[2])  # three\n",
    "\n",
    "# Accès à un élément d'une liste\n",
    "print(my_tuple[4][1])  # 6\n",
    "\n",
    "# Accès à un élément d'un tuple\n",
    "print(my_tuple[6][0])  # 10\n",
    "\n",
    "# Accès à un élément d'un ensemble\n",
    "print(list(my_tuple[8])[0])  # 16\n",
    "\n",
    "# Accès à un élément d'un dictionnaire\n",
    "print(my_tuple[10][\"key2\"])  # 21"
   ]
  },
  {
   "cell_type": "code",
   "execution_count": 13,
   "id": "748a1e9a-1ee2-45fa-9c04-c38c45a03b64",
   "metadata": {},
   "outputs": [
    {
     "name": "stdout",
     "output_type": "stream",
     "text": [
      "<class 'int'>\n",
      "<class 'int'>\n",
      "<class 'str'>\n",
      "<class 'str'>\n",
      "<class 'list'>\n",
      "<class 'list'>\n",
      "<class 'tuple'>\n",
      "<class 'tuple'>\n",
      "<class 'set'>\n",
      "<class 'set'>\n",
      "<class 'dict'>\n",
      "<class 'dict'>\n"
     ]
    }
   ],
   "source": [
    "# Création du tuple avec différents types d'éléments\n",
    "my_tuple = (1, 2, \"three\", \"four\", [5, 6], [7, 8, 9], (10, 11), (12, 13, 14), {15, 16}, {17, 18, 19}, {\"key1\": 20, \"key2\": 21}, {\"key3\": 22, \"key4\": 23, \"key5\": 24})\n",
    "\n",
    "# Parcours de chaque élément du tuple et affichage de son type\n",
    "for element in my_tuple:\n",
    "    print(type(element))\n",
    "# Résultat attendu :# <class 'int'> <class 'int'> <class 'str'> <class 'str'> <class 'list'> <class 'list'> <class 'tuple'> <class 'tuple'> <class 'set'>\n",
    "# <class 'set'> <class 'dict'> <class 'dict'>"
   ]
  },
  {
   "cell_type": "code",
   "execution_count": 14,
   "id": "3932d045-e5d8-4ffc-acfa-1fa1dd7bf820",
   "metadata": {},
   "outputs": [
    {
     "name": "stdout",
     "output_type": "stream",
     "text": [
      "<class 'int'>\n",
      "<class 'int'>\n",
      "<class 'str'>\n",
      "<class 'str'>\n",
      "<class 'int'>\n",
      "<class 'int'>\n",
      "<class 'int'>\n",
      "<class 'int'>\n",
      "<class 'int'>\n",
      "<class 'int'>\n",
      "<class 'int'>\n",
      "<class 'int'>\n",
      "<class 'int'>\n",
      "<class 'int'>\n",
      "<class 'int'>\n",
      "<class 'int'>\n",
      "<class 'int'>\n",
      "<class 'int'>\n",
      "<class 'int'>\n",
      "<class 'str'>\n",
      "<class 'str'>\n",
      "<class 'str'>\n",
      "<class 'str'>\n",
      "<class 'str'>\n"
     ]
    }
   ],
   "source": [
    "# Création du tuple avec différents types d'éléments\n",
    "my_tuple = (1, 2, \"three\", \"four\", [5, 6], [7, 8, 9], (10, 11), (12, 13, 14), {15, 16}, {17, 18, 19}, {\"key1\": 20, \"key2\": 21}, {\"key3\": 22, \"key4\": 23, \"key5\": 24})\n",
    "\n",
    "# Parcours de chaque élément du tuple\n",
    "for element in my_tuple:\n",
    "    # Si l'élément est un tuple\n",
    "    if isinstance(element, tuple):\n",
    "        # Parcours de chaque élément du tuple\n",
    "        for item in element:\n",
    "            # Affichage du type de chaque élément du tuple\n",
    "            print(type(item))\n",
    "    # Si l'élément est une liste, un set ou un dictionnaire\n",
    "    elif isinstance(element, (list, set, dict)):\n",
    "        # Parcours de chaque élément de la liste, du set ou du dictionnaire\n",
    "        for item in element:\n",
    "            # Affichage du type de chaque élément de la liste, du set ou du dictionnaire\n",
    "            print(type(item))\n",
    "    # Si l'élément est un élément simple\n",
    "    else:\n",
    "        # Affichage du type de l'élément\n",
    "        print(type(element))\n",
    "#imprime <class 'int'> <class 'int'> <class 'str'> <class 'str'> <class 'int'> <class 'int'> <class 'int'> <class 'int'> <class 'int'> <class 'int'>\n",
    "#<class 'int'> <class 'int'> <class 'int'> <class 'int'> <class 'int'> <class 'int'> <class 'int'> <class 'int'> <class 'int'> <class 'str'>\n",
    "#<class 'str'> <class 'str'> <class 'str'> <class 'str'>"
   ]
  },
  {
   "cell_type": "markdown",
   "id": "e21fc74f-4c18-4fd1-b581-a140de940523",
   "metadata": {},
   "source": [
    "# SLICING"
   ]
  },
  {
   "cell_type": "code",
   "execution_count": 15,
   "id": "9335a141-e2bf-4bd1-abd1-3250b1f5b2d4",
   "metadata": {},
   "outputs": [
    {
     "name": "stdout",
     "output_type": "stream",
     "text": [
      "Tuple original : (1, 2, 3, 'hello', 'world', [4, 5, 6], (7, 8, 9), {'name': 'Alice', 'age': 25}, {10, 11, 12})\n",
      "\n",
      "Slicing simple : (3, 'hello', 'world', [4, 5, 6], (7, 8, 9), {'name': 'Alice', 'age': 25}, {10, 11, 12})\n",
      "\n",
      "Slicing avec des indices négatifs : ((7, 8, 9), {'name': 'Alice', 'age': 25}, {10, 11, 12})\n",
      "\n",
      "Slicing avec un pas de 2 : (1, 3, 'world', (7, 8, 9), {10, 11, 12})\n",
      "\n",
      "Slicing avec des indices négatifs et un pas de -1 : ({10, 11, 12}, {'name': 'Alice', 'age': 25}, (7, 8, 9), [4, 5, 6], 'world', 'hello', 3, 2, 1)\n",
      "\n",
      "Slicing avec des indices négatifs et un pas de -2 : ({10, 11, 12}, (7, 8, 9), 'world', 3, 1)\n",
      "\n",
      "Slicing avec des indices de début et de fin : (3, 'hello', 'world', [4, 5, 6], (7, 8, 9))\n",
      "\n",
      "Slicing avec des indices de début et de fin et un pas de 2 : (2, 'hello', [4, 5, 6])\n"
     ]
    }
   ],
   "source": [
    "# Création d'un tuple avec des éléments de différents types\n",
    "my_tuple = (1, 2, 3, \"hello\", \"world\", [4, 5, 6], (7, 8, 9), {\"name\": \"Alice\", \"age\": 25}, {10, 11, 12})\n",
    "\n",
    "# Affichage du tuple\n",
    "print(\"Tuple original :\", my_tuple)\n",
    "\n",
    "# Slicing simple (récupère les éléments de l'index 2 jusqu'à la fin)\n",
    "print(\"\\nSlicing simple :\", my_tuple[2:])   # affiche (3, \"hello\", \"world\", [4, 5, 6], (7, 8, 9), {\"name\": \"Alice\", \"age\": 25}, {10, 11, 12})\n",
    "\n",
    "# Slicing avec des indices négatifs (récupère les 3 derniers éléments)\n",
    "print(\"\\nSlicing avec des indices négatifs :\", my_tuple[-3:])   # affiche ((7, 8, 9), {\"name\": \"Alice\", \"age\": 25}, {10, 11, 12})\n",
    "\n",
    "# Slicing avec un pas de 2 (récupère un élément sur 2)\n",
    "print(\"\\nSlicing avec un pas de 2 :\", my_tuple[::2])   # affiche (1, 3, [4, 5, 6], {\"name\": \"Alice\", \"age\": 25},)\n",
    "\n",
    "# Slicing avec des indices négatifs et un pas de -1 (renverse le tuple)\n",
    "print(\"\\nSlicing avec des indices négatifs et un pas de -1 :\", my_tuple[::-1])   # affiche ({10, 11, 12}, {\"name\": \"Alice\", \"age\": 25}, (7, 8, 9), [4, 5, 6], \"world\", \"hello\", 3, 2, 1)\n",
    "\n",
    "# Slicing avec des indices négatifs et un pas de -2 (renverse le tuple et récupère un élément sur 2)\n",
    "print(\"\\nSlicing avec des indices négatifs et un pas de -2 :\", my_tuple[::-2])   # affiche ({10, 11, 12}, (7, 8, 9), \"world\", 2, 1)\n",
    "\n",
    "# Slicing avec des indices de début et de fin (récupère les éléments de l'index 2 à l'index 6)\n",
    "print(\"\\nSlicing avec des indices de début et de fin :\", my_tuple[2:7])   # affiche (3, \"hello\", \"world\", [4, 5, 6], (7, 8, 9))\n",
    "\n",
    "# Slicing avec des indices de début et de fin et un pas de 2 (récupère un élément sur 2, de l'index 1 à l'index 6)\n",
    "print(\"\\nSlicing avec des indices de début et de fin et un pas de 2 :\", my_tuple[1:7:2])   # affiche (2, \"hello\", (7, 8, 9))"
   ]
  },
  {
   "cell_type": "markdown",
   "id": "adb9e182-60b3-4a76-abf5-c1faa8c3ffd8",
   "metadata": {},
   "source": [
    "# COMMENT MODIFIER UN TUPPLE NON MODIFIABLE ET COLLER 2 TUPPLE ENSEMBLE"
   ]
  },
  {
   "cell_type": "code",
   "execution_count": 16,
   "id": "46a5af1c-2e3b-4403-be59-04c66d253313",
   "metadata": {},
   "outputs": [
    {
     "name": "stdout",
     "output_type": "stream",
     "text": [
      "(1, 2, 3, 4, 5, 6)\n",
      "(2, 3, 4, 5)\n"
     ]
    }
   ],
   "source": [
    "### AJOUTER OU SUPRIMER DES  DES ELEMENTS A UN TUPPLE EN CREANT UN NOUVEAU TUPPLE \n",
    "\n",
    "# Création d'un tuple\n",
    "my_tuple = (1, 2, 3, 4, 5)\n",
    "\n",
    "# Ajout d'un élément à la fin du tuple en créant un nouveau tuple\n",
    "new_tuple = my_tuple + (6,)\n",
    "\n",
    "# Affichage du nouveau tuple avec l'élément ajouté\n",
    "print(new_tuple)\n",
    "# Le résultat affiché sera: (1, 2, 3, 4, 5, 6)\n",
    "\n",
    "# Suppression du premier élément du tuple en créant un nouveau tuple\n",
    "new_tuple = my_tuple[1:]\n",
    "\n",
    "# Affichage du nouveau tuple avec le premier élément supprimé\n",
    "print(new_tuple)\n",
    "# Le résultat affiché sera: (2, 3, 4, 5)"
   ]
  },
  {
   "cell_type": "code",
   "execution_count": 17,
   "id": "6f769ef7-252d-4ad4-ab4c-cbcfe21a3967",
   "metadata": {},
   "outputs": [
    {
     "name": "stdout",
     "output_type": "stream",
     "text": [
      "(1, 2, 3, 4, 5, 6)\n",
      "(2, 3, 4, 5)\n"
     ]
    }
   ],
   "source": [
    "### AJOUTER OU SUPRIMER DES  DES ELEMENTS A UN TUPPLE EN CREANT LE TRANSFORMANT EN LISTE\n",
    "\n",
    "# Création d'un tuple\n",
    "my_tuple = (1, 2, 3, 4, 5)\n",
    "\n",
    "# Conversion du tuple en liste\n",
    "my_list = list(my_tuple)\n",
    "\n",
    "# Ajout d'un élément à la fin de la liste\n",
    "my_list.append(6)\n",
    "\n",
    "# Conversion de la liste en tuple\n",
    "new_tuple = tuple(my_list)\n",
    "\n",
    "# Affichage du nouveau tuple avec l'élément ajouté\n",
    "print(new_tuple)\n",
    "# Le résultat affiché sera: (1, 2, 3, 4, 5, 6)\n",
    "\n",
    "# Suppression du premier élément du tuple en créant un nouveau tuple\n",
    "new_tuple = tuple(my_tuple[1:])\n",
    "\n",
    "# Affichage du nouveau tuple avec le premier élément supprimé\n",
    "print(new_tuple)\n",
    "# Le résultat affiché sera: (2, 3, 4, 5)"
   ]
  },
  {
   "cell_type": "code",
   "execution_count": 18,
   "id": "e7c4e2ce-13fc-4e56-8c41-b5dd1ab5e31b",
   "metadata": {},
   "outputs": [
    {
     "name": "stdout",
     "output_type": "stream",
     "text": [
      "Tuple 1: (1, 2, 3)\n",
      "Tuple 2: (4, 5, 6)\n",
      "Résultat de la concaténation: (1, 2, 3, 4, 5, 6)\n"
     ]
    }
   ],
   "source": [
    "#ASSOCIATION DE 2 TUPLES PAR CONCATENATION\n",
    "\n",
    "# Création de deux tuples\n",
    "tuple1 = (1, 2, 3)\n",
    "tuple2 = (4, 5, 6)\n",
    "\n",
    "# Concaténation des deux tuples en utilisant l'opérateur \"+\"\n",
    "result_tuple = tuple1 + tuple2\n",
    "\n",
    "# Affichage des tuples originaux et du tuple résultant\n",
    "print(\"Tuple 1:\", tuple1)\n",
    "print(\"Tuple 2:\", tuple2)\n",
    "print(\"Résultat de la concaténation:\", result_tuple)"
   ]
  },
  {
   "cell_type": "code",
   "execution_count": 19,
   "id": "efe3951b-5639-46cf-bfd6-3aebebe0ff87",
   "metadata": {},
   "outputs": [
    {
     "name": "stdout",
     "output_type": "stream",
     "text": [
      "Tuple 1: (1, 2, 3)\n",
      "Tuple 2: (4, 5, 6)\n",
      "Résultat de la concaténation: (1, 2, 3, 4, 5, 6)\n"
     ]
    }
   ],
   "source": [
    "#ASSOCIATION DE 2 TUPLES EN LE TRANSFORMANT EN LISTE \n",
    "# Création de deux tuples\n",
    "tuple1 = (1, 2, 3)\n",
    "tuple2 = (4, 5, 6)\n",
    "\n",
    "# Transformation des tuples en listes\n",
    "list1 = list(tuple1)\n",
    "list2 = list(tuple2)\n",
    "\n",
    "# Concaténation des deux listes en utilisant la méthode \"extend\"\n",
    "list1.extend(list2)\n",
    "\n",
    "# Transformation de la liste résultante en tuple\n",
    "result_tuple = tuple(list1)\n",
    "\n",
    "# Affichage des tuples originaux et du tuple résultant\n",
    "print(\"Tuple 1:\", tuple1)\n",
    "print(\"Tuple 2:\", tuple2)\n",
    "print(\"Résultat de la concaténation:\", result_tuple)"
   ]
  },
  {
   "cell_type": "markdown",
   "id": "cf0840d1-a372-4ff0-8714-1a624bd73316",
   "metadata": {},
   "source": [
    "# METHODES"
   ]
  },
  {
   "cell_type": "code",
   "execution_count": 20,
   "id": "0494fb76-8bd7-48d2-a448-558f02a11b3a",
   "metadata": {},
   "outputs": [
    {
     "name": "stdout",
     "output_type": "stream",
     "text": [
      "Nombre d'occurrences de 3 : 1\n",
      "Index de la première occurrence de 2 : 3\n",
      "Longueur du tuple : 5\n",
      "Valeur maximale du tuple : 5\n",
      "Valeur minimale du tuple : 1\n",
      "Tuple trié par ordre croissant : [1, 2, 3, 4, 5]\n",
      "Tuple renversé : (4, 2, 5, 3, 1)\n"
     ]
    }
   ],
   "source": [
    "# Création d'un tuple\n",
    "my_tuple = (1, 3, 5, 2, 4)\n",
    "\n",
    "# Utilisation de la méthode count() pour compter le nombre d'occurrences d'un élément\n",
    "count_3 = my_tuple.count(3)\n",
    "print(\"Nombre d'occurrences de 3 :\", count_3)  # Affiche \"Nombre d'occurrences de 3 : 3\"\n",
    "\n",
    "# Utilisation de la méthode index() pour trouver l'index de la première occurrence d'un élément\n",
    "index_2 = my_tuple.index(2)\n",
    "print(\"Index de la première occurrence de 2 :\", index_2)  # Affiche \"Index de la première occurrence de 2 : 1\"\n",
    "\n",
    "# Utilisation de la méthode len()\n",
    "print(\"Longueur du tuple :\", len(my_tuple)) # Résultat : 5\n",
    "\n",
    "# Utilisation de la méthode max()\n",
    "print(\"Valeur maximale du tuple :\", max(my_tuple)) # Résultat : 5\n",
    "\n",
    "# Utilisation de la méthode min()\n",
    "print(\"Valeur minimale du tuple :\", min(my_tuple)) # Résultat : 1\n",
    "\n",
    "# Utilisation de la méthode sorted()\n",
    "sorted_tuple = sorted(my_tuple)\n",
    "print(\"Tuple trié par ordre croissant :\", sorted_tuple) # Résultat : (1, 2, 3, 4, 5)> DEVIENT UNE LISTE\n",
    "\n",
    "# Utilisation de la méthode reversed()\n",
    "reversed_tuple = tuple(reversed(my_tuple))\n",
    "print(\"Tuple renversé :\", reversed_tuple) # Résultat : (4, 2, 5, 3, 1)> DEVIENT UNE LISTE\n",
    "\n",
    "# Création d'un tuple\n",
    "my_tuple = (1, 2, 2, 3, 3, 3, 4, 5)"
   ]
  },
  {
   "cell_type": "markdown",
   "id": "988249bb-97f6-4941-ab6e-9436fe87875e",
   "metadata": {},
   "source": [
    "# BOUCLE"
   ]
  },
  {
   "cell_type": "code",
   "execution_count": 21,
   "id": "237f9c87-27ad-4aeb-b7fc-7cb808176adb",
   "metadata": {},
   "outputs": [
    {
     "name": "stdout",
     "output_type": "stream",
     "text": [
      "Index: 0  - Item: apple\n",
      "Index: 1  - Item: banana\n",
      "Index: 2  - Item: cherry\n",
      "apple\n",
      "banana\n",
      "cherry\n",
      "apple\n",
      "banana\n",
      "apple\n",
      "banana\n"
     ]
    }
   ],
   "source": [
    "# Exemple de boucle for qui parcourt un tuple et affiche chaque élément avec son index\n",
    "my_tuple = (\"apple\", \"banana\", \"cherry\")\n",
    "for i, item in enumerate(my_tuple):\n",
    "    print(\"Index:\", i, \" - Item:\", item)\n",
    "    \n",
    "# La fonction enumerate() est utilisée pour obtenir à la fois l'élément et son index dans la boucle for\n",
    "# La boucle parcourt chaque élément du tuple et les affiche avec leur index\n",
    "# Le print affiche chaque index et élément du tuple en utilisant la variable i pour l'index et la variable item pour l'élément\n",
    "# Le résultat affiché sera : \n",
    "# Index: 0  - Item: apple\n",
    "# Index: 1  - Item: banana\n",
    "# Index: 2  - Item: cherry\n",
    "\n",
    "\n",
    "# Exemple de boucle while qui utilise un compteur pour afficher les éléments d'un tuple\n",
    "my_tuple = (\"apple\", \"banana\", \"cherry\")\n",
    "count = 0\n",
    "while count < len(my_tuple):\n",
    "    print(my_tuple[count])\n",
    "    count += 1\n",
    "    \n",
    "# Le compteur count est initialisé à 0 avant la boucle while\n",
    "# La boucle while parcourt chaque élément du tuple tant que le compteur count est inférieur à la longueur du tuple\n",
    "# Le print affiche l'élément du tuple à l'indice correspondant au compteur count\n",
    "# Le compteur count est incrémenté de 1 à chaque tour de boucle pour passer à l'élément suivant\n",
    "# Le résultat affiché sera :\n",
    "# apple\n",
    "# banana\n",
    "# cherry\n",
    "\n",
    "\n",
    "# Exemple de boucle for qui parcourt un tuple et affiche chaque élément qui contient une lettre spécifique\n",
    "my_tuple = (\"apple\", \"banana\", \"cherry\")\n",
    "for item in my_tuple:\n",
    "    if \"a\" in item:\n",
    "        print(item)\n",
    "        \n",
    "# La boucle for parcourt chaque élément du tuple\n",
    "# La condition if vérifie si la lettre \"a\" est présente dans chaque élément du tuple\n",
    "# Si la lettre \"a\" est présente, l'élément est affiché avec le print\n",
    "# Le résultat affiché sera :\n",
    "# apple\n",
    "# banana\n",
    "\n",
    "\n",
    "# Exemple de boucle while qui utilise une condition pour parcourir un tuple jusqu'à un certain index\n",
    "my_tuple = (\"apple\", \"banana\", \"cherry\")\n",
    "index = 0\n",
    "while index < 2:\n",
    "    print(my_tuple[index])\n",
    "    index += 1\n",
    "    \n",
    "# Le compteur index est initialisé à 0 avant la boucle while\n",
    "# La boucle while parcourt chaque élément du tuple tant que l'index est inférieur à 2\n",
    "# Le print affiche l'élément du tuple à l'index correspondant à l'index actuel de la boucle while\n",
    "# L'index est incrémenté de 1 à chaque tour de boucle pour passer à l'élément suivant\n",
    "# La boucle while s'arrête après l'affichage de l'élément à l'index 1 inclusivement"
   ]
  },
  {
   "cell_type": "markdown",
   "id": "eff82813-6f3c-4256-a41c-c65eca9398e2",
   "metadata": {
    "tags": []
   },
   "source": [
    "# DEBALLER UN TUPLE"
   ]
  },
  {
   "cell_type": "code",
   "execution_count": 22,
   "id": "7dc5ed7e-5a31-4896-9271-8890233325c8",
   "metadata": {},
   "outputs": [
    {
     "name": "stdout",
     "output_type": "stream",
     "text": [
      "apple\n",
      "banana\n",
      "cherry\n",
      "apple\n",
      "banana\n",
      "cherry\n",
      "0 apple\n",
      "1 banana\n",
      "2 cherry\n",
      "apple\n",
      "['banana', 'cherry']\n",
      "apple\n",
      "['banana']\n",
      "cherry\n",
      "apple\n",
      "['banana', 'cherry']\n",
      "date\n"
     ]
    }
   ],
   "source": [
    "# Définition d'un tuple avec 3 éléments\n",
    "my_tuple = (\"apple\", \"banana\", \"cherry\")\n",
    "\n",
    "# Déballage avec affectation multiple\n",
    "a, b, c = my_tuple\n",
    "print(a)  # Affiche \"apple\"\n",
    "print(b)  # Affiche \"banana\"\n",
    "print(c)  # Affiche \"cherry\"\n",
    "\n",
    "# Déballage avec une boucle for\n",
    "for item in my_tuple:\n",
    "    print(item)  # Affiche chaque élément du tuple sur une ligne séparée\n",
    "# Résultat attendu :\n",
    "# apple\n",
    "# banana\n",
    "# cherry\n",
    "\n",
    "# Déballage avec une boucle for et la méthode enumerate()\n",
    "for i, item in enumerate(my_tuple):\n",
    "    print(i, item)  # Affiche l'indice et la valeur de chaque élément sur une ligne séparée\n",
    "# Résultat attendu :\n",
    "# 0 apple\n",
    "# 1 banana\n",
    "# 2 cherry\n",
    "\n",
    "# Déballage avec une affectation multiple et un astérisque\n",
    "a, *b = my_tuple\n",
    "print(a)  # Affiche \"apple\"\n",
    "print(b)  # Affiche [\"banana\", \"cherry\"]\n",
    "\n",
    "# Déballage avec une affectation multiple et deux astérisques\n",
    "a, *b, c = my_tuple\n",
    "print(a)  # Affiche \"apple\"\n",
    "print(b)  # Affiche [\"banana\"]\n",
    "print(c)  # Affiche \"cherry\"\n",
    "\n",
    "# Déballage avec une affectation multiple et deux astérisques avec un tuple de taille différente\n",
    "my_tuple2 = (\"apple\", \"banana\", \"cherry\", \"date\")\n",
    "a, *b, c = my_tuple2\n",
    "print(a)  # Affiche \"apple\"\n",
    "print(b)  # Affiche [\"banana\", \"cherry\"]\n",
    "print(c)  # Affiche \"date\""
   ]
  }
 ],
 "metadata": {
  "kernelspec": {
   "display_name": "Python 3 (ipykernel)",
   "language": "python",
   "name": "python3"
  },
  "language_info": {
   "codemirror_mode": {
    "name": "ipython",
    "version": 3
   },
   "file_extension": ".py",
   "mimetype": "text/x-python",
   "name": "python",
   "nbconvert_exporter": "python",
   "pygments_lexer": "ipython3",
   "version": "3.10.9"
  }
 },
 "nbformat": 4,
 "nbformat_minor": 5
}
