{
 "cells": [
  {
   "cell_type": "markdown",
   "id": "8cdafc94-d1ec-439e-9445-4850099cd277",
   "metadata": {},
   "source": [
    "# LE SET"
   ]
  },
  {
   "cell_type": "raw",
   "id": "b97ed6b6-d693-4c77-9c7b-8f7aba7e6fb3",
   "metadata": {},
   "source": [
    "Composition :\n",
    "\n",
    "variable = {\"élément1\", \"élément2\", \"élément3\", ...} La variable est composée d'éléments qui n'ont pas d'indice ou de position fixe.\n",
    "\n",
    "Le set est :\n",
    "\n",
    "non-ordonné non-modifiable n'autorise pas les doublons\n",
    "\n",
    "Le set peut contenir :\n",
    "\n",
    "int (entier) float (nombre à virgule) bool (booléen) tuple (tuple) ensemble (ensemble) complexe (nombre complexe)\n",
    "\n",
    "Cependant, il est important de noter que la conversion de ces types de données en chaînes de caractères peut entraîner une perte d'information ou de précision, en particulier pour les nombres à virgule flottante et les nombres complexes. De plus, la conversion inverse de chaînes de caractères en types de données peut également entraîner des erreurs si la chaîne n'est pas correctement formatée ou si elle contient des données incorrectes."
   ]
  },
  {
   "cell_type": "markdown",
   "id": "c50ba2e0-ea17-4738-b737-f05aaae78f53",
   "metadata": {},
   "source": [
    "# BASES"
   ]
  },
  {
   "cell_type": "code",
   "execution_count": 1,
   "id": "56680be9-e965-40f3-a9ba-64a7c700295b",
   "metadata": {},
   "outputs": [
    {
     "name": "stdout",
     "output_type": "stream",
     "text": [
      "{'apple', 'cherry', 'banana'}\n",
      "<class 'set'>\n",
      "{'apple', 'cherry', 'banana'}\n",
      "apple\n",
      "cherry\n",
      "banana\n",
      "True\n",
      "Yes, 'apple' is in thisset\n",
      "False\n"
     ]
    }
   ],
   "source": [
    "# Création d'un set avec le mot constructeur set\n",
    "thisset = set((\"apple\", \"banana\", \"cherry\")) # note the double round-brackets\n",
    "print(thisset) # affiche {'banana', 'cherry', 'apple'}\n",
    "\n",
    "# Type de variable\n",
    "thisset = {\"apple\", \"banana\", \"cherry\", \"apple\"}\n",
    "print(type(thisset)) # affiche <class 'set'>\n",
    "\n",
    "# Tous les éléments du set\n",
    "# Les doublons seront ignorés\n",
    "thisset = {\"apple\", \"banana\", \"cherry\"}\n",
    "print(thisset) # affiche {'banana', 'cherry', 'apple'}\n",
    "\n",
    "# Boucle for qui parcourt tous les éléments du set\n",
    "thisset = {\"apple\", \"banana\", \"cherry\"}\n",
    "for elt in thisset:\n",
    "  print(elt) # affiche chaque élément sur une ligne séparée: banana, cherry, apple\n",
    "\n",
    "# Si un mot n'existe pas dans le set, affiche une réponse boléenne True ou False\n",
    "thisset = {\"apple\", \"banana\", \"cherry\"}\n",
    "print(\"apple\" in thisset) # affiche True\n",
    "\n",
    "# Si un élément existe dans le set, affiche une réponse Yes, 'élément' is in thisset\n",
    "thisset = {\"apple\", \"banana\", \"cherry\", \"apple\"}\n",
    "if \"apple\" in thisset:\n",
    "  print(\"Yes, 'apple' is in thisset\") # affiche Yes, 'apple' is in thisset\n",
    "\n",
    "# Si un élément n'existe pas dans le set, affiche une réponse boléenne True ou False\n",
    "thisset = {\"apple\", \"banana\", \"cherry\", \"apple\"}\n",
    "print(\"apple\" not in thisset) # affiche False car \"apple\" est dans le set"
   ]
  },
  {
   "cell_type": "markdown",
   "id": "c9de5458-5602-4330-9e91-c64edbffd2f7",
   "metadata": {},
   "source": [
    "# BASE SUR LES SETS CONTENANT PLUSIEURS TYPES"
   ]
  },
  {
   "cell_type": "raw",
   "id": "95143b1e-1c21-42ba-a71f-848ffbfd158d",
   "metadata": {},
   "source": [
    "**le set ne peut contenir que :\n",
    "\n",
    "int float str tuple bool frozenset contenant des liste au besoin\n",
    "\n",
    "**le set ne peut pas contenir:\n",
    "\n",
    "liste dictionnaire set"
   ]
  },
  {
   "cell_type": "code",
   "execution_count": 2,
   "id": "d0ba2653-3e4e-4376-ad3a-0c45cc4a77f8",
   "metadata": {},
   "outputs": [
    {
     "name": "stdout",
     "output_type": "stream",
     "text": [
      "True\n",
      "True\n",
      "True\n",
      "True\n",
      "False\n",
      "True\n"
     ]
    }
   ],
   "source": [
    "# Création d'un set contenant différents types d'éléments\n",
    "my_set = {1, 2, \"three\", \"four\", (5, 6), (7, 8, 9), (10, 11), (12, 13, 14), frozenset({15, 16}), frozenset({17, 18, 19}), frozenset({\"key1\", \"key2\", \"key3\"}), frozenset({\"key4\", \"key5\", \"key6\"})}\n",
    "\n",
    "# Accès à un élément d'un chiffre\n",
    "print(1 in my_set)  # True\n",
    "\n",
    "# Accès à un élément d'une chaîne de caractères\n",
    "print(\"three\" in my_set)  # True\n",
    "\n",
    "# Accès à un élément d'une liste\n",
    "print((5, 6) in my_set)  # True\n",
    "\n",
    "# Accès à un élément d'un tuple\n",
    "print((10, 11) in my_set)  # True\n",
    "\n",
    "# Accès à un élément d'un ensemble\n",
    "print(\"key1\" in my_set)  # False\n",
    "\n",
    "# Accès à un élément d'un dictionnaire\n",
    "print(frozenset({\"key1\", \"key2\", \"key3\"}) in my_set)  # True"
   ]
  },
  {
   "cell_type": "code",
   "execution_count": 3,
   "id": "777a6b9e-a3aa-46a6-b7cb-ce3d9a2d1f8d",
   "metadata": {},
   "outputs": [
    {
     "name": "stdout",
     "output_type": "stream",
     "text": [
      "<class 'int'>\n",
      "<class 'int'>\n",
      "<class 'str'>\n",
      "<class 'frozenset'>\n",
      "<class 'frozenset'>\n",
      "<class 'frozenset'>\n",
      "<class 'frozenset'>\n",
      "<class 'tuple'>\n",
      "<class 'frozenset'>\n",
      "<class 'str'>\n",
      "<class 'tuple'>\n",
      "<class 'frozenset'>\n"
     ]
    }
   ],
   "source": [
    "# Création du set avec différents types d'éléments\n",
    "my_set = {1, 2, \"three\", \"four\", (5, 6), (7, 8, 9), frozenset([10, 11]), frozenset([12, 13, 14]), frozenset({15, 16}), frozenset({17, 18, 19}), frozenset({\"key1\", \"key2\", \"key3\"}), frozenset({\"key4\", \"key5\", \"key6\"})}\n",
    "\n",
    "# Parcours de chaque élément du set et affichage de son type\n",
    "for element in my_set:\n",
    "    print(type(element))\n",
    "# Résultat attendu :\n",
    "# <class 'int'> <class 'str'> <class 'tuple'> <class 'frozenset'> <class 'frozenset'> <class 'frozenset'> <class 'frozenset'> <class 'dict'> <class 'frozenset'>\n",
    "# <class 'frozenset'> <class 'frozenset'> <class 'frozenset'>"
   ]
  },
  {
   "cell_type": "code",
   "execution_count": 4,
   "id": "69620a86-fe21-4662-8c57-2be938df7aab",
   "metadata": {},
   "outputs": [
    {
     "name": "stdout",
     "output_type": "stream",
     "text": [
      "<class 'str'>\n",
      "<class 'int'>\n",
      "<class 'int'>\n",
      "<class 'str'>\n",
      "<class 'str'>\n",
      "<class 'int'>\n",
      "<class 'int'>\n",
      "<class 'int'>\n",
      "<class 'int'>\n",
      "<class 'int'>\n",
      "<class 'str'>\n",
      "<class 'str'>\n",
      "<class 'str'>\n",
      "<class 'str'>\n",
      "<class 'int'>\n",
      "<class 'int'>\n",
      "<class 'int'>\n",
      "<class 'int'>\n",
      "<class 'int'>\n"
     ]
    }
   ],
   "source": [
    "# Création du set avec différents types d'éléments\n",
    "my_set = {1, 2, \"three\", \"four\", (5, 6), (7, 8, 9), 15, 16, 17, 18, 19, \"key1\", \"key2\", \"key3\", \"key4\", \"key5\"}\n",
    "\n",
    "# Parcours de chaque élément du set\n",
    "for element in my_set:\n",
    "    # Si l'élément est un tuple\n",
    "    if isinstance(element, tuple):\n",
    "        # Parcours de chaque élément du tuple\n",
    "        for item in element:\n",
    "            # Affichage du type de chaque élément du tuple\n",
    "            print(type(item))\n",
    "    # Si l'élément est une liste, un set ou un dictionnaire\n",
    "    elif isinstance(element, (list, set, dict)):\n",
    "        # Parcours de chaque élément de la liste, du set ou du dictionnaire\n",
    "        for item in element:\n",
    "            # Affichage du type de chaque élément de la liste, du set ou du dictionnaire\n",
    "            print(type(item))\n",
    "    # Si l'élément est un élément simple\n",
    "    else:\n",
    "        # Affichage du type de l'élément\n",
    "        print(type(element))\n",
    " #imprime <class 'str'> <class 'int'> <class 'int'> <class 'int'> <class 'int'> <class 'int'> <class 'int'> <class 'int'> <class 'str'>\n",
    "#<class 'str'> <class 'str'> <class 'str'> <class 'str'> <class 'int'> <class 'int'> <class 'str'> <class 'int'> <class 'int'> <class 'int'>"
   ]
  },
  {
   "cell_type": "markdown",
   "id": "835f765a-29d2-47df-bb26-b05459609126",
   "metadata": {},
   "source": [
    "# COMMENT REMPLACER OU SUPPRIMER UN ELEMENT D UN SET NON MODIFIABLE ET COMMENT EN ASSEMBLER 2 ENSEMBE"
   ]
  },
  {
   "cell_type": "code",
   "execution_count": 5,
   "id": "533d3c3a-e064-40f0-972e-76b5bccfe96e",
   "metadata": {},
   "outputs": [
    {
     "name": "stdout",
     "output_type": "stream",
     "text": [
      "set1 :  {'apple', 'kiwi', 'cherry'}\n",
      "set2 :  {'orange', 'mango', 'banana'}\n",
      "set3 :  {'banana', 'kiwi', 'orange', 'mango', 'apple', 'cherry'}\n"
     ]
    }
   ],
   "source": [
    "# Création de deux sets\n",
    "set1 = {\"apple\", \"banana\", \"cherry\"}\n",
    "set2 = {\"orange\", \"banana\", \"mango\"}\n",
    "\n",
    "# Modification d'un élément du set\n",
    "set1.discard(\"banana\")   # Supprime \"banana\" de set1\n",
    "set1.add(\"kiwi\")        # Ajoute \"kiwi\" à set1\n",
    "\n",
    "# Fusion de deux sets\n",
    "set3 = set1.union(set2)   # Fusionne set1 et set2 en un nouveau set : set3\n",
    "\n",
    "# Impression des sets modifiés et fusionnés\n",
    "print(\"set1 : \", set1)  # Affiche set1\n",
    "print(\"set2 : \", set2)  # Affiche set2\n",
    "print(\"set3 : \", set3)  # Affiche set3"
   ]
  },
  {
   "cell_type": "markdown",
   "id": "55e72247-89f7-4671-b062-926cd4358378",
   "metadata": {},
   "source": [
    "# SLICING"
   ]
  },
  {
   "cell_type": "raw",
   "id": "fc15a159-21c6-4bb8-a855-29a58a504bb9",
   "metadata": {},
   "source": [
    "Il n'est pas possible d'effectuer des tranches (slicing) sur un set en Python. Les tranches ne fonctionnent que pour les types de données qui sont ordonnés et mutables comme les listes et les chaînes de caractères. Les sets ne sont ni ordonnés ni mutables, c'est-à-dire qu'ils ne peuvent pas être modifiés après leur création.\n",
    "\n",
    "Dans ce script, nous avons créé un set avec des éléments de différents types, tels que des entiers, des chaînes de caractères, des tuples et des sets. Nous avons ensuite utilisé la méthode discard() pour supprimer un élément spécifique du set, et la méthode add() pour ajouter un nouvel élément. Enfin, nous avons utilisé la méthode clear() pour supprimer tous les éléments du set.\n",
    "\n",
    "Nous avons également utilisé la fonction print() pour afficher le contenu du set après chaque opération."
   ]
  },
  {
   "cell_type": "markdown",
   "id": "f1703511-0dd5-4689-918c-e48e78248c3d",
   "metadata": {},
   "source": [
    "# METHODES"
   ]
  },
  {
   "cell_type": "code",
   "execution_count": 6,
   "id": "1d2f1864-2ff2-499e-bcd3-24ba9bd697de",
   "metadata": {},
   "outputs": [
    {
     "name": "stdout",
     "output_type": "stream",
     "text": [
      "Set initial : {1, 2, 3, 4, 5}\n",
      "Après l'ajout de 6 : {1, 2, 3, 4, 5, 6}\n",
      "Après suppression de tous les éléments : set()\n",
      "Set initial : {1, 2, 3, 4, 5}\n",
      "Copie du set : {1, 2, 3, 4, 5}\n",
      "Après la suppression de 3 : {1, 2, 4, 5}\n",
      "Différence entre set1 et set2 : {1, 2}\n",
      "Après la mise à jour du set avec la différence : {1, 4}\n",
      "Intersection entre set3 et set4 : {3, 4}\n",
      "Après la mise à jour du set avec l'intersection : {1, 4}\n",
      "set5 est disjoint de set6 : True\n",
      "set7 est un superset de set8 : True\n",
      "Longueur de my_set : 2\n",
      "Après suppression d'un élément aléatoire : {4}\n",
      "Différence symétrique entre set9 et set10 : {1, 2, 5, 6}\n",
      "Après la mise à jour du set avec la différence symétrique : {1, 2, 3, 4}\n",
      "Union entre set11 et set12 : {1, 2, 3, 4, 5, 6}\n",
      "Après la mise à jour du set avec l'union : {1, 2, 3, 4}\n",
      "Conversion du set en liste : [1, 2, 3, 4]\n"
     ]
    }
   ],
   "source": [
    "# Création d'un set avec quelques éléments\n",
    "my_set = {1, 2, 3, 4, 5}\n",
    "\n",
    "# Affichage du set initial\n",
    "print(\"Set initial :\", my_set) # Set initial : {1, 2, 3, 4, 5}\n",
    "\n",
    "# Ajout d'un élément dans le set\n",
    "my_set.add(6)\n",
    "print(\"Après l'ajout de 6 :\", my_set) # Après l'ajout de 6 : {1, 2, 3, 4, 5, 6}\n",
    "\n",
    "# Suppression de tous les éléments du set\n",
    "my_set.clear()\n",
    "print(\"Après suppression de tous les éléments :\", my_set) # Après suppression de tous les éléments : set()\n",
    "\n",
    "# Copie du set\n",
    "my_set = {1, 2, 3, 4, 5}\n",
    "copy_set = my_set.copy()\n",
    "print(\"Set initial :\", my_set) # Set initial : {1, 2, 3, 4, 5}\n",
    "print(\"Copie du set :\", copy_set) # Copie du set : {1, 2, 3, 4, 5}\n",
    "\n",
    "# Suppression d'un élément du set\n",
    "my_set.discard(3)\n",
    "print(\"Après la suppression de 3 :\", my_set) # Après la suppression de 3 : {1, 2, 4, 5}\n",
    "\n",
    "# Différence entre deux sets\n",
    "set1 = {1, 2, 3, 4}\n",
    "set2 = {3, 4, 5, 6}\n",
    "diff_set = set1.difference(set2)\n",
    "print(\"Différence entre set1 et set2 :\", diff_set) # Différence entre set1 et set2 : {1, 2}\n",
    "\n",
    "# Mise à jour du set avec la différence\n",
    "my_set.difference_update({2, 5})\n",
    "print(\"Après la mise à jour du set avec la différence :\", my_set) # Après la mise à jour du set avec la différence : {1, 4}\n",
    "\n",
    "# Intersection entre deux sets\n",
    "set3 = {1, 2, 3, 4}\n",
    "set4 = {3, 4, 5, 6}\n",
    "inter_set = set3.intersection(set4)\n",
    "print(\"Intersection entre set3 et set4 :\", inter_set) # Intersection entre set3 et set4 : {3, 4}\n",
    "\n",
    "# Mise à jour du set avec l'intersection\n",
    "my_set.intersection_update({1, 4, 7})\n",
    "print(\"Après la mise à jour du set avec l'intersection :\", my_set) # Après la mise à jour du set avec l'intersection : {4}\n",
    "\n",
    "# Vérification si un set est disjoint d'un autre set\n",
    "set5 = {1, 2, 3}\n",
    "set6 = {4, 5, 6}\n",
    "disjoint_set = set5.isdisjoint(set6)\n",
    "print(\"set5 est disjoint de set6 :\", disjoint_set) # set5 est disjoint de set6 : True\n",
    "\n",
    "# Vérification si un set est un superset d'un autre set\n",
    "set7 = {1, 2, 3, 4}\n",
    "set8 = {2, 3}\n",
    "superset = set7.issuperset(set8)\n",
    "print(\"set7 est un superset de set8 :\", superset) # set7 est un superset de set8 : True\n",
    "\n",
    "# Longueur d'un set\n",
    "print(\"Longueur de my_set :\", len(my_set)) # Longueur de my_set : 2\n",
    "\n",
    "# Suppression d'un élément aléatoire du set\n",
    "my_set.pop()\n",
    "print(\"Après suppression d'un élément aléatoire :\", my_set) # Après suppression d'un élément aléatoire : {1}\n",
    "\n",
    "# Différence symétrique entre deux sets\n",
    "set9 = {1, 2, 3, 4}\n",
    "set10 = {3, 4, 5, 6}\n",
    "sym_diff_set = set9.symmetric_difference(set10)\n",
    "print(\"Différence symétrique entre set9 et set10 :\", sym_diff_set) # Différence symétrique entre set9 et set10 : {1, 2, 5, 6}\n",
    "\n",
    "# Mise à jour du set avec la différence symétrique\n",
    "my_set.symmetric_difference_update({1, 2, 3})\n",
    "print(\"Après la mise à jour du set avec la différence symétrique :\", my_set) # Après la mise à jour du set avec la différence symétrique : {2, 3}\n",
    "\n",
    "# Union entre deux sets\n",
    "set11 = {1, 2, 3}\n",
    "set12 = {4, 5, 6}\n",
    "union_set = set11.union(set12)\n",
    "print(\"Union entre set11 et set12 :\", union_set) # Union entre set11 et set12 : {1, 2, 3, 4, 5, 6}\n",
    "\n",
    "# Mise à jour du set avec l'union\n",
    "my_set.update({3, 4})\n",
    "print(\"Après la mise à jour du set avec l'union :\", my_set) # Après la mise à jour du set avec l'union : {2, 3, 4}\n",
    "\n",
    "# Conversion d'un set en liste\n",
    "my_list = list(my_set)\n",
    "print(\"Conversion du set en liste :\", my_list) # Conversion du set en liste : [2, 3, 4]"
   ]
  },
  {
   "cell_type": "markdown",
   "id": "f81b8f22-4a11-4ba2-b74b-decc65821a25",
   "metadata": {},
   "source": [
    "# BOUCLES"
   ]
  },
  {
   "cell_type": "code",
   "execution_count": 7,
   "id": "9ec77263-34c1-4946-94f3-1468e7c11b96",
   "metadata": {},
   "outputs": [
    {
     "name": "stdout",
     "output_type": "stream",
     "text": [
      "Element : 1\n",
      "Element : 2\n",
      "Element : 3\n",
      "Element : 4\n",
      "Element : 5\n",
      "Element : 1\n",
      "Element : 2\n",
      "Element : 3\n",
      "Element : 4\n",
      "Element : 5\n",
      "Element : 1\n",
      "Element : 2\n",
      "Element : 3\n",
      "Element : 4\n",
      "Element : 5\n",
      "Element : 6\n",
      "Element : 7\n",
      "Element : 8\n",
      "Element impair : 1\n",
      "Element impair : 3\n",
      "Element impair : 5\n",
      "Element impair : 7\n",
      "Résultat : 2.0\n",
      "Résultat : 1.5\n",
      "Résultat : 1.3333333333333333\n",
      "Résultat : 1.25\n",
      "Résultat : 1.2\n",
      "Résultat : 1.1666666666666667\n",
      "Résultat : 1.1428571428571428\n",
      "Element inférieur ou égal à 5 : 1\n",
      "Element inférieur ou égal à 5 : 2\n",
      "Element inférieur ou égal à 5 : 3\n",
      "Element inférieur ou égal à 5 : 4\n",
      "Element inférieur ou égal à 5 : 5\n"
     ]
    }
   ],
   "source": [
    "# Création d'un set avec quelques éléments\n",
    "my_set = {1, 2, 3, 4, 5}\n",
    "\n",
    "# Utilisation de la méthode iter() pour créer un itérateur à partir du set\n",
    "my_iterator = iter(my_set)\n",
    "\n",
    "# Utilisation d'une boucle while pour parcourir l'itérateur\n",
    "while True:\n",
    "    try:\n",
    "        # Récupération du prochain élément de l'itérateur avec la méthode next()\n",
    "        element = next(my_iterator)\n",
    "        # Affichage de l'élément récupéré\n",
    "        print(\"Element :\", element)\n",
    "    except StopIteration:\n",
    "        # Si on a atteint la fin de l'itérateur, on sort de la boucle while avec le mot-clé break\n",
    "        break\n",
    "\n",
    "# Utilisation d'une boucle for pour parcourir le set directement\n",
    "for element in my_set:\n",
    "    # Affichage de chaque élément du set\n",
    "    print(\"Element :\", element)\n",
    "\n",
    "# Création d'un set avec quelques éléments\n",
    "my_set2 = {1, 3, 5, 7}\n",
    "\n",
    "# Utilisation de la méthode set() pour créer un set à partir d'une liste\n",
    "my_list = [2, 4, 6, 8]\n",
    "my_set3 = set(my_list)\n",
    "\n",
    "# Concaténation des deux sets avec l'opérateur \"|\"\n",
    "my_set4 = my_set2 | my_set3\n",
    "\n",
    "# Utilisation d'une boucle for pour parcourir le set résultant\n",
    "for element in my_set4:\n",
    "    # Affichage de chaque élément du set\n",
    "    print(\"Element :\", element)\n",
    "\n",
    "# Utilisation d'une boucle for pour parcourir le set résultant avec une condition \"if\"\n",
    "for element in my_set4:\n",
    "    # Si l'élément est pair, on passe à l'itération suivante avec le mot-clé \"continue\"\n",
    "    if element % 2 == 0:\n",
    "        continue\n",
    "    # Sinon, on affiche l'élément\n",
    "    print(\"Element impair :\", element)\n",
    "\n",
    "# Utilisation d'une boucle for pour parcourir le set résultant avec une instruction \"try except\"\n",
    "for element in my_set4:\n",
    "    try:\n",
    "        # On divise l'élément par lui-même moins 1 pour obtenir une valeur entre 0 et 1\n",
    "        result = element / (element - 1)\n",
    "        # Si la division fonctionne, on affiche le résultat\n",
    "        print(\"Résultat :\", result)\n",
    "    except ZeroDivisionError:\n",
    "        # Si l'élément est égal à 1, on ne peut pas effectuer la division, donc on passe à l'itération suivante\n",
    "        continue\n",
    "\n",
    "    # Si on arrive ici, la division a réussi et on peut continuer avec l'itération suivante\n",
    "\n",
    "# Utilisation d'une boucle for pour parcourir le set résultant avec une instruction \"break\"\n",
    "for element in my_set4:\n",
    "    # Si l'élément est supérieur à 5, on sort de la boucle avec le mot-clé \"break\"\n",
    "    if element > 5:\n",
    "        break\n",
    "    # Sinon, on affiche l'élément\n",
    "    print(\"Element inférieur ou égal à 5 :\", element)"
   ]
  },
  {
   "cell_type": "markdown",
   "id": "20562c95-dd98-46e1-9c87-8f078c5bdaa5",
   "metadata": {},
   "source": [
    "# DEBALLAGE D UN SET"
   ]
  },
  {
   "cell_type": "code",
   "execution_count": 8,
   "id": "4ea23454-33cc-4884-9532-ca091e5552f2",
   "metadata": {},
   "outputs": [
    {
     "name": "stdout",
     "output_type": "stream",
     "text": [
      "Set initial : {1, 2, 3, 4, 5, 6, 9}\n",
      "Déballage du set avec une boucle for :\n",
      "1\n",
      "2\n",
      "3\n",
      "4\n",
      "5\n",
      "6\n",
      "9\n",
      "Impossible de déballer le set : not enough values to unpack (expected 9, got 7)\n"
     ]
    }
   ],
   "source": [
    "# Définition d'un set non trié\n",
    "my_set = {3, 1, 4, 1, 5, 9, 2, 6, 5}\n",
    "\n",
    "# Tri des éléments du set\n",
    "sorted_set = sorted(my_set)\n",
    "\n",
    "# Affichage du set initial\n",
    "print(\"Set initial :\", my_set)\n",
    "\n",
    "# Affichage des éléments du set en utilisant une boucle for\n",
    "print(\"Déballage du set avec une boucle for :\")\n",
    "for element in sorted_set:\n",
    "    print(element)\n",
    "\n",
    "# Tentative de déballage du set en utilisant la méthode unpacking\n",
    "try:\n",
    "    a, b, c, d, e, f, g, h, i = my_set\n",
    "    print(a, b, c, d, e, f, g, h, i)\n",
    "except ValueError as e:\n",
    "    print(\"Impossible de déballer le set :\", e)\n",
    "  \n",
    "#Pour résumer, les sets ne sont pas adaptés pour être déballés en utilisant l'opérateur d'unpacking car ils n'ont pas d'ordre défini \n",
    "#et donc il n'est pas possible de garantir que les éléments seront dans le même ordre à chaque itération."
   ]
  },
  {
   "cell_type": "markdown",
   "id": "5b2d6c32-3a31-49b5-9b6d-6285e38840b2",
   "metadata": {},
   "source": [
    "# DEFINITION DES METHODES ET EXPLICATIONS DES MISE A JOUR:"
   ]
  },
  {
   "cell_type": "raw",
   "id": "025ccbef-8dc2-4f61-8ff8-c5570e910faf",
   "metadata": {},
   "source": [
    "Voici les explications pour chaque méthode :\n",
    "\n",
    "difference() : cette méthode retourne un nouvel ensemble qui contient tous les éléments qui sont présents dans l'ensemble initial mais qui ne sont pas présents dans l'autre ensemble passé en argument. Par exemple, si on a deux ensembles A = {1, 2, 3, 4} et B = {3, 4, 5}, l'appel de la méthode A.difference(B) retourne l'ensemble {1, 2}.\n",
    "\n",
    "intersection() : cette méthode retourne un nouvel ensemble qui contient tous les éléments qui sont présents dans les deux ensembles. Par exemple, si on a deux ensembles A = {1, 2, 3, 4} et B = {3, 4, 5}, l'appel de la méthode A.intersection(B) retourne l'ensemble {3, 4}.\n",
    "\n",
    "union() : cette méthode retourne un nouvel ensemble qui contient tous les éléments qui sont présents dans les deux ensembles, mais sans répétition. Par exemple, si on a deux ensembles A = {1, 2, 3, 4} et B = {3, 4, 5}, l'appel de la méthode A.union(B) retourne l'ensemble {1, 2, 3, 4, 5}.\n",
    "\n",
    "isdisjoint() : cette méthode retourne True si l'ensemble ne contient aucun élément commun avec l'ensemble passé en argument, sinon False. Par exemple, si on a deux ensembles A = {1, 2, 3} et B = {4, 5, 6}, l'appel de la méthode A.isdisjoint(B) retourne True.\n",
    "\n",
    "issuperset() : cette méthode retourne True si l'ensemble contient tous les éléments de l'ensemble passé en argument, sinon False. Par exemple, si on a deux ensembles A = {1, 2, 3, 4} et B = {3, 4}, l'appel de la méthode A.issuperset(B) retourne True.\n",
    "\n",
    "symmetric_difference() : cette méthode retourne un nouvel ensemble qui contient tous les éléments qui sont présents dans un seul des ensembles (mais pas dans les deux). Par exemple, si on a deux ensembles A = {1, 2, 3, 4} et B = {3, 4, 5}, l'appel de la méthode A.symmetric_difference(B) retourne l'ensemble {1, 2, 5}.\n",
    "\n",
    "difference_update(), intersection_update() et symmetric_difference_update() : ces méthodes modifient l'ensemble sur lequel elles sont appelées en le mettant à jour avec le résultat de la méthode correspondante. Par exemple, l'appel de la méthode A.difference_update(B) modifie l'ensemble A en retirant tous les éléments qui sont présents dans B.\n",
    "\n",
    "Il est important de comprendre que ces méthodes renvoient un nouvel ensemble et ne modifient pas l'ensemble initial. Si vous voulez mettre à jour l'ensemble initial, vous pouvez utiliser les méthodes qui se terminent par \"update\". Si vous voulez simplement obtenir le résultat d'une opération sans modifier les ensembles d'origine, vous pouvez utiliser les méthodes sans \"update\"."
   ]
  }
 ],
 "metadata": {
  "kernelspec": {
   "display_name": "Python 3 (ipykernel)",
   "language": "python",
   "name": "python3"
  },
  "language_info": {
   "codemirror_mode": {
    "name": "ipython",
    "version": 3
   },
   "file_extension": ".py",
   "mimetype": "text/x-python",
   "name": "python",
   "nbconvert_exporter": "python",
   "pygments_lexer": "ipython3",
   "version": "3.10.9"
  }
 },
 "nbformat": 4,
 "nbformat_minor": 5
}
