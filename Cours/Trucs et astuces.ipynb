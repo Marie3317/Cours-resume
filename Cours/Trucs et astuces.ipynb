{
 "cells": [
  {
   "cell_type": "markdown",
   "id": "2cd39438-da75-4b40-ab3e-688786042c49",
   "metadata": {},
   "source": [
    "# Trucs et astuces"
   ]
  },
  {
   "cell_type": "markdown",
   "id": "073e9ccf-25a1-45da-aeb7-df5b2f6a592b",
   "metadata": {
    "tags": []
   },
   "source": [
    "## Divers"
   ]
  },
  {
   "cell_type": "markdown",
   "id": "9157a1cd-37f0-4fa0-a0da-a71de6666438",
   "metadata": {},
   "source": [
    "pandas : pd.read_(+ touche tab) = différents types de fichier"
   ]
  },
  {
   "cell_type": "markdown",
   "id": "659a6421-662a-4c24-86da-02d222f07611",
   "metadata": {},
   "source": [
    "to_csv (+shift +tab) = sort la documentation"
   ]
  },
  {
   "cell_type": "markdown",
   "id": "863bd36a-9298-4070-a112-049f989c3a03",
   "metadata": {},
   "source": [
    "df1 = df.copy()  = créer une copie indépendante"
   ]
  },
  {
   "cell_type": "code",
   "execution_count": null,
   "id": "1effc4c3-c76a-4dbe-ba58-667c4fe297e8",
   "metadata": {},
   "outputs": [],
   "source": [
    "df.actors_list équivaut à df[\"actors_list\"]\n",
    "!!!! df.actors list n'équivaut pas à df[\"actors_list\"]"
   ]
  },
  {
   "cell_type": "code",
   "execution_count": null,
   "id": "ba531c74-a25e-40c7-84a0-b0b1e81eb5c3",
   "metadata": {},
   "outputs": [],
   "source": [
    "affichage : \"l'acteur est Deniro !!!\"\n",
    "    print(f\"l'acteur est {top_acteur} !!!\n",
    "    print(\"l'acteur est\", top_acteur, \"!!!\") \n",
    "    print(\"l'acteur est {} !!!\".format(top_acteur))"
   ]
  },
  {
   "cell_type": "code",
   "execution_count": null,
   "id": "66240335-0d9e-45ed-a064-d44bcf049e31",
   "metadata": {},
   "outputs": [],
   "source": [
    "# supprimer les 6 derniers caractères\n",
    "df['Horodate'] = df['Horodate'].str.slice(stop=-6)"
   ]
  },
  {
   "cell_type": "markdown",
   "id": "cb94aea2-7c15-412d-9616-ac659a9241cf",
   "metadata": {
    "tags": []
   },
   "source": [
    "## Ajouter deux listes :"
   ]
  },
  {
   "cell_type": "code",
   "execution_count": null,
   "id": "9d20d3b4-ebb9-4d75-abde-a4835cc05d4c",
   "metadata": {},
   "outputs": [],
   "source": [
    "+ : mais ! à être sûre de travailler avec nb ou liste\n",
    "extend : liste1.extend(liste2)"
   ]
  },
  {
   "cell_type": "markdown",
   "id": "ba9c7293-b859-4a3a-8d7a-f60a85994b0d",
   "metadata": {
    "tags": []
   },
   "source": [
    "## Savoir quel model de régression utiliser"
   ]
  },
  {
   "cell_type": "code",
   "execution_count": null,
   "id": "7a44cafd-dc01-464b-8ecc-fc51a7eb1014",
   "metadata": {},
   "outputs": [],
   "source": [
    "!pip install pycaret\n",
    "df = df.dropna()\n",
    "from pycaret.regression import *\n",
    "s = setup(df, target = \"nomcolonne\", session_id = 123)\n",
    "best = compare_models()\n",
    "lightgbm = create_model(\"lightgbm\")\n",
    "print(lightgbm)\n",
    "rf = create_model(\"rf\")\n",
    "print(rf)"
   ]
  },
  {
   "cell_type": "markdown",
   "id": "41df124d-8f88-4eb7-844b-1533746c6922",
   "metadata": {
    "tags": []
   },
   "source": [
    "## Skimpy (version du describe() en plus joli)"
   ]
  },
  {
   "cell_type": "code",
   "execution_count": null,
   "id": "a9d0198e-6af9-4cb3-93d7-e7176a26b9f2",
   "metadata": {},
   "outputs": [],
   "source": [
    "!pip install skimpy\n",
    "from skimpy import skim\n",
    "skim(df)"
   ]
  },
  {
   "cell_type": "markdown",
   "id": "26d0b376-df54-418a-9619-f4d3f34cfd43",
   "metadata": {
    "tags": []
   },
   "source": [
    "## ydata-profiling"
   ]
  },
  {
   "cell_type": "code",
   "execution_count": null,
   "id": "e7f9df99-4522-4c0a-b056-8e2dffdf2038",
   "metadata": {},
   "outputs": [],
   "source": [
    "!pip install -U ydata-profiling\n",
    "import ydata_profiling\n",
    "from ydata_profiling import ProfileReport\n",
    "from ydata_profiling.utils.cache import cache_file\n",
    "\n",
    "\n",
    "profile = ProfileReport(df)\n",
    "profile.to_notebook_iframe();"
   ]
  },
  {
   "cell_type": "markdown",
   "id": "38d8399c-db94-4fd0-915c-51132e9e9169",
   "metadata": {},
   "source": [
    "# Ouvrir et enregistrer un fihier sur google colab"
   ]
  },
  {
   "cell_type": "code",
   "execution_count": null,
   "id": "a6a6dfd9-0a72-4a65-bdbf-979e26a8c1f3",
   "metadata": {},
   "outputs": [],
   "source": [
    "from google.colab import files\n",
    "files.upload()\n",
    "\n",
    "df.to_csv('df.csv')\n",
    "from google.colab import files\n",
    "files.download(\"df.csv\")"
   ]
  },
  {
   "cell_type": "markdown",
   "id": "27c63d56-e367-4c4a-9e7e-f508bc31e320",
   "metadata": {
    "tags": []
   },
   "source": [
    "# Excel"
   ]
  },
  {
   "cell_type": "markdown",
   "id": "563f933b-ea91-421c-a2c6-964e1bca1af1",
   "metadata": {},
   "source": [
    "Clt + A => select all"
   ]
  }
 ],
 "metadata": {
  "kernelspec": {
   "display_name": "Python 3 (ipykernel)",
   "language": "python",
   "name": "python3"
  },
  "language_info": {
   "codemirror_mode": {
    "name": "ipython",
    "version": 3
   },
   "file_extension": ".py",
   "mimetype": "text/x-python",
   "name": "python",
   "nbconvert_exporter": "python",
   "pygments_lexer": "ipython3",
   "version": "3.10.9"
  },
  "toc-autonumbering": true
 },
 "nbformat": 4,
 "nbformat_minor": 5
}
