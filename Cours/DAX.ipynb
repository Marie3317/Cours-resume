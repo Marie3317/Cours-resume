{
 "cells": [
  {
   "cell_type": "markdown",
   "id": "2f156b87-4b07-4480-afba-7d717fbf4ef9",
   "metadata": {
    "jp-MarkdownHeadingCollapsed": true,
    "tags": []
   },
   "source": [
    "# DEF"
   ]
  },
  {
   "cell_type": "raw",
   "id": "194c3e5e-8d13-45f8-8533-d971e790113b",
   "metadata": {},
   "source": [
    "Dans Power BI, le terme \"DAX\" fait référence à Data Analysis Expressions, qui est un langage de formule utilisé pour effectuer des calculs et des manipulations de données dans Power BI Desktop et Power BI Service.\n",
    "\n",
    "DAX est spécifiquement conçu pour l'analyse des données tabulaires et est utilisé pour créer des mesures, des colonnes calculées et des tables calculées dans Power BI. Il permet d'effectuer des opérations telles que l'agrégation, le filtrage, le calcul de ratios, les calculs basés sur des conditions, etc.\n",
    "\n",
    "Avec DAX, vous pouvez créer des formules pour effectuer des calculs personnalisés basés sur les données présentes dans votre modèle de données. Par exemple, vous pouvez utiliser DAX pour créer une mesure qui calcule la somme des ventes d'une entreprise, une colonne calculée qui détermine la rentabilité des produits, ou encore une table calculée qui filtre les données en fonction de certains critères.\n",
    "\n",
    "DAX utilise une syntaxe similaire aux formules Excel, mais il possède des fonctions spécifiques qui sont optimisées pour les modèles tabulaires utilisés dans Power BI. Il permet également l'utilisation de fonctions avancées telles que CALCULATE, SUMX, AVERAGEX, RELATED, etc.\n",
    "\n",
    "En résumé, DAX dans Power BI est un langage de formule puissant qui permet d'effectuer des calculs et des manipulations de données avancés pour créer des analyses et des rapports interactifs dans Power BI."
   ]
  },
  {
   "cell_type": "raw",
   "id": "733dd47b-c049-42c2-bbbd-dd32628c41c3",
   "metadata": {},
   "source": [
    "Colonnes calculées\n",
    "En plus de créer des mesures, DAX peut également être utilisé pour créer des colonnes calculées. Les colonnes calculées sont des colonnes qui sont créées en fonction de données existantes dans une table. Les utilisateurs peuvent créer des colonnes calculées en utilisant des formules DAX pour extraire des données à partir d'autres colonnes de la table. Les colonnes calculées peuvent être utilisées pour ajouter des données supplémentaires à une table, telles que le mois ou l'année de la date de vente."
   ]
  },
  {
   "cell_type": "raw",
   "id": "483f12fd-3250-4250-ad25-2de3c4710ebe",
   "metadata": {},
   "source": [
    "Tables calculées\n",
    "Enfin, DAX peut également être utilisé pour créer des tables calculées. Les tables calculées sont des tables qui sont créées en fonction de données existantes dans d'autres tables. Les utilisateurs peuvent créer des tables calculées en utilisant des formules DAX pour filtrer, trier et agréger des données à partir d'autres tables. Les tables calculées peuvent être utilisées pour créer des relations entre des tables qui ne sont pas connectées ou pour ajouter des données supplémentaires à un rapport."
   ]
  },
  {
   "cell_type": "markdown",
   "id": "1b109f14-b038-4bb1-b6f7-e4c8857e121f",
   "metadata": {
    "jp-MarkdownHeadingCollapsed": true,
    "tags": []
   },
   "source": [
    "# Info"
   ]
  },
  {
   "cell_type": "raw",
   "id": "d08609a8-be23-4d77-8b18-c6fd49d89250",
   "metadata": {},
   "source": [
    "Attention, la plupart des fonctions DAX sont prévues pour fonctionner sur des données numériques. Par exemple, le calcul d'une moyenne ne peut pas se faire sur du texte. Lors de l'import de notre fichier, certains formats n'ont peut-être pas été reconnus par Power Query, cela dépend de votre version de Power BI, et des paramètres régionaux de votre ordinateur."
   ]
  },
  {
   "cell_type": "raw",
   "id": "12fe8a91-8b69-42c6-ba4e-9dd7434a2cf5",
   "metadata": {},
   "source": [
    "En Power BI avec le langage DAX, vous pouvez utiliser les mesures calculées et les colonnes calculées pour effectuer des calculs et manipuler les données. La décision de choisir entre une mesure calculée et une colonne calculée dépend du type de calcul que vous souhaitez effectuer et de la façon dont vous voulez utiliser les résultats.\n",
    "\n",
    "Voici quelques directives générales pour vous aider à décider quand utiliser une mesure calculée ou ajouter une colonne calculée :\n",
    "\n",
    "Utilisez une mesure calculée lorsque :\n",
    "\n",
    "Vous avez besoin d'effectuer des agrégations (sommes, moyennes, comptages, etc.) sur vos données.\n",
    "Le calcul doit être basé sur les valeurs des colonnes existantes dans votre modèle.\n",
    "Vous souhaitez effectuer des calculs dynamiques en fonction des sélections ou des filtres appliqués dans votre rapport.\n",
    "Vous voulez afficher les résultats dans des visualisations réactives qui se mettent à jour en fonction des interactions de l'utilisateur.\n",
    "Utilisez une colonne calculée lorsque :\n",
    "\n",
    "Vous avez besoin d'effectuer des calculs basés sur des opérations sur des colonnes existantes.\n",
    "Le calcul est basé sur des conditions ou des opérations qui nécessitent l'évaluation de chaque ligne individuellement.\n",
    "Vous souhaitez utiliser les résultats dans des filtres, des regroupements ou des slicers statiques.\n",
    "Le calcul est coûteux en termes de performances et vous voulez améliorer les performances globales du modèle en stockant les résultats calculés dans une colonne.\n",
    "En résumé, les mesures calculées sont utilisées pour les agrégations dynamiques et les calculs basés sur les interactions de l'utilisateur, tandis que les colonnes calculées sont utilisées pour les calculs statiques basés sur les colonnes existantes. La décision dépendra du contexte spécifique de votre modèle de données et des besoins de votre rapport ou de votre tableau de bord."
   ]
  },
  {
   "cell_type": "markdown",
   "id": "4aa8787c-26e8-4ea7-b4c9-550e62315d16",
   "metadata": {
    "jp-MarkdownHeadingCollapsed": true,
    "tags": []
   },
   "source": [
    "# Somme précipitation"
   ]
  },
  {
   "cell_type": "raw",
   "id": "b72f3caa-a58e-4d33-baa9-88e563c5a986",
   "metadata": {},
   "source": [
    "Somme_precipitation = SUM( weather2020[PRECIP_TOTAL_DAY_MM])"
   ]
  },
  {
   "cell_type": "markdown",
   "id": "95b0e3a6-f305-4cfe-8849-2422051cdbad",
   "metadata": {
    "jp-MarkdownHeadingCollapsed": true,
    "tags": []
   },
   "source": [
    "# Somme avec filtre"
   ]
  },
  {
   "cell_type": "raw",
   "id": "a9e360da-1f5f-4e80-bd72-3c5cef02c3c0",
   "metadata": {},
   "source": [
    "somme_filtre = SUMX( \n",
    "                  FILTER(weather2020, \n",
    "                         weather2020[WINDSPEED_MAX_KMH] < 20) , \n",
    "                  weather2020[PRECIP_TOTAL_DAY_MM] )"
   ]
  },
  {
   "cell_type": "markdown",
   "id": "d1e5611e-0501-4854-affd-ec5e91bd0ba1",
   "metadata": {
    "jp-MarkdownHeadingCollapsed": true,
    "tags": []
   },
   "source": [
    "# Compter ligne dans df"
   ]
  },
  {
   "cell_type": "raw",
   "id": "259929a9-de23-40e3-981b-dcb5f74e290e",
   "metadata": {},
   "source": [
    "compteur = COUNTROWS(weather2020)"
   ]
  },
  {
   "cell_type": "markdown",
   "id": "7f2f30cf-d76e-471c-9d16-16a2a0ca4e2d",
   "metadata": {
    "jp-MarkdownHeadingCollapsed": true,
    "tags": []
   },
   "source": [
    "# Compter nb de valeurs dans une colonne"
   ]
  },
  {
   "cell_type": "raw",
   "id": "f59b3ad8-d018-483b-a542-139f9ce4a3f4",
   "metadata": {},
   "source": [
    "valeur_opinion = COUNTROWS(VALUES(weather2020[OPINION]))"
   ]
  },
  {
   "cell_type": "markdown",
   "id": "d71c7f70-b88b-4d8b-9cc5-9c3a04b64a03",
   "metadata": {
    "jp-MarkdownHeadingCollapsed": true,
    "tags": []
   },
   "source": [
    "# Afficher le temps avec une condition"
   ]
  },
  {
   "cell_type": "raw",
   "id": "2d4ccc23-cd5c-44d4-98e4-e36e7c82ded1",
   "metadata": {},
   "source": [
    "temp_condition = \n",
    "    IF(weather2020[PRECIP_TOTAL_DAY_MM] > 20, \"Pluie très forte\",\n",
    "        IF(weather2020[PRECIP_TOTAL_DAY_MM] = 0, \"Pas de pluie\",\n",
    "            IF(AND(weather2020[PRECIP_TOTAL_DAY_MM] > 2, weather2020[PRECIP_TOTAL_DAY_MM] <= 20), \"Pluie modérée\",\n",
    "                IF(AND(weather2020[PRECIP_TOTAL_DAY_MM] > 0, weather2020[PRECIP_TOTAL_DAY_MM] <= 2), \"Pluie faible\"\n",
    "            )\n",
    "        )\n",
    "    )\n",
    ")"
   ]
  },
  {
   "cell_type": "markdown",
   "id": "8b194dca-dce0-443f-98d0-fa3400b27439",
   "metadata": {
    "jp-MarkdownHeadingCollapsed": true,
    "tags": []
   },
   "source": [
    "# Nouvelle table"
   ]
  },
  {
   "cell_type": "raw",
   "id": "0131bc4b-0e5d-48c6-9e22-0827dbad3e01",
   "metadata": {},
   "source": [
    "Nouvelle table\n",
    "Vous pouvez également créer une table calculée. Toutes les données sont alors calculées. C'est notamment utilisé pour des raisons de performance, si vous utilisez régulièrement les mêmes valeurs, plutôt que de les recalculer systématiquement.\n",
    "Un exemple classique est une table de date."
   ]
  },
  {
   "cell_type": "raw",
   "id": "dd51f2b7-8fac-4c6a-832d-90fdf12ff1d0",
   "metadata": {},
   "source": [
    "TableDate = CALENDAR(MIN(weather2020[DATE]), MAX(weather2020[DATE]))\n",
    "Nous créons une table qui va renseigner toutes les dates possible. C'est pratique par exemple s'il manque certains jours dans mes données : DAX pré-calculera quand même les valeurs.\n",
    "\n",
    "Ensuite, nous pouvons ajouter le jour de la semaine en créant une colonne calculée dans cette table :\n",
    "\n",
    "Jour = FORMAT([Date], \"dddd\")"
   ]
  },
  {
   "cell_type": "markdown",
   "id": "d26827b1-01df-46e9-9ba1-6e51f2756c7c",
   "metadata": {
    "tags": []
   },
   "source": [
    "# Power BI by Microsoft - Optimisation"
   ]
  },
  {
   "cell_type": "code",
   "execution_count": null,
   "id": "21ec8458-94ee-41c2-96f2-c04e67e877d3",
   "metadata": {},
   "outputs": [],
   "source": [
    "https://learn.microsoft.com/fr-fr/training/modules/optimize-model-power-bi/1-introduction"
   ]
  },
  {
   "cell_type": "raw",
   "id": "95aaed2d-54a9-4712-98b3-955aca690f17",
   "metadata": {},
   "source": [
    "Power BI intègre un outil pour auditer la performance d'un rapport. Pour exécuter cet outil, vous devez tout d'abord nettoyer les mémoires caches, pour ne pas fausser les analyses. Voici les indications fournies par Microsoft\n",
    "\n",
    "Avant d’exécuter l’Analyseur de performances, et afin d’obtenir les résultats les plus précis dans votre analyse (test), veillez à ce que les caches de visuels et de moteur de données soient vides.\n",
    "\n",
    "Cache de visuels : quand vous chargez un visuel, vous ne pouvez pas effacer ce cache sans fermer Power BI Desktop et le rouvrir. Pour éviter toute mise en cache en opération, vous devez démarrer votre analyse avec un cache de visuels vide.\n",
    "\n",
    "Pour vous assurer d’avoir un cache de visuels vide, ajoutez une page vierge à votre fichier Power BI Desktop (.pbix), puis, une fois cette page sélectionnée, enregistrez et fermez le fichier. Rouvrez le fichier Power BI Desktop (.pbix) que vous souhaitez analyser. Il s’ouvre sur la page vierge.\n",
    "Cache du moteur de données : quand une requête est exécutée, les résultats sont mis en cache, de sorte que les résultats de votre analyse sont trompeurs. Vous devez vider le cache de données avant de réexécuter le visuel.\n",
    "\n",
    "Pour vider le cache de données, vous pouvez soit redémarrer Power BI Desktop, soit connecter DAX Studio au modèle de données, puis appeler la commande Clear Cache (Vider le cache).\n",
    "Une fois que vous avez vidé les caches et ouvert le fichier Power BI Desktop sur la page vierge, accédez à l’onglet Affichage et sélectionnez l’option Analyseur de performances.\n",
    "\n",
    "Pour commencer le processus d’analyse, sélectionnez Démarrer l’enregistrement, sélectionnez la page du rapport que vous souhaitez analyser et interagissez avec les éléments du rapport que vous souhaitez mesurer. Vous verrez les résultats de vos interactions s’afficher progressivement dans le volet Analyseur de performances. Quand vous avez terminé, sélectionnez le bouton Arrêter."
   ]
  },
  {
   "cell_type": "raw",
   "id": "6b66ba06-7deb-4993-ae10-02164d471c19",
   "metadata": {},
   "source": [
    "Les informations de journalisation de chaque visuel indiquent le temps nécessaire (durée) pour effectuer les catégories de tâches suivantes :\n",
    "\n",
    "Requête DAX : temps qu’il a fallu au visuel pour envoyer la requête et à Analysis Services pour retourner les résultats.\n",
    "\n",
    "Affichage de visuel : temps qu’il a fallu pour que le visuel s’affiche à l’écran, y compris le temps nécessaire pour récupérer les images web ou le géocodage.\n",
    "\n",
    "Autre : temps qu’il a fallu au visuel pour préparer les requêtes, attendre la fin d’autres visuels ou effectuer d’autres tâches de traitement en arrière-plan. Si cette catégorie affiche une longue durée, le seul moyen réel de réduire celle-ci consiste à optimiser les requêtes DAX pour les autres visuels ou à réduire le nombre de visuels dans le rapport."
   ]
  }
 ],
 "metadata": {
  "kernelspec": {
   "display_name": "Python 3 (ipykernel)",
   "language": "python",
   "name": "python3"
  },
  "language_info": {
   "codemirror_mode": {
    "name": "ipython",
    "version": 3
   },
   "file_extension": ".py",
   "mimetype": "text/x-python",
   "name": "python",
   "nbconvert_exporter": "python",
   "pygments_lexer": "ipython3",
   "version": "3.10.9"
  }
 },
 "nbformat": 4,
 "nbformat_minor": 5
}
