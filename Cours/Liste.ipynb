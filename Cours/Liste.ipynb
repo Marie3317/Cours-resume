{
 "cells": [
  {
   "cell_type": "raw",
   "id": "c87bbe87-81af-497a-b6bb-ffc1aeee2859",
   "metadata": {},
   "source": [
    "Composition :\n",
    "\n",
    "variable = [\"élément1\", \"élément2\", \"élément3\", ...] La variable est composée d'éléments dont l'indice diffère de la position de l'élément.\n",
    "\n",
    "Le premier élément se trouve à :\n",
    "\n",
    "l'indice 0 la position 1\n",
    "\n",
    "La liste est :\n",
    "\n",
    "ordonnée modifiable autorise les doublons\n",
    "\n",
    "La liste peut contenir :\n",
    "\n",
    "int (entier) float (nombre à virgule) bool (booléen) liste (liste) dict (dictionnaire) tuple (tuple) ensemble (ensemble) complexe (nombre complexe)\n",
    "\n",
    "Cependant, il est important de noter que la conversion de ces types de données en chaînes de caractères peut entraîner une perte d'information ou de précision, en particulier pour les nombres à virgule flottante et les nombres complexes. De plus, la conversion inverse de chaînes de caractères en types de données peut également entraîner des erreurs si la chaîne n'est pas correctement formatée ou si elle contient des données incorrectes."
   ]
  },
  {
   "cell_type": "markdown",
   "id": "c9938454-1215-4f43-8299-bd97433e5efd",
   "metadata": {},
   "source": [
    "# LES BASES"
   ]
  },
  {
   "cell_type": "code",
   "execution_count": 1,
   "id": "040c78ed-631b-42e8-880b-f6e39f8daa4a",
   "metadata": {},
   "outputs": [
    {
     "name": "stdout",
     "output_type": "stream",
     "text": [
      "['apple', 'banana', 'cherry']\n"
     ]
    }
   ],
   "source": [
    "# CREATION d'une liste avec un constructeur list\n",
    "thislist = list((\"apple\", \"banana\", \"cherry\")) # notez les doubles parenthèses pour entrer les éléments\n",
    "print(thislist) # affiche ['apple', 'banana', 'cherry']"
   ]
  },
  {
   "cell_type": "code",
   "execution_count": 2,
   "id": "0e4251fd-5b9a-4b36-9012-f123de6af5b4",
   "metadata": {},
   "outputs": [
    {
     "name": "stdout",
     "output_type": "stream",
     "text": [
      "<class 'list'>\n"
     ]
    }
   ],
   "source": [
    "# IMPRIMER\n",
    "# type() renvoie le type de la variable spécifiée\n",
    "mylist = [\"apple\", \"banana\", \"cherry\"]\n",
    "print(type(mylist)) # affiche <class 'list'>"
   ]
  },
  {
   "cell_type": "code",
   "execution_count": 3,
   "id": "617b9884-f0b3-4b6c-b191-44091abf765f",
   "metadata": {},
   "outputs": [
    {
     "name": "stdout",
     "output_type": "stream",
     "text": [
      "['apple', 'banana', 'cherry']\n"
     ]
    }
   ],
   "source": [
    "# imprimer tous les éléments d'une liste\n",
    "mylist = [\"apple\", \"banana\", \"cherry\"]\n",
    "print(mylist) # affiche ['apple', 'banana', 'cherry']"
   ]
  },
  {
   "cell_type": "code",
   "execution_count": 4,
   "id": "47498f72-1f0a-4aa3-b196-fe6c09e1d21d",
   "metadata": {},
   "outputs": [
    {
     "name": "stdout",
     "output_type": "stream",
     "text": [
      "apple\n",
      "banana\n",
      "cherry\n"
     ]
    }
   ],
   "source": [
    "# boucle for pour parcourir tous les éléments de la liste\n",
    "thislist = [\"apple\", \"banana\", \"cherry\"]\n",
    "for elt in thislist:\n",
    "  print(elt) # imprime tous les éléments de la liste\n",
    "# affiche :\n",
    "# apple\n",
    "# banana\n",
    "# cherry"
   ]
  },
  {
   "cell_type": "code",
   "execution_count": 5,
   "id": "97b8115d-ae4a-4657-a91a-6da30d43bf53",
   "metadata": {},
   "outputs": [
    {
     "name": "stdout",
     "output_type": "stream",
     "text": [
      "apple\n",
      "banana\n",
      "cherry\n"
     ]
    }
   ],
   "source": [
    "# imprimer tous les éléments d'une liste en utilisant une boucle while pour parcourir tous les index\n",
    "thislist = [\"apple\", \"banana\", \"cherry\"]\n",
    "ind = 0 # initialisation du compteur pour éviter une boucle infinie de while\n",
    "while ind < len(thislist): # boucle while qui parcourt les éléments des index en dessous du nombre total d'éléments\n",
    "  print(thislist[ind]) # imprime l'élément de l'index\n",
    "  ind = ind + 1 # compteur avance d'un index après chaque boucle\n",
    "# affiche :\n",
    "# apple\n",
    "# banana\n",
    "# cherry"
   ]
  },
  {
   "cell_type": "code",
   "execution_count": 6,
   "id": "66e44dd4-095b-400a-b0a5-2c4d060177a9",
   "metadata": {},
   "outputs": [
    {
     "name": "stdout",
     "output_type": "stream",
     "text": [
      "mintcream\n"
     ]
    }
   ],
   "source": [
    "# imprimer l'élément d'un index donné\n",
    "x = [\"mintcream\", \"burlywood\", \"salmon\"]\n",
    "print(x[0]) # imprime l'élément à l'index 0\n",
    "# affiche :\n",
    "# mintcream"
   ]
  },
  {
   "cell_type": "code",
   "execution_count": 7,
   "id": "495ed589-19c2-4f2c-b2a3-bad7bdfdae8d",
   "metadata": {},
   "outputs": [
    {
     "name": "stdout",
     "output_type": "stream",
     "text": [
      "apple\n",
      "banana\n"
     ]
    }
   ],
   "source": [
    "# imprimer les éléments d'une liste selon des conditions fixées\n",
    "# boucle while qui parcourt tous les index pour imprimer tous les éléments\n",
    "mylist = [\"apple\", \"banana\", \"cherry\"]\n",
    "ind = 0 # initialisation du compteur pour éviter une boucle infinie de while\n",
    "while ind < 2: # boucle while qui parcourt les éléments des index en dessous du nombre total d'éléments\n",
    "  print(mylist[ind]) # imprime l'élément de l'index\n",
    "  ind = ind + 1 # compteur avance d'un index après chaque boucle\n",
    "# affiche :\n",
    "# apple\n",
    "# banana"
   ]
  },
  {
   "cell_type": "code",
   "execution_count": 8,
   "id": "d54f64d9-0c00-4b7a-a662-85c949d87876",
   "metadata": {},
   "outputs": [
    {
     "name": "stdout",
     "output_type": "stream",
     "text": [
      "apple\n",
      "banana\n",
      "cherry\n"
     ]
    }
   ],
   "source": [
    "# imprimer tous les éléments de la liste avec une boucle for qui parcourt tous les index\n",
    "mylist = [\"apple\", \"banana\", \"cherry\"]\n",
    "for ind in range(len(mylist)): # boucle qui parcourt la totalité des éléments de tous les index notés dans range(len(mylist))\n",
    "  print(mylist[ind]) # imprime tous les éléments de la liste parcourus grâce à la boucle\n",
    "# affiche :\n",
    "# apple\n",
    "# banana\n",
    "# cherry"
   ]
  },
  {
   "cell_type": "code",
   "execution_count": 9,
   "id": "e96f1192-c23e-44d2-9fcc-b7fa34617c42",
   "metadata": {},
   "outputs": [
    {
     "name": "stdout",
     "output_type": "stream",
     "text": [
      "apple\n",
      "banana\n",
      "cherry\n"
     ]
    }
   ],
   "source": [
    "# imprimer tous les éléments d'un set\n",
    "thislist = [\"apple\", \"banana\", \"cherry\"]\n",
    "for elt in thislist: # boucle for qui parcourt tous les éléments de la liste\n",
    "  print(elt) # imprime tous les éléments de la liste\n",
    "# affiche :\n",
    "# cherry\n",
    "# banana\n",
    "# apple"
   ]
  },
  {
   "cell_type": "code",
   "execution_count": 10,
   "id": "053dbcda-9279-4daf-929d-b86876b06940",
   "metadata": {},
   "outputs": [
    {
     "name": "stdout",
     "output_type": "stream",
     "text": [
      "banana\n"
     ]
    }
   ],
   "source": [
    "# 1 element avec index positif\n",
    "\n",
    "# Déclaration de la liste contenant des fruits\n",
    "mylist = [\"apple\", \"banana\", \"cherry\"]\n",
    "\n",
    "# Affichage de l'élément à l'index 1 de la liste\n",
    "print(mylist[1]) # banana"
   ]
  },
  {
   "cell_type": "code",
   "execution_count": 11,
   "id": "1fbd976d-c75c-42d0-8803-22ce330c9350",
   "metadata": {},
   "outputs": [
    {
     "name": "stdout",
     "output_type": "stream",
     "text": [
      "cherry\n"
     ]
    }
   ],
   "source": [
    "# 1 element avec index négatif\n",
    "\n",
    "# Déclaration de la liste contenant des fruits\n",
    "mylist = [\"apple\", \"banana\", \"cherry\"]\n",
    "\n",
    "# Affichage de l'élément à l'index -1 de la liste\n",
    "print(mylist[-1]) # cherry"
   ]
  },
  {
   "cell_type": "code",
   "execution_count": 12,
   "id": "7b539cf3-8639-4e83-8793-bd765e2e6ea5",
   "metadata": {},
   "outputs": [],
   "source": [
    "# Si un element existe dedans\n",
    "\n",
    "# Déclaration de la liste contenant des fruits\n",
    "mylist = [\"apple\", \"banana\", \"cherry\"]"
   ]
  },
  {
   "cell_type": "code",
   "execution_count": 13,
   "id": "d492e29d-802a-4880-bb8d-98bf5682b28c",
   "metadata": {},
   "outputs": [
    {
     "name": "stdout",
     "output_type": "stream",
     "text": [
      "Yes, 'apple' is in mylist\n"
     ]
    }
   ],
   "source": [
    "# Vérification si la chaîne \"apple\" existe dans la liste\n",
    "if \"apple\" in mylist:\n",
    "  print(\"Yes, 'apple' is in mylist\") # Yes, 'apple' is in mylist"
   ]
  },
  {
   "cell_type": "code",
   "execution_count": 14,
   "id": "e668c094-b3b2-45e7-9c18-4d6791b4a057",
   "metadata": {},
   "outputs": [
    {
     "name": "stdout",
     "output_type": "stream",
     "text": [
      "True\n"
     ]
    }
   ],
   "source": [
    "# Si un mot n'existe pas dedans\n",
    "\n",
    "# Déclaration de la liste contenant des fruits\n",
    "mylist = [\"apple\", \"banana\", \"cherry\"]\n",
    "\n",
    "# Vérification si la chaîne \"apple\" existe dans la liste\n",
    "print(\"apple\" in mylist) # True"
   ]
  },
  {
   "cell_type": "code",
   "execution_count": 15,
   "id": "c3d2c3eb-21ef-4033-8566-d4cc37b96cf2",
   "metadata": {},
   "outputs": [
    {
     "name": "stdout",
     "output_type": "stream",
     "text": [
      "False\n"
     ]
    }
   ],
   "source": [
    "# Si un element n'existe pas dedans\n",
    "\n",
    "# Déclaration de la liste contenant des fruits\n",
    "mylist = [\"apple\", \"banana\", \"cherry\"]\n",
    "\n",
    "# Vérification si la chaîne \"apple\" n'existe pas dans la liste\n",
    "print(\"apple\" not in mylist) # False"
   ]
  },
  {
   "cell_type": "markdown",
   "id": "0e9850ea-4e1e-446c-a95c-dae267cceee2",
   "metadata": {},
   "source": [
    "# BASES SUR UNE LISTE CONTENANT PLUSIEURS TYPES"
   ]
  },
  {
   "cell_type": "code",
   "execution_count": 16,
   "id": "2a6ff254-cb5b-4a88-b41c-6549b36af191",
   "metadata": {},
   "outputs": [
    {
     "name": "stdout",
     "output_type": "stream",
     "text": [
      "1\n",
      "three\n",
      "6\n",
      "10\n",
      "16\n",
      "21\n"
     ]
    }
   ],
   "source": [
    "# Création d'une liste contenant différents types d'éléments\n",
    "my_list = [1, 2, \"three\", \"four\", [5, 6], [7, 8, 9], (10, 11), (12, 13, 14), {15, 16}, {17, 18, 19}, {\"key1\": 20, \"key2\": 21}, {\"key3\": 22, \"key4\": 23, \"key5\": 24}]\n",
    "\n",
    "# Accès à un élément d'un chiffre\n",
    "print(my_list[0])  # 1\n",
    "\n",
    "# Accès à un élément d'une chaîne de caractères\n",
    "print(my_list[2])  # three\n",
    "\n",
    "# Accès à un élément d'une liste\n",
    "print(my_list[4][1])  # 6\n",
    "\n",
    "# Accès à un élément d'un tuple\n",
    "print(my_list[6][0])  # 10\n",
    "\n",
    "# Accès à un élément d'un ensemble\n",
    "print(list(my_list[8])[0])  # 16\n",
    "\n",
    "# Accès à un élément d'un dictionnaire\n",
    "print(my_list[10][\"key2\"])  # 21"
   ]
  },
  {
   "cell_type": "code",
   "execution_count": 17,
   "id": "eedf3719-cdeb-45ab-a6d1-73be74f65e81",
   "metadata": {},
   "outputs": [
    {
     "name": "stdout",
     "output_type": "stream",
     "text": [
      "<class 'int'>\n",
      "<class 'int'>\n",
      "<class 'str'>\n",
      "<class 'str'>\n",
      "<class 'list'>\n",
      "<class 'list'>\n",
      "<class 'tuple'>\n",
      "<class 'tuple'>\n",
      "<class 'set'>\n",
      "<class 'set'>\n",
      "<class 'dict'>\n",
      "<class 'dict'>\n"
     ]
    }
   ],
   "source": [
    "# Création de la liste avec différents types d'éléments\n",
    "my_list = [1, 2, \"three\", \"four\", [5, 6], [7, 8, 9], (10, 11), (12, 13, 14), {15, 16}, {17, 18, 19}, {\"key1\": 20, \"key2\": 21}, {\"key3\": 22, \"key4\": 23, \"key5\": 24}]\n",
    "\n",
    "# Parcours de chaque élément de la liste et affichage de son type\n",
    "for element in my_list:\n",
    "    print(type(element))\n",
    "# Résultat attendu :\n",
    "# <class 'int'>\n",
    "# <class 'int'>\n",
    "# <class 'str'>\n",
    "# <class 'str'>\n",
    "# <class 'list'>\n",
    "# <class 'list'>\n",
    "# <class 'tuple'>\n",
    "# <class 'tuple'>\n",
    "# <class 'set'>\n",
    "# <class 'set'>\n",
    "# <class 'dict'>\n",
    "# <class 'dict'>"
   ]
  },
  {
   "cell_type": "code",
   "execution_count": 18,
   "id": "0de83b7b-ebbd-49c2-8aad-5ffe112c7c0b",
   "metadata": {},
   "outputs": [
    {
     "name": "stdout",
     "output_type": "stream",
     "text": [
      "<class 'int'>\n",
      "<class 'int'>\n",
      "<class 'int'>\n",
      "<class 'int'>\n",
      "<class 'int'>\n",
      "<class 'int'>\n",
      "<class 'int'>\n",
      "<class 'int'>\n",
      "<class 'int'>\n",
      "<class 'int'>\n",
      "<class 'int'>\n",
      "<class 'int'>\n",
      "<class 'int'>\n",
      "<class 'int'>\n",
      "<class 'int'>\n",
      "<class 'str'>\n",
      "<class 'str'>\n",
      "<class 'str'>\n",
      "<class 'str'>\n",
      "<class 'str'>\n"
     ]
    }
   ],
   "source": [
    "# Création de la liste avec différents types d'éléments\n",
    "my_list = [1, 2, \"three\", \"four\", [5, 6], [7, 8, 9], (10, 11), (12, 13, 14), {15, 16}, {17, 18, 19}, {\"key1\": 20, \"key2\": 21}, {\"key3\": 22, \"key4\": 23, \"key5\": 24}]\n",
    "\n",
    "# Parcours de chaque élément de la liste\n",
    "for element in my_list:\n",
    "    # Si l'élément est un tuple\n",
    "    if isinstance(element, tuple):\n",
    "        # Parcours de chaque élément du tuple\n",
    "        for item in element:\n",
    "            # Affichage du type de chaque élément du tuple\n",
    "            print(type(item))\n",
    "    # Si l'élément est une liste, un set ou un dictionnaire\n",
    "    elif isinstance(element, (list, set, dict)):\n",
    "        # Parcours de chaque élément de la liste, du set ou du dictionnaire\n",
    "        for item in element:\n",
    "            # Affichage du type de chaque élément de la liste, du set ou du dictionnaire\n",
    "            print(type(item))\n",
    "#imprime <class 'int'>\n",
    "#<class 'int'> <class 'str'> <class 'str'> <class 'int'> <class 'int'> <class 'int'> <class 'int'> <class 'int'> <class 'int'> <class 'int'>\n",
    "#<class 'int'> <class 'int'> <class 'int'> <class 'int'> <class 'int'> <class 'int'> <class 'int'> <class 'int'> <class 'int'>"
   ]
  },
  {
   "cell_type": "markdown",
   "id": "24c670e1-a6cb-4383-9e0d-a53028c1f851",
   "metadata": {},
   "source": [
    "# SLICING"
   ]
  },
  {
   "cell_type": "code",
   "execution_count": 19,
   "id": "dbe4cec9-e00a-40c8-90a6-0439ab74a3e1",
   "metadata": {},
   "outputs": [
    {
     "name": "stdout",
     "output_type": "stream",
     "text": [
      "[2, 3, 4, 5, 6, 7, 8, 9]\n",
      "[2, 3, 4, 5]\n",
      "[7, 8, 9]\n",
      "[1, 3, 5, 7]\n",
      "[9, 8, 7, 6, 5, 4, 3, 2, 1, 0]\n"
     ]
    }
   ],
   "source": [
    "# Création de la liste avec 10 éléments\n",
    "my_list = [0, 1, 2, 3, 4, 5, 6, 7, 8, 9]\n",
    "\n",
    "# Slicing avec un seul indice - affiche les éléments à partir de l'indice spécifié jusqu'à la fin de la liste\n",
    "print(my_list[2:]) # [2, 3, 4, 5, 6, 7, 8, 9]\n",
    "\n",
    "# Slicing avec deux indices - affiche les éléments entre les deux indices spécifiés (exclus)\n",
    "print(my_list[2:6]) # [2, 3, 4, 5]\n",
    "\n",
    "# Slicing avec des indices négatifs - affiche les éléments à partir de la fin de la liste\n",
    "print(my_list[-3:]) # [7, 8, 9]\n",
    "\n",
    "# Slicing avec des pas - affiche les éléments en sautant des indices\n",
    "print(my_list[1:8:2]) # [1, 3, 5, 7]\n",
    "\n",
    "# Slicing avec des pas négatifs - affiche les éléments en sautant des indices dans l'ordre inverse\n",
    "print(my_list[::-1]) # [9, 8, 7, 6, 5, 4, 3, 2, 1, 0]"
   ]
  },
  {
   "cell_type": "markdown",
   "id": "780789cc-b51d-4cc8-88b9-c53589725669",
   "metadata": {},
   "source": [
    "# ASSEMBLER DES LISTES"
   ]
  },
  {
   "cell_type": "code",
   "execution_count": 20,
   "id": "892cddd9-43d4-4a0f-bd12-18fbe8f80767",
   "metadata": {},
   "outputs": [
    {
     "name": "stdout",
     "output_type": "stream",
     "text": [
      "['apple', 'banana', 'cherry', 'mango', 'pineapple', 'papaya']\n",
      "['a', 'b', 'c', 1, 2, 3]\n",
      "['a', 'b', 'c', 1, 2, 3]\n"
     ]
    }
   ],
   "source": [
    "# Création de la liste 1\n",
    "thislist = [\"apple\", \"banana\", \"cherry\"]\n",
    "\n",
    "# Création de la liste 2\n",
    "tropical = [\"mango\", \"pineapple\", \"papaya\"]\n",
    "\n",
    "# Utilisation de la méthode extend() pour ajouter les éléments de la liste 2 à la liste 1\n",
    "thislist.extend(tropical)\n",
    "\n",
    "print(thislist) # affiche [\"apple\", \"banana\", \"cherry\", \"mango\", \"pineapple\", \"papaya\"]\n",
    "\n",
    "\n",
    "# Création de la liste 1\n",
    "list1 = [\"a\", \"b\", \"c\"]\n",
    "\n",
    "# Création de la liste 2\n",
    "list2 = [1, 2, 3]\n",
    "\n",
    "# Boucle qui parcourt les éléments de la liste 2 et les ajoute à la liste 1 grâce à la méthode append()\n",
    "for x in list2:\n",
    "  list1.append(x)\n",
    "\n",
    "print(list1) # affiche [\"a\", \"b\", \"c\", 1, 2, 3]\n",
    "\n",
    "\n",
    "# Création de la liste 1\n",
    "list1 = [\"a\", \"b\", \"c\"]\n",
    "\n",
    "# Création de la liste 2\n",
    "list2 = [1, 2, 3]\n",
    "\n",
    "# Utilisation de l'opérateur + pour concaténer les deux listes et créer une troisième liste\n",
    "list3 = list1 + list2\n",
    "\n",
    "print(list3) # affiche [\"a\", \"b\", \"c\", 1, 2, 3]"
   ]
  },
  {
   "cell_type": "markdown",
   "id": "889261f0-b1d8-4fbe-8e60-c03a4b68638b",
   "metadata": {},
   "source": [
    "# REMPLACER DES ELEMENTS D UNE LISTE"
   ]
  },
  {
   "cell_type": "code",
   "execution_count": 21,
   "id": "98f199e0-4e83-43d5-832d-9e558093352f",
   "metadata": {},
   "outputs": [
    {
     "name": "stdout",
     "output_type": "stream",
     "text": [
      "Methode 1 : Changer un seul element\n",
      " ['apple', 'blackcurrant', 'cherry']\n",
      "Methode 2 : Changer plusieurs elements\n",
      " ['apple', 'blackcurrant', 'watermelon', 'orange', 'kiwi', 'mango']\n",
      "Methode 3 : Remplacer plusieurs elements par un seul\n",
      " ['apple', 'watermelon', 'orange', 'kiwi', 'mango']\n",
      "Methode 4 : Inserer un element a un index donne\n",
      " ['apple', 'banana', 'watermelon', 'cherry', 'orange', 'kiwi', 'mango']\n"
     ]
    },
    {
     "name": "stdin",
     "output_type": "stream",
     "text": [
      "Element ? >  ffs\n"
     ]
    },
    {
     "name": "stdout",
     "output_type": "stream",
     "text": [
      "Methode 5 : Inserer un element a un index aleatoire\n",
      " ['p', 'y', 'ffs', 't', 'h', 'o']\n"
     ]
    }
   ],
   "source": [
    "# Methode 1 : Changer un seul élément\n",
    "thislist = [\"apple\", \"banana\", \"cherry\"]\n",
    "thislist[1] = \"blackcurrant\"\n",
    "print(\"Methode 1 : Changer un seul element\\n\", thislist)\n",
    "# Affiche : Methode 1 : Changer un seul element\n",
    "#            ['apple', 'blackcurrant', 'cherry']\n",
    "\n",
    "\n",
    "# Methode 2 : Changer plusieurs éléments\n",
    "thislist = [\"apple\", \"banana\", \"cherry\", \"orange\", \"kiwi\", \"mango\"]\n",
    "thislist[1:3] = [\"blackcurrant\", \"watermelon\"]\n",
    "print(\"Methode 2 : Changer plusieurs elements\\n\", thislist)\n",
    "# Affiche : Methode 2 : Changer plusieurs elements\n",
    "#            ['apple', 'blackcurrant', 'watermelon', 'orange', 'kiwi', 'mango']\n",
    "\n",
    "\n",
    "# Methode 3 : Remplacer plusieurs éléments par un seul\n",
    "thislist = [\"apple\", \"banana\", \"cherry\", \"orange\", \"kiwi\", \"mango\"]\n",
    "thislist[1:3] = [\"watermelon\"]\n",
    "print(\"Methode 3 : Remplacer plusieurs elements par un seul\\n\", thislist)\n",
    "# Affiche : Methode 3 : Remplacer plusieurs elements par un seul\n",
    "#            ['apple', 'watermelon', 'orange', 'kiwi', 'mango']\n",
    "\n",
    "\n",
    "# Methode 4 : Insérer un élément à un index donné\n",
    "thislist = [\"apple\", \"banana\", \"cherry\", \"orange\", \"kiwi\", \"mango\"]\n",
    "thislist.insert(2, \"watermelon\")\n",
    "print(\"Methode 4 : Inserer un element a un index donne\\n\", thislist)\n",
    "# Affiche : Methode 4 : Inserer un element a un index donne\n",
    "#            ['apple', 'banana', 'watermelon', 'cherry', 'orange', 'kiwi', 'mango']\n",
    "\n",
    "\n",
    "# Methode 5 : Insérer un élément à un index aléatoire\n",
    "import random\n",
    "\n",
    "test_list4 = [\"p\", \"y\", \"t\", \"h\", \"o\"]\n",
    "index = random.randint(0, len(test_list4))\n",
    "lettre_insertion = input(\"Element ? > \")\n",
    "test_list4.insert(index, lettre_insertion)\n",
    "print(\"Methode 5 : Inserer un element a un index aleatoire\\n\", test_list4)\n",
    "# Affiche : Methode 5 : Inserer un element a un index aleatoire\n",
    "#            ['p', 'y', 't', 'h', 'o', 'n'] (par exemple, si l'utilisateur choisit la lettre 'n')"
   ]
  },
  {
   "cell_type": "markdown",
   "id": "53762084-6184-46f0-88cf-0625c6bd2092",
   "metadata": {},
   "source": [
    "# METHODES DES LISTES"
   ]
  },
  {
   "cell_type": "code",
   "execution_count": 22,
   "id": "fdf4cff0-4195-4841-a311-74c1e124f53d",
   "metadata": {},
   "outputs": [],
   "source": [
    "import random"
   ]
  },
  {
   "cell_type": "code",
   "execution_count": 23,
   "id": "ea4418d8-304d-4dc0-a3fe-daa1c5a84d11",
   "metadata": {},
   "outputs": [
    {
     "name": "stdout",
     "output_type": "stream",
     "text": [
      "['apple', 'banana', 'cherry', 'banana', 'orange', 'kiwi']\n",
      "[]\n",
      "['apple', 'banana', 'cherry', 'banana', 'orange']\n",
      "2\n",
      "['apple', 'banana', 'banana', 'orange']\n",
      "0 apple\n",
      "1 banana\n",
      "2 banana\n",
      "3 orange\n",
      "['apple', 'banana', 'banana', 'orange', 'mango', 'pineapple', 'papaya']\n",
      "1\n",
      "['apple', 'banana', 'watermelon', 'banana', 'orange', 'mango', 'pineapple', 'papaya']\n",
      "8\n",
      "['apple', 'banana', 'watermelon', 'banana', 'orange', 'mango', 'pineapple', 'papaya']\n",
      "papaya\n",
      "['apple', 'banana', 'watermelon', 'banana', 'orange', 'mango', 'pineapple']\n"
     ]
    }
   ],
   "source": [
    "# Création d'une liste\n",
    "fruits = [\"apple\", \"banana\", \"cherry\", \"banana\", \"orange\"]\n",
    "\n",
    "# METHODE APPEND\n",
    "fruits.append(\"kiwi\") # Ajoute un élément à la fin de la liste\n",
    "print(fruits) # Affiche ['apple', 'banana', 'cherry', 'banana', 'orange', 'kiwi']\n",
    "\n",
    "# METHODE CLEAR\n",
    "fruits.clear() # Vide la liste\n",
    "print(fruits) # Affiche []\n",
    "\n",
    "# Remplissage de la liste avec de nouveaux éléments\n",
    "fruits = [\"apple\", \"banana\", \"cherry\", \"banana\", \"orange\"]\n",
    "\n",
    "# METHODE COPY\n",
    "new_fruits = fruits.copy() # Copie la liste dans une nouvelle liste\n",
    "print(new_fruits) # Affiche ['apple', 'banana', 'cherry', 'banana', 'orange']\n",
    "\n",
    "# METHODE COUNT\n",
    "count = fruits.count(\"banana\") # Compte le nombre d'éléments \"banana\" dans la liste\n",
    "print(count) # Affiche 2\n",
    "\n",
    "# METHODE DEL\n",
    "del fruits[2] # Supprime l'élément à l'index 2 de la liste\n",
    "print(fruits) # Affiche ['apple', 'banana', 'banana', 'orange']\n",
    "\n",
    "# METHODE ENUMERATE\n",
    "for index, fruit in enumerate(fruits): # Parcours la liste et retourne un tuple avec l'indice et l'élément correspondant\n",
    "  print(index, fruit) # Affiche 0 apple, 1 banana, 2 banana, 3 orange\n",
    "\n",
    "# METHODE EXTEND\n",
    "tropical_fruits = [\"mango\", \"pineapple\", \"papaya\"]\n",
    "fruits.extend(tropical_fruits) # Ajoute les éléments de la liste tropical_fruits à la fin de la liste fruits\n",
    "print(fruits) # Affiche ['apple', 'banana', 'banana', 'orange', 'mango', 'pineapple', 'papaya']\n",
    "\n",
    "# METHODE INDEX\n",
    "index = fruits.index(\"banana\") # Renvoie l'indice de la première occurrence de l'élément \"banana\"\n",
    "print(index) # Affiche 1\n",
    "\n",
    "# METHODE INSERT\n",
    "fruits.insert(2, \"watermelon\") # Insère l'élément \"watermelon\" à l'index 2 de la liste\n",
    "print(fruits) # Affiche ['apple', 'banana', 'watermelon', 'banana', 'orange', 'mango', 'pineapple', 'papaya']\n",
    "\n",
    "# METHODE LEN\n",
    "length = len(fruits) # Renvoie la longueur de la liste\n",
    "print(length) # Affiche 8\n",
    "\n",
    "# METHODE LOWER\n",
    "fruits_lower = [fruit.lower() for fruit in fruits] # Crée une nouvelle liste avec tous les éléments en minuscules\n",
    "print(fruits_lower) # Affiche ['apple', 'banana', 'watermelon', 'banana', 'orange', 'mango', 'pineapple', 'papaya']\n",
    "\n",
    "# METHODE POP\n",
    "popped_fruit = fruits.pop() # Retire et renvoie le dernier élément de la liste\n",
    "print(popped_fruit) # Affiche papaya\n",
    "print(fruits) # Affiche ['apple', 'banana', 'watermelon', 'banana', 'orange', 'mango', 'pineapple']\n",
    "\n",
    "# METHODE RANDOM.RANDINT\n",
    "random_index = random.randint(0, len(fruits)-1) # Génère un index aléatoire dans la plage d'index de la"
   ]
  },
  {
   "cell_type": "markdown",
   "id": "592d9d9f-dfb0-40fe-8415-3f573620b8f8",
   "metadata": {},
   "source": [
    "# BOUCLES POSSIBLES SUR DES LISTES"
   ]
  },
  {
   "cell_type": "code",
   "execution_count": 24,
   "id": "1f7ad1a1-9f52-49d3-acea-caeab5cae615",
   "metadata": {},
   "outputs": [
    {
     "name": "stdout",
     "output_type": "stream",
     "text": [
      "Imprimer tous les éléments de la liste verticalement par une boucle qui parcourt les éléments:\n",
      "apple\n",
      "banana\n",
      "cherry\n",
      "kiwi\n",
      "mango\n",
      "\n",
      "Imprimer tous les éléments de la liste à la verticale par une boucle qui parcourt tous les index:\n",
      "apple\n",
      "banana\n",
      "cherry\n",
      "kiwi\n",
      "mango\n",
      "\n",
      "Imprimer tous les éléments de la liste à des index choisis à la verticale:\n",
      "apple\n",
      "banana\n",
      "\n",
      "Créer une nouvelle liste avec tous les mots de la première liste contenant une lettre choisie:\n",
      "['apple', 'banana', 'mango']\n",
      "\n",
      "Créer une nouvelle liste sans le ou les éléments choisis:\n",
      "['banana', 'cherry', 'kiwi', 'mango']\n",
      "\n",
      "Créer des listes successives numériques +1 sur chaque liste créée dans une plage de X à Y exclu dans range(x, Y):\n",
      "[0]\n",
      "[0, 1]\n",
      "[0, 1, 2]\n",
      "[0, 1, 2, 3]\n",
      "[0, 1, 2, 3, 4]\n",
      "[0, 1, 2, 3, 4, 5]\n",
      "[0, 1, 2, 3, 4, 5, 6]\n",
      "[0, 1, 2, 3, 4, 5, 6, 7]\n",
      "[0, 1, 2, 3, 4, 5, 6, 7, 8]\n",
      "[0, 1, 2, 3, 4, 5, 6, 7, 8, 9]\n",
      "\n",
      "Boucle while qui parcourt tous les index pour imprimer tous les éléments:\n",
      "apple\n",
      "banana\n",
      "cherry\n"
     ]
    }
   ],
   "source": [
    "# Liste de fruits\n",
    "fruits = [\"apple\", \"banana\", \"cherry\", \"kiwi\", \"mango\"]\n",
    "\n",
    "# Imprimer tous les éléments de la liste verticalement par une boucle qui parcourt les éléments\n",
    "print(\"Imprimer tous les éléments de la liste verticalement par une boucle qui parcourt les éléments:\")\n",
    "for elt in fruits:\n",
    "  print(elt)\n",
    "\n",
    "# Imprimer tous les éléments de la liste à la verticale par une boucle qui parcourt tous les index\n",
    "print(\"\\nImprimer tous les éléments de la liste à la verticale par une boucle qui parcourt tous les index:\")\n",
    "for ind in range(len(fruits)):\n",
    "  print(fruits[ind])\n",
    "\n",
    "# Imprimer tous les éléments de la liste à des index choisis à la verticale\n",
    "print(\"\\nImprimer tous les éléments de la liste à des index choisis à la verticale:\")\n",
    "for elt in range(0, 2):\n",
    "  print(fruits[elt])\n",
    "\n",
    "# Créer une nouvelle liste avec tous les mots de la première liste contenant une lettre choisie\n",
    "print(\"\\nCréer une nouvelle liste avec tous les mots de la première liste contenant une lettre choisie:\")\n",
    "newlist = []\n",
    "for elt in fruits:\n",
    "  if \"a\" in elt:\n",
    "    newlist.append(elt)\n",
    "print(newlist)\n",
    "\n",
    "# Créer une nouvelle liste sans le ou les éléments choisis\n",
    "print(\"\\nCréer une nouvelle liste sans le ou les éléments choisis:\")\n",
    "newlist =[]\n",
    "for elt in fruits:\n",
    "  if elt != \"apple\":\n",
    "    newlist.append(elt)\n",
    "print(newlist)\n",
    "\n",
    "# Créer des listes successives numériques +1 sur chaque liste créée dans une plage de X à Y exclu dans range(x, Y)\n",
    "print(\"\\nCréer des listes successives numériques +1 sur chaque liste créée dans une plage de X à Y exclu dans range(x, Y):\")\n",
    "newlist = []\n",
    "for elt in range(10):\n",
    "  newlist.append(elt)\n",
    "  print(newlist)\n",
    "\n",
    "# Boucle while qui parcourt tous les index pour imprimer tous les éléments\n",
    "print(\"\\nBoucle while qui parcourt tous les index pour imprimer tous les éléments:\")\n",
    "thislist = [\"apple\", \"banana\", \"cherry\"]\n",
    "i = 0\n",
    "while i < len(thislist):\n",
    "  print(thislist[i])\n",
    "  i+=1"
   ]
  },
  {
   "cell_type": "markdown",
   "id": "97729c9d-aa80-4465-9ffa-2117ce53c2df",
   "metadata": {},
   "source": [
    "# DEBALLAGE"
   ]
  },
  {
   "cell_type": "code",
   "execution_count": 25,
   "id": "dbbba901-630a-42c5-aab9-d373449cfafa",
   "metadata": {},
   "outputs": [
    {
     "name": "stdout",
     "output_type": "stream",
     "text": [
      "['apple', 'banana', 'cherry']\n"
     ]
    }
   ],
   "source": [
    "# Création d'une liste de fruits\n",
    "fruits = [\"apple\", \"banana\", \"cherry\"]\n",
    "\n",
    "# Impression de la liste de fruits\n",
    "print(fruits)#[\"apple\", \"banana\", \"cherry\"]"
   ]
  },
  {
   "cell_type": "code",
   "execution_count": 26,
   "id": "c7653fde-0c3f-44d7-908b-03597b2c77b8",
   "metadata": {},
   "outputs": [
    {
     "name": "stdout",
     "output_type": "stream",
     "text": [
      "apple\n",
      "banana\n",
      "['cherry']\n"
     ]
    }
   ],
   "source": [
    "# Définition de la liste de fruits\n",
    "fruits = [\"apple\", \"banana\", \"cherry\"]\n",
    "\n",
    "# Déballage des fruits en utilisant des critères généraux\n",
    "[green, yellow, *red] = fruits\n",
    "\n",
    "# Impression des éléments des critères choisis: couleurs\n",
    "print(green)\n",
    "print(yellow)\n",
    "print(red)\n",
    "#IMPRIME \n",
    "#apple\n",
    "#banana\n",
    "#['cherry']"
   ]
  },
  {
   "cell_type": "code",
   "execution_count": 27,
   "id": "cf7fb193-9211-43ad-b7f1-2643d1ac3c29",
   "metadata": {},
   "outputs": [
    {
     "name": "stdout",
     "output_type": "stream",
     "text": [
      "apple\n",
      "banana\n",
      "['cherry', 'strawberry', 'raspberry']\n"
     ]
    }
   ],
   "source": [
    "# Définition de la liste de fruits\n",
    "fruits = [\"apple\", \"banana\", \"cherry\", \"strawberry\", \"raspberry\"]\n",
    "\n",
    "# Déballage des fruits en utilisant des critères de couleur et une liste \"autres\" pour les éléments restants\n",
    "[green, yellow, *autres] = fruits\n",
    "\n",
    "# Impression des éléments des critères choisis couleurs + les elements restants\n",
    "print(green)\n",
    "print(yellow)\n",
    "print(autres)\n",
    "\n",
    "#imprime \n",
    "#apple\n",
    "#banana\n",
    "#['cherry', 'strawberry', 'raspberry']"
   ]
  },
  {
   "cell_type": "code",
   "execution_count": 28,
   "id": "5c12ed19-1ab3-4d3c-a455-405c736de1f4",
   "metadata": {},
   "outputs": [
    {
     "name": "stdout",
     "output_type": "stream",
     "text": [
      "apple\n",
      "['mango', 'papaya', 'pineapple']\n",
      "cherry\n"
     ]
    }
   ],
   "source": [
    "# Définition de la liste de fruits\n",
    "fruits = [\"apple\", \"mango\", \"papaya\", \"pineapple\", \"cherry\"]\n",
    "\n",
    "# Déballage des fruits en utilisant des critères de couleur et une liste \"tropic\" pour les éléments restants\n",
    "[green, *tropic, red] = fruits\n",
    "\n",
    "# Impression des éléments des critères choisis couleur et type de fruits\n",
    "print(green)\n",
    "print(tropic)\n",
    "print(red)\n",
    "\n",
    "#imprime apple\n",
    "#['mango', 'papaya', 'pineapple']\n",
    "#cherry"
   ]
  },
  {
   "cell_type": "code",
   "execution_count": null,
   "id": "6049b0d0-6152-4d0f-b995-c9fbd29a05d1",
   "metadata": {},
   "outputs": [],
   "source": []
  }
 ],
 "metadata": {
  "kernelspec": {
   "display_name": "Python 3 (ipykernel)",
   "language": "python",
   "name": "python3"
  },
  "language_info": {
   "codemirror_mode": {
    "name": "ipython",
    "version": 3
   },
   "file_extension": ".py",
   "mimetype": "text/x-python",
   "name": "python",
   "nbconvert_exporter": "python",
   "pygments_lexer": "ipython3",
   "version": "3.10.9"
  }
 },
 "nbformat": 4,
 "nbformat_minor": 5
}
