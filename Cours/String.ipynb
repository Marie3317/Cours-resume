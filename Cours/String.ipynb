{
 "cells": [
  {
   "cell_type": "raw",
   "id": "27064a11-dade-4e7c-9fb4-b81cb48493ff",
   "metadata": {},
   "source": [
    "Composition :\n",
    "\n",
    "variable=\"élement\"\n",
    "La variable composée d'élements ayant un index != position de l'élement\n",
    "\n",
    "le 1er élement se trouve à :\n",
    "\n",
    "l'index 0\n",
    "la position 1\n",
    "*La string est *\n",
    "\n",
    "Ordonnée\n",
    "modifiable\n",
    "autorise les doublons\n",
    "la string peut contenir\n",
    "\n",
    "int (entier)\n",
    "float (nb à virgul)\n",
    "bool (booléen)\n",
    "liste (liste)\n",
    "dict (dictionnaire)\n",
    "tuple (tuple)\n",
    "ensemble (ensemble)\n",
    "complexe (nombre complexe)\n",
    "!!!Cependant, il est important de noter que la conversion de ces types de données en chaînes de caractères peut entraîner une perte d'information ou de précision, en particulier pour les nombres à virgule flottante et les nombres complexes. De plus, la conversion inverse de chaînes de caractères en types de données peut également entraîner des erreurs si la chaîne n'est pas correctement formatée ou si elle contient des données incorrectes."
   ]
  },
  {
   "cell_type": "markdown",
   "id": "c80e9a33-fda3-4cc7-b2e1-e2bad8bce9fb",
   "metadata": {},
   "source": [
    "# BASES"
   ]
  },
  {
   "cell_type": "code",
   "execution_count": 1,
   "id": "3d4bf057-f8fb-4a0a-9a2c-fd9829fd0931",
   "metadata": {},
   "outputs": [
    {
     "name": "stdout",
     "output_type": "stream",
     "text": [
      "Ma chaîne de caractères : Bonjour, comment ça va ?\n",
      "Type de la chaîne de caractères : <class 'str'>\n",
      "Type du caractère B : <class 'str'>\n",
      "Type du caractère o : <class 'str'>\n",
      "Type du caractère n : <class 'str'>\n",
      "Type du caractère j : <class 'str'>\n",
      "Type du caractère o : <class 'str'>\n",
      "Type du caractère u : <class 'str'>\n",
      "Type du caractère r : <class 'str'>\n",
      "Type du caractère , : <class 'str'>\n",
      "Type du caractère   : <class 'str'>\n",
      "Type du caractère c : <class 'str'>\n",
      "Type du caractère o : <class 'str'>\n",
      "Type du caractère m : <class 'str'>\n",
      "Type du caractère m : <class 'str'>\n",
      "Type du caractère e : <class 'str'>\n",
      "Type du caractère n : <class 'str'>\n",
      "Type du caractère t : <class 'str'>\n",
      "Type du caractère   : <class 'str'>\n",
      "Type du caractère ç : <class 'str'>\n",
      "Type du caractère a : <class 'str'>\n",
      "Type du caractère   : <class 'str'>\n",
      "Type du caractère v : <class 'str'>\n",
      "Type du caractère a : <class 'str'>\n",
      "Type du caractère   : <class 'str'>\n",
      "Type du caractère ? : <class 'str'>\n",
      "Le caractère 'B' est présent dans la chaîne\n",
      "L'élément ' B ' est présent dans la chaîne\n",
      "L'élément ' o ' est présent dans la chaîne\n",
      "L'élément ' n ' est présent dans la chaîne\n",
      "L'élément ' j ' est présent dans la chaîne\n",
      "L'élément ' o ' est présent dans la chaîne\n",
      "L'élément ' u ' est présent dans la chaîne\n",
      "L'élément ' r ' est présent dans la chaîne\n",
      "L'élément ' , ' est présent dans la chaîne\n",
      "L'élément '   ' est présent dans la chaîne\n",
      "L'élément ' c ' est présent dans la chaîne\n",
      "L'élément ' o ' est présent dans la chaîne\n",
      "L'élément ' m ' est présent dans la chaîne\n",
      "L'élément ' m ' est présent dans la chaîne\n",
      "L'élément ' e ' est présent dans la chaîne\n",
      "L'élément ' n ' est présent dans la chaîne\n",
      "L'élément ' t ' est présent dans la chaîne\n",
      "L'élément '   ' est présent dans la chaîne\n",
      "L'élément ' ç ' est présent dans la chaîne\n",
      "L'élément ' a ' est présent dans la chaîne\n",
      "L'élément '   ' est présent dans la chaîne\n",
      "L'élément ' v ' est présent dans la chaîne\n",
      "L'élément ' a ' est présent dans la chaîne\n",
      "L'élément '   ' est présent dans la chaîne\n",
      "L'élément ' ? ' est présent dans la chaîne\n",
      "Nombre d'éléments dans la chaîne : 24\n"
     ]
    }
   ],
   "source": [
    "# Définir une chaîne de caractères\n",
    "ma_chaine = \"Bonjour, comment ça va ?\"\n",
    "\n",
    "# Afficher la chaîne de caractères\n",
    "print(\"Ma chaîne de caractères :\", ma_chaine)\n",
    "\n",
    "# Afficher le type de la chaîne de caractères\n",
    "print(\"Type de la chaîne de caractères :\", type(ma_chaine))\n",
    "\n",
    "# Parcourir les caractères de la chaîne et afficher leur type\n",
    "for caractere in ma_chaine:\n",
    "    print(\"Type du caractère\", caractere, \":\", type(caractere))\n",
    "\n",
    "# Vérifier si un caractère est présent dans la chaîne et afficher le résultat sous forme de booléen\n",
    "if \"B\" in ma_chaine:\n",
    "    print(\"Le caractère 'B' est présent dans la chaîne\")\n",
    "else:\n",
    "    print(\"Le caractère 'B' n'est pas présent dans la chaîne\")\n",
    "\n",
    "# Vérifier si un élément de la liste est présent dans la chaîne et afficher le résultat sous forme de message\n",
    "for element in ma_chaine:\n",
    "    if element in ma_chaine:\n",
    "        print(\"L'élément '\", element, \"' est présent dans la chaîne\")\n",
    "    else:\n",
    "        print(\"L'élément '\", element, \"' n'est pas présent dans la chaîne\")\n",
    "\n",
    "# Compter le nombre d'éléments dans la chaîne et l'afficher\n",
    "nombre_elements = len(ma_chaine)\n",
    "print(\"Nombre d'éléments dans la chaîne :\", nombre_elements)"
   ]
  },
  {
   "cell_type": "markdown",
   "id": "606f9dae-ea7f-44f6-b6a6-f213434d8743",
   "metadata": {},
   "source": [
    "# SLICING"
   ]
  },
  {
   "cell_type": "code",
   "execution_count": 2,
   "id": "1976784e-69ce-41a0-82f0-082539e30d32",
   "metadata": {},
   "outputs": [
    {
     "name": "stdout",
     "output_type": "stream",
     "text": [
      "Slice1 : ['chien', 'oiseau', 'poisson', 'lapin']\n"
     ]
    }
   ],
   "source": [
    "mots = ['chat', 'chien', 'oiseau', 'poisson', 'lapin', 'tigre', 'lion', 'souris', 'éléphant', 'cheval']\n",
    "\n",
    "# Slicing de base, récupère les éléments de l'index 1 à l'index 4\n",
    "slice1 = mots[1:5]\n",
    "print(\"Slice1 :\", slice1) # ['chien', 'oiseau', 'poisson', 'lapin']"
   ]
  },
  {
   "cell_type": "code",
   "execution_count": 3,
   "id": "90e9fe5f-8dfb-4ffa-aac1-5cf56e4fe616",
   "metadata": {},
   "outputs": [
    {
     "name": "stdout",
     "output_type": "stream",
     "text": [
      "Slice2 : ['chat', 'chien', 'oiseau', 'poisson', 'lapin']\n"
     ]
    }
   ],
   "source": [
    "# Slicing sans index de début, récupère les éléments depuis le début de la liste jusqu'à l'index 4\n",
    "slice2 = mots[:5]\n",
    "print(\"Slice2 :\", slice2) # ['chat', 'chien', 'oiseau', 'poisson', 'lapin']"
   ]
  },
  {
   "cell_type": "code",
   "execution_count": 4,
   "id": "c0e05bde-b0ea-41ca-9b1f-ab9af3bf952d",
   "metadata": {},
   "outputs": [
    {
     "name": "stdout",
     "output_type": "stream",
     "text": [
      "Slice3 : ['poisson', 'lapin', 'tigre', 'lion', 'souris', 'éléphant', 'cheval']\n"
     ]
    }
   ],
   "source": [
    "# Slicing sans index de fin, récupère les éléments de l'index 3 jusqu'à la fin de la liste\n",
    "slice3 = mots[3:]\n",
    "print(\"Slice3 :\", slice3) # ['poisson', 'lapin', 'tigre', 'lion', 'souris', 'éléphant', 'cheval']"
   ]
  },
  {
   "cell_type": "code",
   "execution_count": 5,
   "id": "0d29e0db-3e1b-4d9c-9c0c-8c5ec2b77e7d",
   "metadata": {},
   "outputs": [
    {
     "name": "stdout",
     "output_type": "stream",
     "text": [
      "Slice4 : ['chat', 'oiseau', 'lapin', 'lion', 'éléphant']\n"
     ]
    }
   ],
   "source": [
    "# Slicing avec un pas de 2, récupère tous les éléments en sautant un élément sur deux\n",
    "slice4 = mots[::2]\n",
    "print(\"Slice4 :\", slice4) # ['chat', 'oiseau', 'lapin', 'lion', 'éléphant']"
   ]
  },
  {
   "cell_type": "code",
   "execution_count": 6,
   "id": "d0ce4b9e-fb5f-4ece-9702-8d8b2a6483a3",
   "metadata": {},
   "outputs": [
    {
     "name": "stdout",
     "output_type": "stream",
     "text": [
      "Slice5 : ['chat', 'poisson', 'lion', 'cheval']\n"
     ]
    }
   ],
   "source": [
    "# Slicing avec un pas de 3, récupère tous les éléments en sautant deux éléments sur trois\n",
    "slice5 = mots[::3]\n",
    "print(\"Slice5 :\", slice5) # ['chat', 'poisson', 'lion']"
   ]
  },
  {
   "cell_type": "code",
   "execution_count": 7,
   "id": "38c740e0-1e7e-4f35-96eb-5fe66fa86e72",
   "metadata": {},
   "outputs": [
    {
     "name": "stdout",
     "output_type": "stream",
     "text": [
      "Slice6 : ['chien', 'poisson', 'tigre', 'souris', 'cheval']\n"
     ]
    }
   ],
   "source": [
    "# Slicing avec un pas de 2 et un index de début, récupère tous les éléments en sautant un élément sur deux à partir de l'index 1\n",
    "slice6 = mots[1::2]\n",
    "print(\"Slice6 :\", slice6) # ['chien', 'poisson', 'tigre', 'souris', 'cheval']"
   ]
  },
  {
   "cell_type": "code",
   "execution_count": 8,
   "id": "78ef4ec9-90cd-48bb-a94a-e12a756a7260",
   "metadata": {},
   "outputs": [
    {
     "name": "stdout",
     "output_type": "stream",
     "text": [
      "Slice7 : ['chat', 'poisson']\n"
     ]
    }
   ],
   "source": [
    "# Slicing avec un pas de 3 et un index de fin, récupère tous les éléments en sautant deux éléments sur trois jusqu'à l'index 6\n",
    "slice7 = mots[:6:3]\n",
    "print(\"Slice7 :\", slice7) # ['chat', 'poisson']"
   ]
  },
  {
   "cell_type": "code",
   "execution_count": 9,
   "id": "19c1ea0c-65da-46f0-b859-3f11c98e88c9",
   "metadata": {},
   "outputs": [
    {
     "name": "stdout",
     "output_type": "stream",
     "text": [
      "Slice8 : ['cheval', 'éléphant', 'souris', 'lion', 'tigre', 'lapin', 'poisson', 'oiseau', 'chien', 'chat']\n"
     ]
    }
   ],
   "source": [
    "# Slicing avec un pas de -1, récupère tous les éléments en ordre inverse\n",
    "slice8 = mots[::-1]\n",
    "print(\"Slice8 :\", slice8) # ['cheval', 'éléphant', 'souris', 'lion', 'tigre', 'lapin', 'poisson', 'oiseau', 'chien', 'chat']"
   ]
  },
  {
   "cell_type": "code",
   "execution_count": 10,
   "id": "a1ae737f-ffd8-4b1e-b13f-ede77f89836f",
   "metadata": {},
   "outputs": [
    {
     "name": "stdout",
     "output_type": "stream",
     "text": [
      "Slice9 : ['cheval', 'souris', 'tigre', 'poisson', 'chien']\n"
     ]
    }
   ],
   "source": [
    "# Slicing avec un pas de -2, récupère tous les éléments en ordre inverse en sautant un élément sur deux\n",
    "slice9 = mots[::-2]\n",
    "print(\"Slice9 :\", slice9) # ['cheval', 'souris', 'tigre', 'poisson', 'chien']"
   ]
  },
  {
   "cell_type": "code",
   "execution_count": 11,
   "id": "5453d2c0-2c29-4bad-8a37-db6a02fd7760",
   "metadata": {},
   "outputs": [
    {
     "name": "stdout",
     "output_type": "stream",
     "text": [
      "Slice10 : ['lapin']\n"
     ]
    }
   ],
   "source": [
    "# Slicing avec un index de début et de fin identiques, récupère un élément de la liste\n",
    "slice10 = mots[4:5]\n",
    "print(\"Slice10 :\", slice10) # ['lapin']"
   ]
  },
  {
   "cell_type": "markdown",
   "id": "43c2ba35-4e74-4f2e-bace-9654217a7df7",
   "metadata": {},
   "source": [
    "# CONCATENATION"
   ]
  },
  {
   "cell_type": "code",
   "execution_count": 12,
   "id": "397de960-3c17-4f53-a5fe-4aa0b459b4f8",
   "metadata": {},
   "outputs": [
    {
     "name": "stdout",
     "output_type": "stream",
     "text": [
      "John Doe habite à Paris et a 42 ans.\n"
     ]
    }
   ],
   "source": [
    "# Définir les différentes parties du string\n",
    "prenom = \"John\"\n",
    "nom = \"Doe\"\n",
    "ville = \"Paris\"\n",
    "age = 42\n",
    "# Concaténer les parties avec des espaces\n",
    "ma_chaine = prenom + \" \" + nom + \" habite à \" + ville + \" et a \" + str(age) + \" ans.\"\n",
    "# Afficher le string final\n",
    "print(ma_chaine) #imprime John Doe habite à Paris et a 42 ans."
   ]
  },
  {
   "cell_type": "markdown",
   "id": "3ff5318e-c2da-4fb3-b865-3119daf566b9",
   "metadata": {},
   "source": [
    "# METHODES"
   ]
  },
  {
   "cell_type": "raw",
   "id": "4b5b474a-ba28-4583-a374-ec52edce4081",
   "metadata": {},
   "source": [
    "Len > compte les caractéres de la str (mm espace, symbole...)\n",
    "compter sans les espaces te symboles >>Boucle FOR\n",
    "\n",
    "Lower > mettre en minuscule\n",
    "Replace > remplacer un element ou caractère.\n",
    "Split : Découpe la string\n",
    "pour choisir ou séparer faire split(\",\")ici sépérare a chque ,\n",
    "\n",
    "Strip > Supprime espace avt fin\n",
    "Upper > Mettre en majuscule"
   ]
  },
  {
   "cell_type": "code",
   "execution_count": 13,
   "id": "5c9e4314-e32d-4562-8073-d43f0a70d218",
   "metadata": {},
   "outputs": [
    {
     "name": "stdout",
     "output_type": "stream",
     "text": [
      "Chaîne originale :\n",
      "   Le python est un langage de programmation interprété.   \n"
     ]
    }
   ],
   "source": [
    "# Créer la chaîne de caractères\n",
    "ma_chaine = \"   Le python est un langage de programmation interprété.   \"\n",
    "# Afficher la chaîne de caractères originale\n",
    "print(\"Chaîne originale :\")\n",
    "print(ma_chaine)\n",
    "#imprime Chaîne originale :\n",
    "   #Le python est un langage de programmation interprété.  "
   ]
  },
  {
   "cell_type": "code",
   "execution_count": 14,
   "id": "5bdbb0e8-9a7e-4cd5-8f86-a4e916275a6c",
   "metadata": {},
   "outputs": [
    {
     "name": "stdout",
     "output_type": "stream",
     "text": [
      "\n",
      "Nombre d'éléments dans la chaîne : 59\n"
     ]
    }
   ],
   "source": [
    "# Utiliser la méthode len() pour compter le nombre d'éléments dans la chaîne\n",
    "nombre_elements = len(ma_chaine)\n",
    "print(\"\\nNombre d'éléments dans la chaîne :\", nombre_elements)\n",
    "#imprime Nombre d'éléments dans la chaîne : 24"
   ]
  },
  {
   "cell_type": "code",
   "execution_count": 15,
   "id": "490e0fe8-5adc-484a-b461-28845f9a144a",
   "metadata": {},
   "outputs": [
    {
     "name": "stdout",
     "output_type": "stream",
     "text": [
      "\n",
      "Nombre de caractères dans la chaîne (sans espaces) : 46\n"
     ]
    }
   ],
   "source": [
    "# Utiliser une boucle for pour compter le nombre de caractères dans la chaîne sans espaces\n",
    "nombre_caracteres_sans_espace = 0\n",
    "for caractere in ma_chaine:\n",
    "    if caractere != \" \":\n",
    "        nombre_caracteres_sans_espace += 1\n",
    "print(\"\\nNombre de caractères dans la chaîne (sans espaces) :\", nombre_caracteres_sans_espace)\n",
    "#imprime Nombre de caractères dans la chaîne (sans espaces) : 20"
   ]
  },
  {
   "cell_type": "code",
   "execution_count": 16,
   "id": "2610b22c-f1f1-4ba0-a36f-e37b693f9a0b",
   "metadata": {},
   "outputs": [
    {
     "name": "stdout",
     "output_type": "stream",
     "text": [
      "\n",
      "Chaîne en minuscules :\n",
      "   le python est un langage de programmation interprété.   \n"
     ]
    }
   ],
   "source": [
    "# Utiliser la méthode lower() pour transformer la chaîne en minuscules\n",
    "ma_chaine = ma_chaine.lower()\n",
    "print(\"\\nChaîne en minuscules :\")\n",
    "print(ma_chaine)\n",
    "#imprime Chaîne en minuscules :\n",
    "#bonjour, comment ça va ?"
   ]
  },
  {
   "cell_type": "code",
   "execution_count": 17,
   "id": "a5387968-2acf-44b8-86dd-511e4447c6ec",
   "metadata": {},
   "outputs": [
    {
     "name": "stdout",
     "output_type": "stream",
     "text": [
      "\n",
      "Chaîne modifiée :\n",
      "   le Java est un langage de programmation interprété.   \n"
     ]
    }
   ],
   "source": [
    "# Utiliser la méthode replace() pour remplacer certains caractères dans la chaîne\n",
    "ma_chaine = ma_chaine.replace(\"python\", \"Java\")\n",
    "print(\"\\nChaîne modifiée :\")\n",
    "print(ma_chaine)\n",
    "#imprime Chaîne modifiée :\n",
    "#bonjour, comment ça va ?"
   ]
  },
  {
   "cell_type": "code",
   "execution_count": 19,
   "id": "306736dc-5a1c-4f3b-9905-b096ea5edfd8",
   "metadata": {},
   "outputs": [
    {
     "name": "stdout",
     "output_type": "stream",
     "text": [
      "Liste des mots dans la chaîne :\n",
      "['le', 'Java', 'est', 'un', 'langage', 'de', 'programmation', 'interprété.']\n"
     ]
    }
   ],
   "source": [
    "# Utiliser la méthode split() pour diviser la chaîne en une liste de sous-chaînes\n",
    "liste_mots = ma_chaine.split()\n",
    "print(\"Liste des mots dans la chaîne :\")\n",
    "print(liste_mots)\n",
    "#IMPRIME\n",
    "#Liste des mots dans la chaîne :\n",
    "#['le', 'Java', 'est', 'un', 'langage', 'de', 'programmation', 'interprété.']"
   ]
  },
  {
   "cell_type": "code",
   "execution_count": 20,
   "id": "40b0b3b7-c0dc-4911-ad86-e642fd4d41e0",
   "metadata": {},
   "outputs": [
    {
     "name": "stdout",
     "output_type": "stream",
     "text": [
      "\n",
      "Liste des mots dans la chaîne (en utilisant 'de' comme séparateur) :\n",
      "['   le Java est un langage ', ' programmation interprété.   ']\n"
     ]
    }
   ],
   "source": [
    "# Utiliser la méthode split() avec un argument pour diviser la chaîne en une liste de sous-chaînes en utilisant un autre séparateur que l'espace\n",
    "liste_mots = ma_chaine.split(\"de\")\n",
    "print(\"\\nListe des mots dans la chaîne (en utilisant 'de' comme séparateur) :\")\n",
    "print(liste_mots)\n",
    "#IMPRIEM\n",
    "#Liste des mots dans la chaîne (en utilisant 'de' comme séparateur) :\n",
    "#['   le Java est un langage ', ' programmation interprété.   ']"
   ]
  },
  {
   "cell_type": "code",
   "execution_count": 21,
   "id": "c13dccf5-eb9f-4b03-80a0-390813f4ff94",
   "metadata": {},
   "outputs": [
    {
     "name": "stdout",
     "output_type": "stream",
     "text": [
      "\n",
      "Chaîne sans espaces en début et fin :\n",
      "le Java est un langage de programmation interprété.\n"
     ]
    }
   ],
   "source": [
    "# Utiliser la méthode strip() pour supprimer les espaces en début et fin de chaîne\n",
    "ma_chaine = ma_chaine.strip()\n",
    "print(\"\\nChaîne sans espaces en début et fin :\")\n",
    "print(ma_chaine)\n",
    "#IMPRIME\n",
    "#Chaîne sans espaces en début et fin :\n",
    "#le Java est un langage de programmation interprété."
   ]
  },
  {
   "cell_type": "code",
   "execution_count": 22,
   "id": "3e9eabc4-5551-409b-ab3c-a4e804154547",
   "metadata": {},
   "outputs": [
    {
     "name": "stdout",
     "output_type": "stream",
     "text": [
      "\n",
      "Chaîne en majuscules :\n",
      "LE JAVA EST UN LANGAGE DE PROGRAMMATION INTERPRÉTÉ.\n"
     ]
    }
   ],
   "source": [
    "# Utiliser la méthode upper() pour transformer la chaîne en majuscules\n",
    "ma_chaine = ma_chaine.upper()\n",
    "print(\"\\nChaîne en majuscules :\")\n",
    "print(ma_chaine)\n",
    "#IMPRIME\n",
    "#Chaîne sans espaces en début et fin :\n",
    "#le Java est un langage de programmation interprété."
   ]
  },
  {
   "cell_type": "markdown",
   "id": "af989424-8bbe-4a50-862d-d1aa4a06bb40",
   "metadata": {},
   "source": [
    "# Boucles"
   ]
  },
  {
   "cell_type": "code",
   "execution_count": 23,
   "id": "f92de776-f4db-4428-8fc5-ed0a6e9eb46e",
   "metadata": {},
   "outputs": [
    {
     "name": "stdout",
     "output_type": "stream",
     "text": [
      "LOrEm IpsUm dOlOr sIt AmEt, cOnsEctEtUr AdIpIscIng ElIt\n"
     ]
    }
   ],
   "source": [
    "ma_chaine = \"Lorem ipsum dolor sit amet, consectetur adipiscing elit\"\n",
    "voyelles = \"aeiouy\"\n",
    "resultat = \"\"\n",
    "\n",
    "# Boucle for pour parcourir chaque caractère de la chaîne\n",
    "for lettre in ma_chaine:\n",
    "    # Si la lettre est une voyelle, on la met en majuscule\n",
    "    if lettre.lower() in voyelles:\n",
    "        resultat += lettre.upper()\n",
    "    else:\n",
    "        resultat += lettre\n",
    "\n",
    "print(resultat)\n",
    "#imprime LOrEm IpsUm dOlOr sIt AmEt, cOnsEctEtUr AdIpIscIng ElIt"
   ]
  },
  {
   "cell_type": "code",
   "execution_count": 24,
   "id": "f6e8e133-af1e-4cb6-b745-2494a07fc467",
   "metadata": {},
   "outputs": [
    {
     "name": "stdout",
     "output_type": "stream",
     "text": [
      "L-r-m -ps-m d-l-r s-t -m-t, c-ns-ct-t-r -d-p-sc-ng -l-t\n"
     ]
    }
   ],
   "source": [
    "ma_chaine = \"Lorem ipsum dolor sit amet, consectetur adipiscing elit\"\n",
    "voyelles = \"aeiouy\"\n",
    "resultat = \"\"\n",
    "\n",
    "# Boucle for pour parcourir chaque caractère de la chaîne\n",
    "for lettre in ma_chaine:\n",
    "    # Si la lettre est une voyelle, on la remplace par un tiret\n",
    "    if lettre.lower() in voyelles:\n",
    "        resultat += \"-\"\n",
    "    else:\n",
    "        resultat += lettre\n",
    "\n",
    "print(resultat)\n",
    "#imprime L-r-m -ps-m d-l-r s-t -m-t, c-ns-ct-t-r -d-p-sc-ng -l-t"
   ]
  },
  {
   "cell_type": "code",
   "execution_count": 25,
   "id": "f1323c57-133d-4f69-b10f-a4491cf6eea3",
   "metadata": {},
   "outputs": [
    {
     "name": "stdout",
     "output_type": "stream",
     "text": [
      "Il y a 19 voyelles dans la chaîne\n"
     ]
    }
   ],
   "source": [
    "ma_chaine = \"Lorem ipsum dolor sit amet, consectetur adipiscing elit\"\n",
    "voyelles = \"aeiouy\"\n",
    "compteur = 0\n",
    "\n",
    "# Boucle for pour parcourir chaque caractère de la chaîne\n",
    "for lettre in ma_chaine:\n",
    "    # Si la lettre est une voyelle, on ajoute 1 au compteur\n",
    "    if lettre.lower() in voyelles:\n",
    "        compteur += 1\n",
    "\n",
    "print(\"Il y a\", compteur, \"voyelles dans la chaîne\")\n",
    "#imprime Il y a 19 voyelles dans la chaîne"
   ]
  },
  {
   "cell_type": "code",
   "execution_count": 26,
   "id": "b889998b-1be6-4b0b-9c7f-c4ef4613bbd7",
   "metadata": {},
   "outputs": [
    {
     "name": "stdout",
     "output_type": "stream",
     "text": [
      "B\n",
      "o\n",
      "n\n",
      "j\n",
      "o\n",
      "u\n",
      "r\n",
      " \n",
      "t\n",
      "o\n"
     ]
    }
   ],
   "source": [
    "ma_chaine = \"Bonjour tout le monde !\"\n",
    "# On boucle 10 fois pour afficher les 10 premiers caractères de la chaîne\n",
    "for i in range(10):\n",
    "    # On affiche le caractère à l'indice i de la chaîne\n",
    "    print(ma_chaine[i])"
   ]
  },
  {
   "cell_type": "code",
   "execution_count": 27,
   "id": "c61536a1-2e11-43f5-8035-20a65831552e",
   "metadata": {},
   "outputs": [
    {
     "name": "stdout",
     "output_type": "stream",
     "text": [
      "t\n",
      "o\n",
      "u\n",
      "t\n",
      " \n",
      "l\n",
      "e\n",
      " \n"
     ]
    }
   ],
   "source": [
    "ma_chaine = \"Bonjour tout le monde !\"\n",
    "# On boucle de l'indice 8 (caractère 't') à l'indice 15 (caractère 'e' du mot 'monde')\n",
    "for i in range(8,16):\n",
    "    # On affiche le caractère à l'indice i de la chaîne\n",
    "    print(ma_chaine[i])"
   ]
  },
  {
   "cell_type": "code",
   "execution_count": 28,
   "id": "2a457f43-91f9-40ee-a3db-73bc2afbaad8",
   "metadata": {},
   "outputs": [
    {
     "name": "stdout",
     "output_type": "stream",
     "text": [
      "B\n",
      "j\n",
      "r\n",
      "o\n",
      " \n",
      " \n",
      "n\n",
      " \n"
     ]
    }
   ],
   "source": [
    "ma_chaine = \"Bonjour tout le monde !\"\n",
    "# On boucle de 0 à la longueur de la chaîne en sautant de 3 en 3\n",
    "for i in range(0,len(ma_chaine),3):\n",
    "    # On affiche le caractère à l'indice i de la chaîne\n",
    "    print(ma_chaine[i])"
   ]
  },
  {
   "cell_type": "code",
   "execution_count": null,
   "id": "c15d262d-0d9a-4e79-8a8a-45bde5be4cbc",
   "metadata": {},
   "outputs": [],
   "source": []
  }
 ],
 "metadata": {
  "kernelspec": {
   "display_name": "Python 3 (ipykernel)",
   "language": "python",
   "name": "python3"
  },
  "language_info": {
   "codemirror_mode": {
    "name": "ipython",
    "version": 3
   },
   "file_extension": ".py",
   "mimetype": "text/x-python",
   "name": "python",
   "nbconvert_exporter": "python",
   "pygments_lexer": "ipython3",
   "version": "3.10.9"
  }
 },
 "nbformat": 4,
 "nbformat_minor": 5
}
