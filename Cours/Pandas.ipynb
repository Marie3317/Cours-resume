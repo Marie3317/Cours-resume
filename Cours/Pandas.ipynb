{
 "cells": [
  {
   "cell_type": "markdown",
   "id": "78d9521a-86f6-40f8-bc97-90668f474492",
   "metadata": {
    "tags": []
   },
   "source": [
    "# Pandas"
   ]
  },
  {
   "cell_type": "markdown",
   "id": "ab4933d5-fdae-49b4-8307-248768bfa445",
   "metadata": {},
   "source": [
    "Pandas sert à manipuler des tableaux qu'on appelle DataFrame.\n",
    "Limite les dimensions à 2."
   ]
  },
  {
   "cell_type": "code",
   "execution_count": 20,
   "id": "13d4eafa-4fad-4ed9-aecc-167951d5975e",
   "metadata": {},
   "outputs": [],
   "source": [
    "import pandas as pd"
   ]
  },
  {
   "cell_type": "markdown",
   "id": "1d9543fa-c83d-4a9d-aecd-ce91fb168320",
   "metadata": {
    "tags": []
   },
   "source": [
    "## Création DF"
   ]
  },
  {
   "cell_type": "code",
   "execution_count": 11,
   "id": "1d73b39b-2bc7-4108-ba10-f56aeb7cc028",
   "metadata": {},
   "outputs": [
    {
     "data": {
      "text/html": [
       "<div>\n",
       "<style scoped>\n",
       "    .dataframe tbody tr th:only-of-type {\n",
       "        vertical-align: middle;\n",
       "    }\n",
       "\n",
       "    .dataframe tbody tr th {\n",
       "        vertical-align: top;\n",
       "    }\n",
       "\n",
       "    .dataframe thead th {\n",
       "        text-align: right;\n",
       "    }\n",
       "</style>\n",
       "<table border=\"1\" class=\"dataframe\">\n",
       "  <thead>\n",
       "    <tr style=\"text-align: right;\">\n",
       "      <th></th>\n",
       "      <th>0</th>\n",
       "    </tr>\n",
       "  </thead>\n",
       "  <tbody>\n",
       "    <tr>\n",
       "      <th>0</th>\n",
       "      <td>1</td>\n",
       "    </tr>\n",
       "    <tr>\n",
       "      <th>1</th>\n",
       "      <td>2</td>\n",
       "    </tr>\n",
       "    <tr>\n",
       "      <th>2</th>\n",
       "      <td>42</td>\n",
       "    </tr>\n",
       "  </tbody>\n",
       "</table>\n",
       "</div>"
      ],
      "text/plain": [
       "    0\n",
       "0   1\n",
       "1   2\n",
       "2  42"
      ]
     },
     "execution_count": 11,
     "metadata": {},
     "output_type": "execute_result"
    }
   ],
   "source": [
    "pd.DataFrame([1, 2, 42])"
   ]
  },
  {
   "cell_type": "code",
   "execution_count": 12,
   "id": "c9a4d88b-0e9a-407d-b180-37dd04518694",
   "metadata": {},
   "outputs": [
    {
     "data": {
      "text/html": [
       "<div>\n",
       "<style scoped>\n",
       "    .dataframe tbody tr th:only-of-type {\n",
       "        vertical-align: middle;\n",
       "    }\n",
       "\n",
       "    .dataframe tbody tr th {\n",
       "        vertical-align: top;\n",
       "    }\n",
       "\n",
       "    .dataframe thead th {\n",
       "        text-align: right;\n",
       "    }\n",
       "</style>\n",
       "<table border=\"1\" class=\"dataframe\">\n",
       "  <thead>\n",
       "    <tr style=\"text-align: right;\">\n",
       "      <th></th>\n",
       "      <th>number</th>\n",
       "    </tr>\n",
       "  </thead>\n",
       "  <tbody>\n",
       "    <tr>\n",
       "      <th>0</th>\n",
       "      <td>1</td>\n",
       "    </tr>\n",
       "    <tr>\n",
       "      <th>1</th>\n",
       "      <td>2</td>\n",
       "    </tr>\n",
       "    <tr>\n",
       "      <th>2</th>\n",
       "      <td>42</td>\n",
       "    </tr>\n",
       "  </tbody>\n",
       "</table>\n",
       "</div>"
      ],
      "text/plain": [
       "   number\n",
       "0       1\n",
       "1       2\n",
       "2      42"
      ]
     },
     "execution_count": 12,
     "metadata": {},
     "output_type": "execute_result"
    }
   ],
   "source": [
    "pd.DataFrame([1, 2, 42], columns = [\"number\"])"
   ]
  },
  {
   "cell_type": "code",
   "execution_count": 13,
   "id": "b358c6ec-cbce-40d0-9066-5676a1b3856b",
   "metadata": {},
   "outputs": [
    {
     "data": {
      "text/html": [
       "<div>\n",
       "<style scoped>\n",
       "    .dataframe tbody tr th:only-of-type {\n",
       "        vertical-align: middle;\n",
       "    }\n",
       "\n",
       "    .dataframe tbody tr th {\n",
       "        vertical-align: top;\n",
       "    }\n",
       "\n",
       "    .dataframe thead th {\n",
       "        text-align: right;\n",
       "    }\n",
       "</style>\n",
       "<table border=\"1\" class=\"dataframe\">\n",
       "  <thead>\n",
       "    <tr style=\"text-align: right;\">\n",
       "      <th></th>\n",
       "      <th>apple</th>\n",
       "      <th>bananas</th>\n",
       "    </tr>\n",
       "  </thead>\n",
       "  <tbody>\n",
       "    <tr>\n",
       "      <th>0</th>\n",
       "      <td>30</td>\n",
       "      <td>21</td>\n",
       "    </tr>\n",
       "  </tbody>\n",
       "</table>\n",
       "</div>"
      ],
      "text/plain": [
       "   apple  bananas\n",
       "0     30       21"
      ]
     },
     "execution_count": 13,
     "metadata": {},
     "output_type": "execute_result"
    }
   ],
   "source": [
    "# Créer un DF \"fruit\"\n",
    "fruit = [[30, 21]]\n",
    "df = pd.DataFrame(fruit, columns = [\"apple\", \"bananas\"])\n",
    "df"
   ]
  },
  {
   "cell_type": "markdown",
   "id": "df152635-fcc4-4999-86be-975b18346bc6",
   "metadata": {
    "tags": []
   },
   "source": [
    "## Index"
   ]
  },
  {
   "cell_type": "code",
   "execution_count": 14,
   "id": "ddf67acd-62f9-4d47-a04e-cc47e7c36c9b",
   "metadata": {},
   "outputs": [
    {
     "data": {
      "text/html": [
       "<div>\n",
       "<style scoped>\n",
       "    .dataframe tbody tr th:only-of-type {\n",
       "        vertical-align: middle;\n",
       "    }\n",
       "\n",
       "    .dataframe tbody tr th {\n",
       "        vertical-align: top;\n",
       "    }\n",
       "\n",
       "    .dataframe thead th {\n",
       "        text-align: right;\n",
       "    }\n",
       "</style>\n",
       "<table border=\"1\" class=\"dataframe\">\n",
       "  <thead>\n",
       "    <tr style=\"text-align: right;\">\n",
       "      <th></th>\n",
       "      <th>apples</th>\n",
       "      <th>bananas</th>\n",
       "    </tr>\n",
       "  </thead>\n",
       "  <tbody>\n",
       "    <tr>\n",
       "      <th>2017 sales</th>\n",
       "      <td>35</td>\n",
       "      <td>21</td>\n",
       "    </tr>\n",
       "    <tr>\n",
       "      <th>2018 sales</th>\n",
       "      <td>41</td>\n",
       "      <td>34</td>\n",
       "    </tr>\n",
       "  </tbody>\n",
       "</table>\n",
       "</div>"
      ],
      "text/plain": [
       "            apples  bananas\n",
       "2017 sales      35       21\n",
       "2018 sales      41       34"
      ]
     },
     "execution_count": 14,
     "metadata": {},
     "output_type": "execute_result"
    }
   ],
   "source": [
    "data = {\"2017 sales\" : [35, 21], \"2018 sales\" : [41, 34]}\n",
    "x = pd.DataFrame.from_dict(data, orient = \"index\", columns = [\"apples\", \"bananas\"])\n",
    "x"
   ]
  },
  {
   "cell_type": "markdown",
   "id": "58062e33-ce0c-43d1-9237-daadc1183e77",
   "metadata": {},
   "source": [
    ".reset_index() : réinitialise les index d'un df"
   ]
  },
  {
   "cell_type": "markdown",
   "id": "116c75dc-35e2-4aab-ba34-b5491674d9c2",
   "metadata": {
    "tags": []
   },
   "source": [
    "## Manipulation"
   ]
  },
  {
   "cell_type": "markdown",
   "id": "07b18a60-97f8-4cf1-b9e8-85431626a2dd",
   "metadata": {
    "tags": []
   },
   "source": [
    "### Delete / drop"
   ]
  },
  {
   "cell_type": "markdown",
   "id": "cc8d5754-1b3d-4bde-8501-f183fff26276",
   "metadata": {},
   "source": [
    " the first row : df.drop(\"colonne\")\n",
    " the first column : df.drop(x.columns[0], axis = 1)\n",
    " une colonne : df = df.drop([\"colonne\"], axis = 1)"
   ]
  },
  {
   "cell_type": "markdown",
   "id": "314509db-db18-4aec-b96c-47c1613afd26",
   "metadata": {
    "tags": []
   },
   "source": [
    "### Importer un fichier + paramètres"
   ]
  },
  {
   "cell_type": "markdown",
   "id": "c57f98e8-9ee3-4a50-9057-5a5e797fe149",
   "metadata": {},
   "source": [
    "pd.read_(par ex : csv)(\"lien.(par ex : csv)\", sep = \",\")"
   ]
  },
  {
   "cell_type": "markdown",
   "id": "67fd78e2-63d6-4eeb-a512-256296a9a03f",
   "metadata": {},
   "source": [
    "header et names ----- pour les en-têtes et noms des colonnes\n",
    "index_col pour ------ pour le nom des en-têtes de lignes"
   ]
  },
  {
   "cell_type": "markdown",
   "id": "1aa4a91f-af80-4995-99a0-23dc1ade5432",
   "metadata": {},
   "source": [
    "Renommer colonne dès importation : pd.read_csv(\"lien.csv\", sep = \",\", names = [\"nom_colonne1\", \"nom_colonne2\"...])\n",
    "Renommer colonne après importation : df.rename(columns = {\"nom_origine\" : \"nv_nom\"})"
   ]
  },
  {
   "cell_type": "code",
   "execution_count": null,
   "id": "3cee5062-16ba-4dab-ad0f-cf7591903d20",
   "metadata": {},
   "outputs": [],
   "source": [
    "créer un df avec un lien\n",
    "link = \"------\"\n",
    "df = pd.read_csv(link)"
   ]
  },
  {
   "cell_type": "code",
   "execution_count": null,
   "id": "fa010349-946f-442e-bd83-82fcf7e7d0a0",
   "metadata": {},
   "outputs": [],
   "source": [
    "Créer un DF avec + liens de téléchargement\n",
    "\n",
    "dftotal = pd.DataFrame()\n",
    "for year in range(2019, 2023):\n",
    "    year = str(year)\n",
    "    lin_main = \"lien\"+year+\".csv\"\n",
    "    df_main = pd.read_csv(link_main)\n",
    "    dftotal = pd.concat([df_total, df_main])"
   ]
  },
  {
   "cell_type": "markdown",
   "id": "31d3acb6-1a73-426c-b425-0b721f67b670",
   "metadata": {
    "tags": []
   },
   "source": [
    "## Afficher"
   ]
  },
  {
   "cell_type": "markdown",
   "id": "84a1c9d4-8f48-4a37-8e3f-0abc0771f1fa",
   "metadata": {
    "tags": []
   },
   "source": [
    "#### Des lignes"
   ]
  },
  {
   "cell_type": "code",
   "execution_count": null,
   "id": "3968dcc5-31bd-4753-a157-c3392da1f708",
   "metadata": {},
   "outputs": [],
   "source": [
    "5 dernières ------ df.tail() --- on peut mettre entre () le nb de lignes souhaitées\n",
    "5 premières ------ df.head() --- idem\n",
    "3 premières ------ df.iloc[:3]\n",
    "x aléatoire : df.sample(x)  : x nb de lignes aléatoires souhaitées\n",
    "Distribution visuelle de la valeur des colonnes : df.sample(x).style.bar(subset = [\"colonne1\", \"colonne2\"])"
   ]
  },
  {
   "cell_type": "markdown",
   "id": "cf08aaa6-e873-4b61-9f80-183835477909",
   "metadata": {
    "tags": []
   },
   "source": [
    "#### Types et valeurs de chq colonnes"
   ]
  },
  {
   "cell_type": "code",
   "execution_count": null,
   "id": "a84bfd36-1de3-44a6-a71a-4d58bc501399",
   "metadata": {},
   "outputs": [],
   "source": [
    "df.info()\n",
    "df.values : affiche ttes les valeurs du df sous forme d'un array\n",
    "df.[\"nom_colonne\"] : affiche ttes les valeurs d'une colonne\n",
    "df[\"colonne\"].unique() : affiche valeurs uniques ds colonne\n",
    "df[\"colonne\"].nunique() : idem\n",
    "df.astype({\"colonne\" : \"int\"}) : modifie type d'une colonne"
   ]
  },
  {
   "cell_type": "markdown",
   "id": "32fe3aaf-1659-4954-aa3b-ec55b7e500c7",
   "metadata": {
    "tags": []
   },
   "source": [
    "#### Séléctionner 1ligne ou une colonne : SLICING"
   ]
  },
  {
   "cell_type": "code",
   "execution_count": null,
   "id": "2d7959b2-dff1-4a10-a221-1bdd75c027dd",
   "metadata": {},
   "outputs": [],
   "source": [
    "Soit : df.iloc[0, -2:] ----- on sélectionne la 1ère ligne et les 2 dernières colonnes\n",
    "Soit : df.loc[:, \"Nom_colonne\"] ----- on affiche ttes les lignes de la colonne \"nom_colonne\"\n",
    "dernière ligne :  df[-1:]\n",
    "dernière colonne de la dernière ligne : df.iloc[-1, -1]\n",
    "Récupérer noms des colonnes d'un df : df.columns[:] ------ KKN variables explicatives X = df.loc[:columns]\n",
    "Crée un slice du dataset avec uniquement les colonnes numériques : X = df.select_dtypes(include='number')"
   ]
  },
  {
   "cell_type": "markdown",
   "id": "7b4b3c10-3e92-480f-bdc5-ebf67c477068",
   "metadata": {
    "tags": []
   },
   "source": [
    "### Index"
   ]
  },
  {
   "cell_type": "code",
   "execution_count": null,
   "id": "9e088714-6d38-45f6-94b2-f0d877101db9",
   "metadata": {},
   "outputs": [],
   "source": [
    "df = df.set_index(\"nom_colonne\") ---- met en index la première colonne\n",
    "df.insert(5, 'nom_nvlle_colonne', df[\"nom_colonne\"] / df[\"nom_colonne2\"]) --- le 5 correspond à l'indice à lequel insérer la colonne"
   ]
  },
  {
   "cell_type": "markdown",
   "id": "1410fd68-c86f-4424-86ca-10e4e05a452b",
   "metadata": {
    "tags": []
   },
   "source": [
    "## Maths"
   ]
  },
  {
   "cell_type": "code",
   "execution_count": null,
   "id": "72d03c9f-cd3a-477a-a64c-76625b5f3605",
   "metadata": {},
   "outputs": [],
   "source": [
    "Médiane : df[\"colonne\"].median()\n",
    "Moyenne : df[\"star_rating\"].mean()\n",
    "Matrice corrélation : df.corr()\n",
    "Ts les calculs statistiques : df.describe()\n",
    "Distribution des données en % : df[\"col\"].values_counts(True) * 100"
   ]
  },
  {
   "cell_type": "markdown",
   "id": "daad6fa5-121a-4ebc-bf1e-99937e20c77e",
   "metadata": {
    "tags": []
   },
   "source": [
    "## Valeurs nulles/manquantes"
   ]
  },
  {
   "cell_type": "code",
   "execution_count": null,
   "id": "601b8dbb-6698-470f-8b6a-0a606b27c244",
   "metadata": {},
   "outputs": [],
   "source": [
    "Supp valeurs nulles d'une colonne : df = df.dropna(subset = [\"colonne\"])\n",
    "Combien de valeurs manquantes d'une colonne : df[\"colonne\"].isna().sum()\n",
    "Remplir valeurs manquantes d'une colonne : df[\"colonne\"].fillna(\"text\", inplace = True)\n",
    "Ne faire apparaître que les lignes d'une colonne où il y a des valeurs nulles : df[df[\"colonne\"].isna()]\n",
    "Trouver valeurs manquantes parmis ttes les colonnes : df[df.isna().any(axis = 1)]\n",
    "Supp valeurs en doubles : df = df.drop_duplicates()"
   ]
  },
  {
   "cell_type": "markdown",
   "id": "d7434e61-8d99-4604-8b2d-57d430703da6",
   "metadata": {
    "tags": []
   },
   "source": [
    "## EXEMPLES"
   ]
  },
  {
   "cell_type": "code",
   "execution_count": null,
   "id": "ca17a77e-f86e-40a7-8f36-889dd1ae4843",
   "metadata": {},
   "outputs": [],
   "source": [
    "Quel pays a un beerserving > 200 ?\n",
    "df[df[\"nom_colonne\"] > 200]\n",
    "\n",
    "Trier de manière asc selon \"star_rating\" ?\n",
    "df.sort_values(by = [\"star_rating\"])\n",
    "\n",
    "Genre de film le mieux noté ?\n",
    "df.loc[df[\"star_rating\"] > df[\"star_rating\"].max()].iloc[-1, -3]\n",
    "\n",
    "Pourcentage de film ds chq genre ?\n",
    "p = df.groupby([\"genre\"]).count().loc[:, \"title\"]\n",
    "a = p/p.sum()* 100\n",
    "ou\n",
    "df.groupby([\"genre\"][\"title\"].count().sort_values(ascending = False) / df[\"title\"].count().sum() * 100\n",
    "\n",
    "\n",
    "Afficher ttes les lignes avec des films appartenant au genre le moins bien noté (basé sur la moy des films de ce genre)\n",
    "m = df.groupby(\"genre)[\"star_rating\"].mean().idx min()\n",
    "m2 = df.loc[df[\"genre\"] == m]\n",
    "\n",
    "Films qui durent +200min et dt le genre C la lettre h ou H\n",
    "m = df.query(\"genre.str.contains(\"h | H\"] & (duration > 200).loc[:, \"title\"])\n",
    "ou \n",
    "m = df.loc[(df[\"duration\"] > 200) & (df[\"genre\"].astype(str).str.contains(\"h | H\"))]\n",
    "\n",
    "Quel trio d'acteurs est le + mentionné\n",
    "df[\"actors_list\"].mode()\n",
    "\n",
    "Trier df sur colonne de manière croissante\n",
    "df = df.sort_values(by = \"colonne\", ascending = False (ou True))"
   ]
  },
  {
   "cell_type": "markdown",
   "id": "5f11ff6f-62fc-44c1-b0f9-e68fd6ddbd04",
   "metadata": {
    "tags": []
   },
   "source": [
    "## NB"
   ]
  },
  {
   "cell_type": "code",
   "execution_count": null,
   "id": "9b049cdd-e027-41a8-9dd2-5e977f15ad22",
   "metadata": {},
   "outputs": [],
   "source": [
    "inplace = True ---- stock les modifs ds df\n",
    "axis = 0 --- ligne\n",
    "axis = 1 --- colonne\n",
    "aggfunc et groupby : identiques"
   ]
  },
  {
   "cell_type": "markdown",
   "id": "154efd1c-ec9f-458b-b83b-a278d6bb3ce8",
   "metadata": {
    "tags": []
   },
   "source": [
    "# Numpy"
   ]
  },
  {
   "cell_type": "markdown",
   "id": "0022ec1e-0187-4c90-956c-15566404a0c5",
   "metadata": {},
   "source": [
    "NUmpy est une bibliothèque destinée à manipuler des matrices ou tableaux multidimensionnels ainsi que des fct mathématiques sur ces tableaux."
   ]
  },
  {
   "cell_type": "code",
   "execution_count": 1,
   "id": "aab22e27-9c99-4842-8c73-34d8f6f701ea",
   "metadata": {},
   "outputs": [],
   "source": [
    "import numpy as np"
   ]
  },
  {
   "cell_type": "markdown",
   "id": "3d495d7c-5e43-4d05-b8ec-4e7e053aad70",
   "metadata": {
    "tags": []
   },
   "source": [
    "## Convertir en array (matrice)"
   ]
  },
  {
   "cell_type": "code",
   "execution_count": null,
   "id": "6841b7b6-c52b-4ec1-a930-8e67ba8f8747",
   "metadata": {},
   "outputs": [],
   "source": [
    "# création\n",
    "data = [[0,1,2], [10,11,12], [20,21,22], [30,31,32]]\n",
    "data_np = np.array(data)\n",
    "data_np\n",
    "\n",
    "# modification\n",
    "# ex : 1 ligne et 32 colonnes\n",
    "array_2 = np.reshape(data_np, (1,32))"
   ]
  },
  {
   "cell_type": "markdown",
   "id": "bff38f42-0f94-42d0-bfd5-a7aaa239638e",
   "metadata": {
    "tags": []
   },
   "source": [
    "## Sélectionner éléments ds tableaux"
   ]
  },
  {
   "cell_type": "code",
   "execution_count": null,
   "id": "63d82d1c-28f2-4560-8f93-ec5d522e34b5",
   "metadata": {},
   "outputs": [],
   "source": [
    "# élement d'une rangée\n",
    "print(data_np[1,0 : 2])\n",
    "\n",
    "# élément d'une colonne\n",
    "print(data_np[: , 2])\n",
    "\n",
    "# on sélectionne la ligne à l'indice 0 puis on sélectionne les données des colonnes allant de l'indice  à inclus\n",
    "print(data_np[0, 3:5])\n",
    "\n",
    "# lignes aux indices allant de 4 jusqu'à la fin. Puis les colonnes allant de 4 jusqu'à la fin\n",
    "print(data_np[4: , 4:])\n",
    "\n",
    "# ttes les lignes puis les colonnes à l'indice 2\n",
    "print(data_np[:, 2])\n",
    "\n",
    "# les lignes à partir de l'indice 2, puis une ligne sur 2. Puis on sélectionne les colonnes à partir du début puis 1 colonne sur 2\n",
    "print(data_np[2::2, ::2])\n",
    "\n",
    "# si deux matrices\n",
    "# trouver valeur aux index 1 et colonnes 3 et4\n",
    "data_np[:,1 , 2:5]  # se lit matrice, ligne, colonne"
   ]
  },
  {
   "cell_type": "markdown",
   "id": "384b148a-eeee-4459-9677-113bd473b7d5",
   "metadata": {
    "tags": []
   },
   "source": [
    "### Maths sur array"
   ]
  },
  {
   "cell_type": "code",
   "execution_count": 22,
   "id": "204c5b58-5041-4ad2-935b-8753bef949c3",
   "metadata": {},
   "outputs": [
    {
     "name": "stdout",
     "output_type": "stream",
     "text": [
      "[[12  5]\n",
      " [ 8 32]\n",
      " [25  6]\n",
      " [ 7 14]]\n",
      "109\n",
      "[52 57]\n",
      "[17 40 31 21]\n"
     ]
    }
   ],
   "source": [
    "# somme totale\n",
    "liste = [[12,5], [8,32], [25,6], [7,14]]\n",
    "data = np.array(liste)\n",
    "print(data)\n",
    "print(np.sum(data))\n",
    "\n",
    "# somme d'une colonne\n",
    "print(np.sum(data, axis = 0))\n",
    "\n",
    "# somme d'une rangée\n",
    "print(np.sum(data, axis =1))"
   ]
  },
  {
   "cell_type": "markdown",
   "id": "4d1e2f54-2699-43b5-959a-123f9ee4bd86",
   "metadata": {
    "tags": []
   },
   "source": [
    "## taille"
   ]
  },
  {
   "cell_type": "code",
   "execution_count": 15,
   "id": "bc76b8f3-5450-4c1e-ac8c-4f0b3f79423a",
   "metadata": {},
   "outputs": [
    {
     "name": "stdout",
     "output_type": "stream",
     "text": [
      "(4, 3)\n",
      "2\n"
     ]
    }
   ],
   "source": [
    "# taille matrice\n",
    "print(data_np.shape)\n",
    "\n",
    "# nb axes\n",
    "print(data_np.ndim)"
   ]
  },
  {
   "cell_type": "markdown",
   "id": "951117fe-efce-41cf-8ff2-070c544ee29d",
   "metadata": {
    "tags": []
   },
   "source": [
    "# Fonction Apply / Lambda"
   ]
  },
  {
   "cell_type": "markdown",
   "id": "313445ec-ba42-4484-adee-262ecab6d093",
   "metadata": {
    "tags": []
   },
   "source": [
    "## Def"
   ]
  },
  {
   "cell_type": "markdown",
   "id": "0ef7eacc-c32c-44be-afa2-a8f613fa234d",
   "metadata": {},
   "source": [
    "La méthode est l’une des méthodes les plus courantes de prétraitement des données. Il simplifie l’application d’une fonction sur chaque élément d’une série pandas et sur chaque ligne ou colonne d’un DataFrame pandas."
   ]
  },
  {
   "cell_type": "markdown",
   "id": "aadf9fcf-90e2-4550-af7d-14412cf3b833",
   "metadata": {
    "tags": []
   },
   "source": [
    "## EXEMPLES"
   ]
  },
  {
   "cell_type": "code",
   "execution_count": null,
   "id": "3473184a-03aa-479b-b211-8e4254acdc99",
   "metadata": {},
   "outputs": [],
   "source": [
    "def auteur(authors):\n",
    "    return len(authors.split(\"/\"))\n",
    "df[\"nvlle_colonne\"] = df[\"authors\"].apply(auteur)\n",
    "\n",
    "avec lambda : df[\"nvlle_colonne\"] = df[\"authors\"]apply(lambda x : len.split(\"/\")))\n",
    "\n",
    "def x(books):\n",
    "    text = books[\"a\"]\n",
    "    reviews = books[\"c\"]\n",
    "    percentage = (text/reviews) * 100\n",
    "    return percentage\n",
    "books[\"nvlle_colonne\"] = books.apply(x, axis = 1)\n",
    "\n",
    "avec lambda : df[\"nvlle_colonne\"] = df.apply(lambda x : (x[\"colonne\"] / x[\"colonne\"]) * 100, axis = 1)\n",
    "\n",
    "def square(nb):\n",
    "    return nb**2\n",
    "avec lambda en version stockée : a = lambda x : x**2     a(3)\n",
    "avec lambda en version non stockée : (lambda x : x**2)(3)"
   ]
  },
  {
   "cell_type": "code",
   "execution_count": null,
   "id": "b5c12db1-1f8a-4ec9-a71f-9f598240ff57",
   "metadata": {},
   "outputs": [],
   "source": [
    "Somme des nb pairs d'une liste \n",
    "b = sum([i for i in liste if (i%2 == 0)])\n",
    "\n",
    "Valeur absolue des nb d'une liste\n",
    "c = [abs(ele) for ele in test_list]"
   ]
  },
  {
   "cell_type": "markdown",
   "id": "413b970e-4297-440a-a90e-3f7a4e762634",
   "metadata": {
    "tags": []
   },
   "source": [
    "# Fonction datetime"
   ]
  },
  {
   "cell_type": "code",
   "execution_count": 21,
   "id": "b8703e26-fd8d-4883-aec2-f79b89a46b33",
   "metadata": {},
   "outputs": [],
   "source": [
    "from datetime import datetime"
   ]
  },
  {
   "cell_type": "markdown",
   "id": "83f86365-ac54-4112-8966-0cd2649172b9",
   "metadata": {},
   "source": [
    "strptime : convertit chaîne de caractère en format date \n",
    "strftime : convertit le format date en chaîne de caratère\n",
    "%Y avec 4Y donne 2017 avec 2Y donne 17\n",
    "%y avec 2y donne 20"
   ]
  },
  {
   "cell_type": "code",
   "execution_count": 28,
   "id": "e130928f-bba0-4df1-ad79-eae284cc890a",
   "metadata": {},
   "outputs": [
    {
     "name": "stdout",
     "output_type": "stream",
     "text": [
      "2018-01-04 00:00:00\n",
      "<class 'datetime.datetime'>\n"
     ]
    }
   ],
   "source": [
    "# ex\n",
    "#création d'une variable x dans laquelle je vais convertir un str en date\n",
    "x = datetime.strptime(\"2018-01-04\", \"%Y-%m-%d\")\n",
    "print(x)\n",
    "#je print le type de ma variable pour confirmer le passage en format date\n",
    "print(type(x))"
   ]
  },
  {
   "cell_type": "code",
   "execution_count": null,
   "id": "0a85ab2e-7e2e-4b36-acb8-ac479b352031",
   "metadata": {},
   "outputs": [],
   "source": [
    "Passer en format date avec pandas :\n",
    "soit df[\"colonne\"] = pd.to_datetime(df[\"colonne\"])\n",
    "soit df[\"colonne\"].apply(lambda x : datetime.strptime(x, \"%Y-%m-%d)"
   ]
  },
  {
   "cell_type": "code",
   "execution_count": null,
   "id": "6aad5949-e6da-4f6c-bf8f-e1c35231f906",
   "metadata": {},
   "outputs": [],
   "source": [
    "Ajouter jours, semaines, heures\n",
    "datetime.now() +(ou-) timedelta(weeks = 3) (ou days ou hours)\n",
    "print(datetime.now() + timedelta(weeks=7))"
   ]
  },
  {
   "cell_type": "code",
   "execution_count": null,
   "id": "6eaff83f-76c2-4716-b3b7-c37a694fc151",
   "metadata": {},
   "outputs": [],
   "source": [
    "Mettre une colonne en mois/jour/année et l'ajouter au DF\n",
    "df[\"month\"] = df[\"date\"].dt.month"
   ]
  },
  {
   "cell_type": "markdown",
   "id": "ba85bf37-8e22-483e-bdb1-e4df646525eb",
   "metadata": {
    "tags": []
   },
   "source": [
    "# Merge"
   ]
  },
  {
   "cell_type": "code",
   "execution_count": null,
   "id": "62b05770-3061-4e22-bc1a-4ecb52649718",
   "metadata": {},
   "outputs": [],
   "source": [
    "Fusionner deux df par colonne\n",
    "\n",
    "Si noms colonne !=\n",
    "pd.merge(df_left, df_right,\n",
    "         how = \"left\",\n",
    "         left_on = \"nom_colonne_left\",\n",
    "         right_on = \"nom_colonne_right\")\n",
    "\n",
    "si noms colonnes identiques\n",
    "pd.merge(left, right, how = \"left\",\n",
    "         on = [\"key1\", \"key2\"]"
   ]
  },
  {
   "cell_type": "markdown",
   "id": "bd97726f-d868-4deb-b3aa-54881c89646b",
   "metadata": {
    "tags": []
   },
   "source": [
    "# Concat"
   ]
  },
  {
   "cell_type": "code",
   "execution_count": null,
   "id": "aaed684e-d3c9-4fba-84b5-ca16a437b290",
   "metadata": {},
   "outputs": [],
   "source": [
    "Fusionner deux df par lignes\n",
    "\n",
    "pd.concat([df1, df2, df3])"
   ]
  },
  {
   "cell_type": "markdown",
   "id": "b9481872-1c7a-464c-9eab-970c87bc5534",
   "metadata": {
    "tags": []
   },
   "source": [
    "# Pivot table / Cross table"
   ]
  },
  {
   "cell_type": "code",
   "execution_count": null,
   "id": "bcd870bc-a446-46a3-a15c-334c7fcbb400",
   "metadata": {},
   "outputs": [],
   "source": [
    "crosstab() ---- données non basées sur df ----- ex : liste, dictionnaires... --- as a method\n",
    "pivot_table() ---- df --- as a function"
   ]
  },
  {
   "cell_type": "markdown",
   "id": "a3d67477-34bc-4ad0-bcdd-b1cb4db0b7ea",
   "metadata": {
    "tags": []
   },
   "source": [
    "## Synthaxes"
   ]
  },
  {
   "cell_type": "code",
   "execution_count": null,
   "id": "f7186c1c-fb23-4d94-ac66-abe5ea2ca6e5",
   "metadata": {},
   "outputs": [],
   "source": [
    "df.pivot_table(values = \"col1\", index = \"col2\", aggfunc = \"mean\")\n",
    "pd.cross_tab(df.col1, df.col2)\n",
    "pd.cross_tab(columns = df.col1, index = df.col2, values = df.col3, aggfunc = \"max\")"
   ]
  },
  {
   "cell_type": "markdown",
   "id": "a575ffb0-792c-4481-a57f-4c5e3370883d",
   "metadata": {
    "tags": []
   },
   "source": [
    "## EXEMPLES"
   ]
  },
  {
   "cell_type": "code",
   "execution_count": null,
   "id": "aa3b63da-817a-4a66-a55f-e05bd18021c2",
   "metadata": {},
   "outputs": [],
   "source": [
    "Créer mois en rangées, avg Temp et avg Sunhour en colonne\n",
    "df.pivot_table(values = [\"col1\", \"col2\"], index = \"col3\", aggfunc = \"mean\")\n",
    "\n",
    "Chart\n",
    "a = df.pivot_table(...)\n",
    "a.plot(kind = \"bar\")\n",
    "\n",
    "Utiliser Matplotlib, seaborn...\n",
    "a = df.pivot_table(...).reset_index()\n",
    "Puis Matplotlib ou seaborn ..."
   ]
  },
  {
   "cell_type": "markdown",
   "id": "4f42046b-0060-4e34-b2f0-7d4a5747e203",
   "metadata": {
    "tags": []
   },
   "source": [
    "# Explode"
   ]
  },
  {
   "cell_type": "code",
   "execution_count": null,
   "id": "9ca6bb56-df0e-40a6-b6ce-9624bc30d884",
   "metadata": {},
   "outputs": [],
   "source": [
    "Lorsqu'on a une liste : [u'---', u'----'...]\n",
    "df[\"colonne\"] = df[\"colonne\"].apply(eval)\n",
    "                donne : ['---', '-----'...]\n",
    "a = df.explode(\"colonne\")\n",
    "                donne liste ---"
   ]
  },
  {
   "cell_type": "markdown",
   "id": "e3264cbf-0bc1-49da-b392-f6ce9db835cf",
   "metadata": {
    "tags": []
   },
   "source": [
    "# Factoriser / get_dummies()"
   ]
  },
  {
   "cell_type": "code",
   "execution_count": null,
   "id": "f005c3a3-4104-4e06-acd3-00a6d4aac838",
   "metadata": {},
   "outputs": [],
   "source": [
    "factoriser :\n",
    "    df[\"nvlle_colonne\"] = df[\"colonne\"].factorize()[0]\n",
    "ne créé qu'une colonne avaec autant de chiffre que de données (classe (feminin, masculin, lien parenté... max 3/4 valeur)\n",
    "priorité ++ dans les algo de ML\n",
    "\n",
    "get_dummies()\n",
    "    pd.concat([df, df[\"col\"].str.get_dummies()], axis = 1)\n",
    "ou  df_encoded = pd.get_dummies(df['Code_industrie'])\n",
    "ou  df = pd.get_dummies(df, columns=['ChestPainType','RestingECG','ST_Slope'], dtype=bool)\n",
    "créé autant de colonnes que de données\n",
    "priorité moindre dans les algo de ML"
   ]
  },
  {
   "cell_type": "markdown",
   "id": "db56dd64-983b-4e1c-b799-b48c90bf10ed",
   "metadata": {
    "tags": []
   },
   "source": [
    "# EXEMPLES"
   ]
  },
  {
   "cell_type": "code",
   "execution_count": null,
   "id": "c8f24e82-61f1-420f-819a-9f8dfc5c3efa",
   "metadata": {},
   "outputs": [],
   "source": [
    "Créer une fct qui traduit chq valeur possible ds OPINION\n",
    "def translate(str):\n",
    "    translation = {\"bad\" : \"mauvais\", \"good\" : \"bien\"}\n",
    "    if str in translatio.keys():\n",
    "        return translation[str]\n",
    "    else:\n",
    "        return str\n",
    "df[\"OPINION\"] = df[\"OPINION\"].apply(translate)\n",
    "\n",
    "Créer une fct qui regroupe + fct\n",
    "def a(d,e):\n",
    "    def x(i, j):\n",
    "        ---\n",
    "        return\n",
    "    df[\"col\"] = df[\"col\"].apply(a)\n",
    "    df[\"col\"] = df[\"col\"].dt.month"
   ]
  },
  {
   "cell_type": "code",
   "execution_count": null,
   "id": "ce673c12-8c11-4859-881c-b207b30a75cf",
   "metadata": {},
   "outputs": [],
   "source": [
    "Quelle est la ville avec le + rapport de forme \"fireball\" ?\n",
    "df2 = df.groupby(by = [\"shape\", \"city\"]).count().sort_values(\"time\", ascending = False)\n",
    "df2.loc[\"fireball\"]\n",
    "\n",
    "Quelle est la décennie où l'on a représentés le + de cas d'ovnis ?\n",
    "year_count = df[\"time\"].dt.year.value_count()\n",
    "\n",
    "Afficher top 10 des villes où l'on voit le plus d'ovnis en excluant NY ?\n",
    "a = df.groupby(by = [\"city\"]).count().sort_values(\"time\", ascending = False)\n",
    "a = a.reset_index()\n",
    "a = a[a[\"city\"] != \"NY\"].head(10)\n",
    "\n",
    "Regrouper années par décennie (YYYY-MM-DD time) ?\n",
    "df[\"decennie\"] = (df[\"time].dt.year // 10) *10\n",
    "\n",
    "Afficher un df de ces 10 villes avec les décennies où les valeurs seront le nb d'ovnis par combinaison\n",
    "df_top10 = df[df[\"city\"] == \"Seatle\"].groupby([\"decennie\", \"colors_reported\", \"shape_reported\"]).count()[\"time\"]\n",
    "df_top10 = df_top10.reset_index()\n",
    "df_top10[\"city\"] = \"Seatle\"\n",
    "liste_villes = [\"Phoenix\", \"Houston\", \"LA\", ...]\n",
    "for ville in liste_villes:\n",
    "    df_ville = df[df[\"city\"] == ville].groupby([\"decennie\", \"colors_reported\", \"shape_reported\"].count()[\"time\"]\n",
    "    df_ville = df_ville.reset_index()\n",
    "    df_ville[\"city\"] = ville\n",
    "    df_top10 = pd.concat([df_top10, df_ville], ignore_index = True)\n",
    "    \n",
    "df_top10"
   ]
  },
  {
   "cell_type": "code",
   "execution_count": null,
   "id": "07fd1d9e-3db6-4dcc-ae48-1673bb09f769",
   "metadata": {},
   "outputs": [],
   "source": [
    "# Corrélation ::\n",
    "La corrélation est une mesure statistique qui évalue la relation linéaire entre deux variables. La différence entre une corrélation positive et une corrélation négative réside dans la direction de cette relation linéaire.\n",
    "\n",
    "Corrélation positive : Une corrélation positive indique qu'il existe une relation linéaire directe entre les deux variables. Cela signifie que lorsque la valeur d'une variable augmente, la valeur de l'autre variable augmente également. De même, lorsque la valeur d'une variable diminue, la valeur de l'autre variable diminue également. Une corrélation positive est souvent représentée par un coefficient de corrélation compris entre 0 et 1, où une valeur proche de 1 indique une forte corrélation positive.\n",
    "\n",
    "Corrélation négative : Une corrélation négative indique qu'il existe une relation linéaire inverse entre les deux variables. Cela signifie que lorsque la valeur d'une variable augmente, la valeur de l'autre variable diminue, et vice versa. Une corrélation négative est souvent représentée par un coefficient de corrélation compris entre 0 et -1, où une valeur proche de -1 indique une forte corrélation négative.\n",
    "\n",
    "Pour illustrer cela, voici quelques exemples :\n",
    "\n",
    "Corrélation positive : Supposons que vous examiniez la corrélation entre le nombre d'heures d'étude et les scores des examens. Si vous constatez une corrélation positive, cela signifie que lorsque le nombre d'heures d'étude augmente, les scores des examens ont tendance à augmenter également.\n",
    "\n",
    "Corrélation négative : Supposons que vous examiniez la corrélation entre le temps de sommeil et le niveau de fatigue. Si vous constatez une corrélation négative, cela signifie que lorsque le temps de sommeil diminue, le niveau de fatigue a tendance à augmenter.\n",
    "\n",
    "Il est important de noter que la corrélation ne signifie pas nécessairement une relation de causalité (cause et effet) entre les variables. Elle indique simplement la présence d'une relation linéaire entre les variables étudiées."
   ]
  },
  {
   "cell_type": "markdown",
   "id": "a7441548-33e2-4553-87e7-4b6dc9c7bb66",
   "metadata": {},
   "source": [
    "Le machine learning multivarié et le machine learning univarié font référence à des approches différentes en matière d'apprentissage automatique, en fonction du nombre de variables d'entrée utilisées dans le modèle.\n",
    "\n",
    "Machine Learning univarié : Dans le machine learning univarié, le modèle est construit en utilisant une seule variable d'entrée (également appelée prédicteur) pour prédire une variable de sortie (également appelée variable cible). Cela signifie que le modèle ne tient compte que d'une seule caractéristique (ou colonne) pour effectuer les prédictions. Par exemple, si vous souhaitez prédire le prix des maisons en fonction de leur superficie, le modèle univarié n'utiliserait que la superficie comme variable d'entrée.\n",
    "\n",
    "Machine Learning multivarié : Dans le machine learning multivarié, le modèle utilise plusieurs variables d'entrée (prédicteurs) pour prédire une variable de sortie (variable cible). Cela signifie que le modèle prend en compte plusieurs caractéristiques simultanément pour effectuer les prédictions. Par exemple, si vous souhaitez prédire le prix des maisons en fonction de la superficie, du nombre de chambres et de l'emplacement, le modèle multivarié utiliserait toutes ces variables pour faire des prédictions.\n",
    "\n",
    "En résumé, le machine learning univarié se concentre sur l'utilisation d'une seule variable d'entrée pour prédire une variable cible, tandis que le machine learning multivarié utilise plusieurs variables d'entrée simultanément pour effectuer des prédictions plus complexes et prendre en compte les interactions entre les caractéristiques. Le choix entre un modèle univarié et un modèle multivarié dépendra du contexte du problème, de la disponibilité des données et des objectifs spécifiques de prédiction."
   ]
  }
 ],
 "metadata": {
  "kernelspec": {
   "display_name": "Python 3 (ipykernel)",
   "language": "python",
   "name": "python3"
  },
  "language_info": {
   "codemirror_mode": {
    "name": "ipython",
    "version": 3
   },
   "file_extension": ".py",
   "mimetype": "text/x-python",
   "name": "python",
   "nbconvert_exporter": "python",
   "pygments_lexer": "ipython3",
   "version": "3.10.9"
  },
  "toc-autonumbering": true,
  "toc-showtags": false
 },
 "nbformat": 4,
 "nbformat_minor": 5
}
