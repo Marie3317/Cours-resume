{
 "cells": [
  {
   "cell_type": "markdown",
   "id": "b9ba00f1-8aee-44c0-a199-0a17633b3f1e",
   "metadata": {},
   "source": [
    "# Def"
   ]
  },
  {
   "cell_type": "raw",
   "id": "020005f7-1348-4d3b-bc94-3d1e810b05d9",
   "metadata": {},
   "source": [
    "Différence entre HTML et CSS\n",
    "HTML\n",
    "HTML est l'acronyme de High Text Markup Language. Une page HTML est ce qui sous-tend le web : c'est ce format qui sera lu par ton navigateur web.\n",
    "Une page HTML est constituée :\n",
    "\n",
    "du contenu de la page, c'est-à-dire le texte à afficher sur l'écran\n",
    "d'un ensemble de balises pour indiquer le \"rôle\" de chaque élément texte. Par exemple, si cette phrase est un titre, une citation, du corps de texte, un sous-titre, une note de bas de page, etc...\n",
    "Les balises HTML sont toujours entre les caractères < et >. Le contenu sera inséré entre des balises dites \"ouvrantes\" et des balises fermantes. Les balises fermantes sont préfixées par le caractère /.\n",
    "Par exemple, un titre ressemblera à cela :\n",
    "\n",
    "<h1> Title of my first web page </h1>\n",
    "Chaque contenu peut lui-même contenir d'autres balises, et ainsi de suite. Mais attention, il faudra toujours refermer les balises dans l'ordre de leur ouverture, comme des parenthèses en mathématiques. Par exemple :\n",
    "\n",
    "    <body>\n",
    "        <p>This is the first paragraph.</p>\n",
    "       \n",
    "        <p>This is the second paragraph.</p>\n",
    "    </body>\n",
    "Aucune indentation n'est obligatoire techniquement, mais l'indentation et les retours à la ligne sont très fortement conseillées afin de laisser le code lisible.\n",
    "\n",
    "Parfois, certains développeurs peuvent vouloir débattre si HTML est un langage ou non. En effet, le HTML n'est pas un langage car il n'est pas \"dynamique\" : il n'y a pas de possibilité de définir des fonctions, de faire des boucles, etc...\n",
    "Et pourtant, le \"L\" de HTML est pour \"Language\". Alors bon débat à tous! (Mais restez plutôt concentré sur la quête, c'est plus pertinent)"
   ]
  },
  {
   "cell_type": "raw",
   "id": "80c9f401-ac81-4d3c-b823-23a2afca4df9",
   "metadata": {},
   "source": [
    "CSS\n",
    "CSS est l'acronyme de Cascading Style Sheets. Ces fichiers vont décrire la présentation d'une page, c'est-à-dire sous quelle forme le contenu sera affiché.\n",
    "\n",
    "Par exemple, une feuille CSS peut décrire pour une page :\n",
    "\n",
    "un titre doit apparaitre de manière centrée, en gras, souligné avec une police Arial\n",
    "un paragraphe doit apparaitre aligné à gauche, en bleu foncé en police Times\n",
    "Par exemple, cette feuille CSS indique que les titres de type h1 doivent être en bleu sur fond jaune. Et les paragraphes en rouge sur fond jaune. (oui ca doit être moche...)\n",
    "\n",
    "h1 {\n",
    "  color: blue;\n",
    "  background-color: yellow;\n",
    "}\n",
    "\n",
    "p {\n",
    "  color: red;\n",
    "  background-color: yellow;\n",
    "}\n",
    "Le concept à retenir ici est la dissociation de la forme et du fond. Le fichier HTML contient le fond, c'est-à-dire le contenu. Et la feuille CSS contient la forme. C'est beaucoup plus simple pour mettre à jour une charte graphique. Par exemple, si vous décidez que tous les titres de toutes vos pages web doivent maintenant être en vert sur fond jaune, vous n'avez que la feuille CSS à modifier. Et toutes les pages HTML de votre site s'actualiseront."
   ]
  },
  {
   "cell_type": "markdown",
   "id": "47573eee-cb21-410f-8746-9a8c4f21ad46",
   "metadata": {},
   "source": [
    "# EXCERCICE"
   ]
  },
  {
   "cell_type": "raw",
   "id": "f0527a01-7dec-48f8-a46e-cf2ce88dd9d0",
   "metadata": {},
   "source": [
    "C'est à toi de jouer maintenant. Tu vas réaliser ta première page web en utilisant un fichier HTML et une feuille CSS.\n",
    "\n",
    "Avant de commencer, assure-toi de disposer d'un éditeur de texte avec coloration syntaxique, par exemple Sublime Text.\n",
    "\n",
    "Sur ton ordinateur, commence par créer un dossier que tu appelleras comme tu le souhaites. Ouvre ton éditeur de texte, et crée un nouveau fichier que tu enregistreras dans le dossier créé. Tu appelleras ce fichier index.html. Puis crée un second fichier que tu appelleras style.css.\n",
    "\n",
    "Dans le fichier index.html, insère le code suivant :\n",
    "\n",
    "<!DOCTYPE html>\n",
    "<html>\n",
    "<head>\n",
    "<link rel=\"stylesheet\" href=\"style.css\"/>\n",
    "<title> Le titre qui apparaitra dans le navigateur </title>\n",
    "<meta charset=\"UTF-8\">\n",
    "</head>\n",
    "\n",
    "<body>\n",
    "<h1> Ici le titre principal </h1>\n",
    "<p> Et voilà le texte de la page</p>\n",
    "<h2> On peut créer jusqu'à six niveaux de titres en HTML </h2>\n",
    "<p> Et voici un autre paragraphe </p> \n",
    "</body> \n",
    "</html>\n",
    "\n",
    "\n",
    "Dans le fichier style.css, insère le code suivant, et enregistre ton fichier.\n",
    "h1{\n",
    "font-size: 30px;\n",
    "text-align: center;\n",
    "color: #de7471\n",
    "}\n",
    "\n",
    "p{\n",
    "font-size: 20px;\n",
    "text-align: left;\n",
    "font-family: Helvetica, sans-serif;\n",
    "}\n",
    "\n",
    "body {\n",
    "background-color: #007471;\n",
    "}\n",
    "\n",
    "Essaye d'intégrer des liens grâce à la balise a.\n",
    "Par exemple :\n",
    "<a href= \"http://www.wildcodeschool.com\"> titre du lien </a>\n",
    "Essaye aussi d'intégrer une image grâce à la balise img, comme par exemple :\n",
    "\n",
    "<img src= \"https://res.cloudinary.com/wildcodeschool/image/upload/c_fill,h_50/v1/static/irjoy97aq0eol8bf6959\">"
   ]
  }
 ],
 "metadata": {
  "kernelspec": {
   "display_name": "Python 3 (ipykernel)",
   "language": "python",
   "name": "python3"
  },
  "language_info": {
   "codemirror_mode": {
    "name": "ipython",
    "version": 3
   },
   "file_extension": ".py",
   "mimetype": "text/x-python",
   "name": "python",
   "nbconvert_exporter": "python",
   "pygments_lexer": "ipython3",
   "version": "3.10.9"
  }
 },
 "nbformat": 4,
 "nbformat_minor": 5
}
